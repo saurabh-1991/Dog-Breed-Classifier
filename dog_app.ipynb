{
 "cells": [
  {
   "cell_type": "markdown",
   "metadata": {},
   "source": [
    "# Artificial Intelligence Nanodegree\n",
    "\n",
    "## Convolutional Neural Networks\n",
    "\n",
    "## Project: Write an Algorithm for a Dog Identification App \n",
    "\n",
    "---\n",
    "\n",
    "In this notebook, some template code has already been provided for you, and you will need to implement additional functionality to successfully complete this project. You will not need to modify the included code beyond what is requested. Sections that begin with **'(IMPLEMENTATION)'** in the header indicate that the following block of code will require additional functionality which you must provide. Instructions will be provided for each section, and the specifics of the implementation are marked in the code block with a 'TODO' statement. Please be sure to read the instructions carefully! \n",
    "\n",
    "> **Note**: Once you have completed all of the code implementations, you need to finalize your work by exporting the iPython Notebook as an HTML document. Before exporting the notebook to html, all of the code cells need to have been run so that reviewers can see the final implementation and output. You can then export the notebook by using the menu above and navigating to  \\n\",\n",
    "    \"**File -> Download as -> HTML (.html)**. Include the finished document along with this notebook as your submission.\n",
    "\n",
    "In addition to implementing code, there will be questions that you must answer which relate to the project and your implementation. Each section where you will answer a question is preceded by a **'Question X'** header. Carefully read each question and provide thorough answers in the following text boxes that begin with **'Answer:'**. Your project submission will be evaluated based on your answers to each of the questions and the implementation you provide.\n",
    "\n",
    ">**Note:** Code and Markdown cells can be executed using the **Shift + Enter** keyboard shortcut.  Markdown cells can be edited by double-clicking the cell to enter edit mode.\n",
    "\n",
    "The rubric contains _optional_ \"Stand Out Suggestions\" for enhancing the project beyond the minimum requirements. If you decide to pursue the \"Stand Out Suggestions\", you should include the code in this IPython notebook.\n",
    "\n",
    "\n",
    "\n",
    "---\n",
    "### Why We're Here \n",
    "\n",
    "In this notebook, you will make the first steps towards developing an algorithm that could be used as part of a mobile or web app.  At the end of this project, your code will accept any user-supplied image as input.  If a dog is detected in the image, it will provide an estimate of the dog's breed.  If a human is detected, it will provide an estimate of the dog breed that is most resembling.  The image below displays potential sample output of your finished project (... but we expect that each student's algorithm will behave differently!). \n",
    "\n",
    "![Sample Dog Output](images/sample_dog_output.png)\n",
    "\n",
    "In this real-world setting, you will need to piece together a series of models to perform different tasks; for instance, the algorithm that detects humans in an image will be different from the CNN that infers dog breed.  There are many points of possible failure, and no perfect algorithm exists.  Your imperfect solution will nonetheless create a fun user experience!\n",
    "\n",
    "### The Road Ahead\n",
    "\n",
    "We break the notebook into separate steps.  Feel free to use the links below to navigate the notebook.\n",
    "\n",
    "* [Step 0](#step0): Import Datasets\n",
    "* [Step 1](#step1): Detect Humans\n",
    "* [Step 2](#step2): Detect Dogs\n",
    "* [Step 3](#step3): Create a CNN to Classify Dog Breeds (from Scratch)\n",
    "* [Step 4](#step4): Use a CNN to Classify Dog Breeds (using Transfer Learning)\n",
    "* [Step 5](#step5): Create a CNN to Classify Dog Breeds (using Transfer Learning)\n",
    "* [Step 6](#step6): Write your Algorithm\n",
    "* [Step 7](#step7): Test Your Algorithm\n",
    "\n",
    "---\n",
    "<a id='step0'></a>\n",
    "## Step 0: Import Datasets\n",
    "\n",
    "### Import Dog Dataset\n",
    "\n",
    "In the code cell below, we import a dataset of dog images.  We populate a few variables through the use of the `load_files` function from the scikit-learn library:\n",
    "- `train_files`, `valid_files`, `test_files` - numpy arrays containing file paths to images\n",
    "- `train_targets`, `valid_targets`, `test_targets` - numpy arrays containing onehot-encoded classification labels \n",
    "- `dog_names` - list of string-valued dog breed names for translating labels"
   ]
  },
  {
   "cell_type": "code",
   "execution_count": 16,
   "metadata": {
    "pycharm": {
     "is_executing": false
    }
   },
   "outputs": [
    {
     "name": "stdout",
     "output_type": "stream",
     "text": [
      "There are 133 total dog categories.\n",
      "There are 8351 total dog images.\n",
      "\n",
      "There are 6680 training dog images.\n",
      "There are 835 validation dog images.\n",
      "There are 836 test dog images.\n"
     ]
    }
   ],
   "source": [
    "from sklearn.datasets import load_files       \n",
    "from keras.utils import np_utils\n",
    "import numpy as np\n",
    "from glob import glob\n",
    "\n",
    "# define function to load train, test, and validation datasets\n",
    "def load_dataset(path):\n",
    "    data = load_files(path)\n",
    "    dog_files = np.array(data['filenames'])\n",
    "    dog_targets = np_utils.to_categorical(np.array(data['target']), 133)\n",
    "    return dog_files, dog_targets\n",
    "\n",
    "# load train, test, and validation datasets\n",
    "train_files, train_targets = load_dataset('Dataset/dogImages/train')\n",
    "valid_files, valid_targets = load_dataset('Dataset/dogImages/valid')\n",
    "test_files, test_targets = load_dataset('Dataset/dogImages/test')\n",
    "\n",
    "# load list of dog names\n",
    "dog_names = [item[20:-1] for item in sorted(glob(\"Dataset/dogImages/train/*/\"))]\n",
    "\n",
    "# print statistics about the dataset\n",
    "print('There are %d total dog categories.' % len(dog_names))\n",
    "print('There are %s total dog images.\\n' % len(np.hstack([train_files, valid_files, test_files])))\n",
    "print('There are %d training dog images.' % len(train_files))\n",
    "print('There are %d validation dog images.' % len(valid_files))\n",
    "print('There are %d test dog images.'% len(test_files))"
   ]
  },
  {
   "cell_type": "markdown",
   "metadata": {},
   "source": [
    "### Import Human Dataset\n",
    "\n",
    "In the code cell below, we import a dataset of human images, where the file paths are stored in the numpy array `human_files`."
   ]
  },
  {
   "cell_type": "code",
   "execution_count": 17,
   "metadata": {},
   "outputs": [
    {
     "name": "stdout",
     "output_type": "stream",
     "text": [
      "D:/Developement/Udacity_Project/dog-project-master/Dataset/lfw/lfw\\Yoko_Ono\\Yoko_Ono_0001.jpg\n",
      "There are 13233 total human images.\n"
     ]
    }
   ],
   "source": [
    "import random\n",
    "random.seed(8675309)\n",
    "\n",
    "# load filenames in shuffled human dataset\n",
    "human_files = np.array(glob(\"D:/Developement/Udacity_Project/dog-project-master/Dataset/lfw/lfw/*/*\"))\n",
    "random.shuffle(human_files)\n",
    "print (human_files[1])\n",
    "# print statistics about the dataset\n",
    "print('There are %d total human images.' % len(human_files))"
   ]
  },
  {
   "cell_type": "markdown",
   "metadata": {},
   "source": [
    "---\n",
    "<a id='step1'></a>\n",
    "## Step 1: Detect Humans\n",
    "\n",
    "We use OpenCV's implementation of [Haar feature-based cascade classifiers](http://docs.opencv.org/trunk/d7/d8b/tutorial_py_face_detection.html) to detect human faces in images.  OpenCV provides many pre-trained face detectors, stored as XML files on [github](https://github.com/opencv/opencv/tree/master/data/haarcascades).  We have downloaded one of these detectors and stored it in the `haarcascades` directory.\n",
    "\n",
    "In the next code cell, we demonstrate how to use this detector to find human faces in a sample image."
   ]
  },
  {
   "cell_type": "code",
   "execution_count": 18,
   "metadata": {},
   "outputs": [
    {
     "name": "stdout",
     "output_type": "stream",
     "text": [
      "D:/Developement/Udacity_Project/dog-project-master/Dataset/lfw/lfw\\Laurence_Fishburne\\Laurence_Fishburne_0001.jpg\n",
      "Number of faces detected: 1\n"
     ]
    },
    {
     "data": {
      "image/png": "[encoded data removed]",
      "text/plain": [
       "<matplotlib.figure.Figure at 0x19b183bef60>"
      ]
     },
     "metadata": {
      "needs_background": "light"
     },
     "output_type": "display_data"
    }
   ],
   "source": [
    "import cv2                \n",
    "import matplotlib.pyplot as plt                        \n",
    "%matplotlib inline                               \n",
    "\n",
    "# extract pre-trained face detector\n",
    "face_cascade = cv2.CascadeClassifier('haarcascades/haarcascade_frontalface_alt.xml')\n",
    "print(human_files[3])\n",
    "# load color (BGR) image\n",
    "img = cv2.imread(human_files[3])\n",
    "\n",
    "# convert BGR image to grayscale\n",
    "gray = cv2.cvtColor(img, cv2.COLOR_BGR2GRAY)\n",
    "\n",
    "# find faces in image\n",
    "faces = face_cascade.detectMultiScale(gray)\n",
    "\n",
    "# print number of faces detected in the image\n",
    "print('Number of faces detected:', len(faces))\n",
    "\n",
    "# get bounding box for each detected face\n",
    "for (x,y,w,h) in faces:\n",
    "    # add bounding box to color image\n",
    "    cv2.rectangle(img,(x,y),(x+w,y+h),(255,0,0),2)\n",
    "    \n",
    "# convert BGR image to RGB for plotting\n",
    "cv_rgb = cv2.cvtColor(img, cv2.COLOR_BGR2RGB)\n",
    "\n",
    "# display the image, along with bounding box\n",
    "plt.imshow(cv_rgb)\n",
    "plt.show()"
   ]
  },
  {
   "cell_type": "markdown",
   "metadata": {},
   "source": [
    "Before using any of the face detectors, it is standard procedure to convert the images to grayscale.  The `detectMultiScale` function executes the classifier stored in `face_cascade` and takes the grayscale image as a parameter.  \n",
    "\n",
    "In the above code, `faces` is a numpy array of detected faces, where each row corresponds to a detected face.  Each detected face is a 1D array with four entries that specifies the bounding box of the detected face.  The first two entries in the array (extracted in the above code as `x` and `y`) specify the horizontal and vertical positions of the top left corner of the bounding box.  The last two entries in the array (extracted here as `w` and `h`) specify the width and height of the box.\n",
    "\n",
    "### Write a Human Face Detector\n",
    "\n",
    "We can use this procedure to write a function that returns `True` if a human face is detected in an image and `False` otherwise.  This function, aptly named `face_detector`, takes a string-valued file path to an image as input and appears in the code block below."
   ]
  },
  {
   "cell_type": "code",
   "execution_count": 19,
   "metadata": {
    "pycharm": {
     "is_executing": false
    }
   },
   "outputs": [],
   "source": [
    "# returns \"True\" if face is detected in image stored at img_path\n",
    "\n",
    "def face_detector(img_path):\n",
    "    img = cv2.imread(img_path)\n",
    "    gray = cv2.cvtColor(img, cv2.COLOR_BGR2GRAY)\n",
    "    faces = face_cascade.detectMultiScale(gray)\n",
    "    return len(faces) > 0"
   ]
  },
  {
   "cell_type": "markdown",
   "metadata": {},
   "source": [
    "### (IMPLEMENTATION) Assess the Human Face Detector\n",
    "\n",
    "__Question 1:__ Use the code cell below to test the performance of the `face_detector` function.  \n",
    "- What percentage of the first 100 images in `human_files` have a detected human face?  \n",
    "- What percentage of the first 100 images in `dog_files` have a detected human face? \n",
    "\n",
    "Ideally, we would like 100% of human images with a detected face and 0% of dog images with a detected face.  You will see that our algorithm falls short of this goal, but still gives acceptable performance.  We extract the file paths for the first 100 images from each of the datasets and store them in the numpy arrays `human_files_short` and `dog_files_short`.\n",
    "\n",
    "__Answer:__ "
   ]
  },
  {
   "cell_type": "code",
   "execution_count": 20,
   "metadata": {},
   "outputs": [
    {
     "name": "stdout",
     "output_type": "stream",
     "text": [
      "Human Accuracy: 99%\n",
      "Dog Accuracy: 89%\n"
     ]
    }
   ],
   "source": [
    "human_files_short = human_files[:100]\n",
    "dog_files_short = train_files[:100]\n",
    "# Do NOT modify the code above this line.\n",
    "## TODO: Test the performance of the face_detector algorithm\n",
    "## on the images in human_files_short and dog_files_short.\n",
    "human_counter = 0\n",
    "dog_counter = 0\n",
    "for h_filename, d_filename in zip(human_files_short, dog_files_short):\n",
    "    if face_detector(h_filename):\n",
    "        human_counter += 1    \n",
    "    if not face_detector(d_filename):\n",
    "        dog_counter+= 1\n",
    "print ('Human Accuracy: %d%%'%human_counter)\n",
    "print ('Dog Accuracy: %d%%'%dog_counter)"
   ]
  },
  {
   "cell_type": "markdown",
   "metadata": {},
   "source": [
    "__Question 2:__ This algorithmic choice necessitates that we communicate to the user that we accept human images only when they provide a clear view of a face (otherwise, we risk having unneccessarily frustrated users!). In your opinion, is this a reasonable expectation to pose on the user? If not, can you think of a way to detect humans in images that does not necessitate an image with a clearly presented face?\n",
    "\n",
    "__Answer:__\n",
    "\n",
    "We suggest the face detector from OpenCV as a potential way to detect human images in your algorithm, but you are free to explore other approaches, especially approaches that make use of deep learning :).  Please use the code cell below to design and test your own face detection algorithm.  If you decide to pursue this _optional_ task, report performance on each of the datasets."
   ]
  },
  {
   "cell_type": "code",
   "execution_count": 21,
   "metadata": {},
   "outputs": [],
   "source": [
    "## (Optional) TODO: Report the performance of another  \n",
    "## face detection algorithm on the LFW dataset\n",
    "### Feel free to use as many code cells as needed."
   ]
  },
  {
   "cell_type": "markdown",
   "metadata": {},
   "source": [
    "---\n",
    "<a id='step2'></a>\n",
    "## Step 2: Detect Dogs\n",
    "\n",
    "In this section, we use a pre-trained [ResNet-50](http://ethereon.github.io/netscope/#/gist/db945b393d40bfa26006) model to detect dogs in images.  Our first line of code downloads the ResNet-50 model, along with weights that have been trained on [ImageNet](http://www.image-net.org/), a very large, very popular dataset used for image classification and other vision tasks.  ImageNet contains over 10 million URLs, each linking to an image containing an object from one of [1000 categories](https://gist.github.com/yrevar/942d3a0ac09ec9e5eb3a).  Given an image, this pre-trained ResNet-50 model returns a prediction (derived from the available categories in ImageNet) for the object that is contained in the image."
   ]
  },
  {
   "cell_type": "code",
   "execution_count": 22,
   "metadata": {
    "scrolled": false
   },
   "outputs": [],
   "source": [
    "from keras.applications.resnet50 import ResNet50\n",
    "# define ResNet50 model\n",
    "ResNet50_model = ResNet50(weights='imagenet')"
   ]
  },
  {
   "cell_type": "code",
   "execution_count": 23,
   "metadata": {},
   "outputs": [
    {
     "ename": "SyntaxError",
     "evalue": "invalid syntax (<ipython-input-23-5993a01b333e>, line 3)",
     "output_type": "error",
     "traceback": [
      "\u001b[1;36m  File \u001b[1;32m\"<ipython-input-23-5993a01b333e>\"\u001b[1;36m, line \u001b[1;32m3\u001b[0m\n\u001b[1;33m    When using TensorFlow as backend, Keras CNNs require a 4D array (which we'll also refer to as a 4D tensor) as input, with shape\u001b[0m\n\u001b[1;37m             ^\u001b[0m\n\u001b[1;31mSyntaxError\u001b[0m\u001b[1;31m:\u001b[0m invalid syntax\n"
     ]
    }
   ],
   "source": [
    "### Pre-process the Data\n",
    "\n",
    "When using TensorFlow as backend, Keras CNNs require a 4D array (which we'll also refer to as a 4D tensor) as input, with shape\n",
    "\n",
    "$$\n",
    "(\\text{nb_samples}, \\text{rows}, \\text{columns}, \\text{channels}),\n",
    "$$\n",
    "\n",
    "where `nb_samples` corresponds to the total number of images (or samples), and `rows`, `columns`, and `channels` correspond to the number of rows, columns, and channels for each image, respectively.  \n",
    "\n",
    "The `path_to_tensor` function below takes a string-valued file path to a color image as input and returns a 4D tensor suitable for supplying to a Keras CNN.  The function first loads the image and resizes it to a square image that is $224 \\times 224$ pixels.  Next, the image is converted to an array, which is then resized to a 4D tensor.  In this case, since we are working with color images, each image has three channels.  Likewise, since we are processing a single image (or sample), the returned tensor will always have shape\n",
    "\n",
    "$$\n",
    "(1, 224, 224, 3).\n",
    "$$\n",
    "\n",
    "The `paths_to_tensor` function takes a numpy array of string-valued image paths as input and returns a 4D tensor with shape \n",
    "\n",
    "$$\n",
    "(\\text{nb_samples}, 224, 224, 3).\n",
    "$$\n",
    "\n",
    "Here, `nb_samples` is the number of samples, or number of images, in the supplied array of image paths.  It is best to think of `nb_samples` as the number of 3D tensors (where each 3D tensor corresponds to a different image) in your dataset!"
   ]
  },
  {
   "cell_type": "code",
   "execution_count": 33,
   "metadata": {},
   "outputs": [],
   "source": [
    "from keras.preprocessing import image                  \n",
    "from tqdm import tqdm\n",
    "\n",
    "def path_to_tensor(img_path):\n",
    "    # loads RGB image as PIL.Image.Image type\n",
    "    img = image.load_img(img_path, target_size=(224, 224))\n",
    "    # convert PIL.Image.Image type to 3D tensor with shape (224, 224, 3)\n",
    "    x = image.img_to_array(img)\n",
    "    # convert 3D tensor to 4D tensor with shape (1, 224, 224, 3) and return 4D tensor\n",
    "    return np.expand_dims(x, axis=0)\n",
    "\n",
    "def paths_to_tensor(img_paths):\n",
    "    list_of_tensors = [path_to_tensor(img_path) for img_path in tqdm(img_paths)]\n",
    "    return np.vstack(list_of_tensors)"
   ]
  },
  {
   "cell_type": "markdown",
   "metadata": {},
   "source": [
    "### Making Predictions with ResNet-50\n",
    "\n",
    "Getting the 4D tensor ready for ResNet-50, and for any other pre-trained model in Keras, requires some additional processing.  First, the RGB image is converted to BGR by reordering the channels.  All pre-trained models have the additional normalization step that the mean pixel (expressed in RGB as $[103.939, 116.779, 123.68]$ and calculated from all pixels in all images in ImageNet) must be subtracted from every pixel in each image.  This is implemented in the imported function `preprocess_input`.  If you're curious, you can check the code for `preprocess_input` [here](https://github.com/fchollet/keras/blob/master/keras/applications/imagenet_utils.py).\n",
    "\n",
    "Now that we have a way to format our image for supplying to ResNet-50, we are now ready to use the model to extract the predictions.  This is accomplished with the `predict` method, which returns an array whose $i$-th entry is the model's predicted probability that the image belongs to the $i$-th ImageNet category.  This is implemented in the `ResNet50_predict_labels` function below.\n",
    "\n",
    "By taking the argmax of the predicted probability vector, we obtain an integer corresponding to the model's predicted object class, which we can identify with an object category through the use of this [dictionary](https://gist.github.com/yrevar/942d3a0ac09ec9e5eb3a). "
   ]
  },
  {
   "cell_type": "code",
   "execution_count": 34,
   "metadata": {},
   "outputs": [],
   "source": [
    "from keras.applications.resnet50 import preprocess_input, decode_predictions\n",
    "\n",
    "def ResNet50_predict_labels(img_path):\n",
    "    # returns prediction vector for image located at img_path\n",
    "    img = preprocess_input(path_to_tensor(img_path))\n",
    "    return np.argmax(ResNet50_model.predict(img))"
   ]
  },
  {
   "cell_type": "markdown",
   "metadata": {},
   "source": [
    "### Write a Dog Detector\n",
    "\n",
    "While looking at the [dictionary](https://gist.github.com/yrevar/942d3a0ac09ec9e5eb3a), you will notice that the categories corresponding to dogs appear in an uninterrupted sequence and correspond to dictionary keys 151-268, inclusive, to include all categories from `'Chihuahua'` to `'Mexican hairless'`.  Thus, in order to check to see if an image is predicted to contain a dog by the pre-trained ResNet-50 model, we need only check if the `ResNet50_predict_labels` function above returns a value between 151 and 268 (inclusive).\n",
    "\n",
    "We use these ideas to complete the `dog_detector` function below, which returns `True` if a dog is detected in an image (and `False` if not)."
   ]
  },
  {
   "cell_type": "code",
   "execution_count": 35,
   "metadata": {},
   "outputs": [],
   "source": [
    "### returns \"True\" if a dog is detected in the image stored at img_path\n",
    "def dog_detector(img_path):\n",
    "    prediction = ResNet50_predict_labels(img_path)\n",
    "    return ((prediction <= 268) & (prediction >= 151)) "
   ]
  },
  {
   "cell_type": "markdown",
   "metadata": {},
   "source": [
    "### (IMPLEMENTATION) Assess the Dog Detector\n",
    "\n",
    "__Question 3:__ Use the code cell below to test the performance of your `dog_detector` function.  \n",
    "- What percentage of the images in `human_files_short` have a detected dog?  \n",
    "- What percentage of the images in `dog_files_short` have a detected dog?\n",
    "\n",
    "__Answer:__ "
   ]
  },
  {
   "cell_type": "code",
   "execution_count": 36,
   "metadata": {},
   "outputs": [
    {
     "name": "stdout",
     "output_type": "stream",
     "text": [
      "Accuracy on Human dataset:-99 %\n",
      "Dogs detected in Dogs dataset:-100 %\n"
     ]
    }
   ],
   "source": [
    "### TODO: Test the performance of the dog_detector function\n",
    "### on the images in human_files_short and dog_files_short.\n",
    "dog_counter1 = 0\n",
    "dog_counter2 = 0\n",
    "for h_filename, d_filename in zip(human_files_short, dog_files_short):\n",
    "    if not dog_detector(h_filename):\n",
    "        dog_counter1 += 1    \n",
    "    if dog_detector(d_filename):\n",
    "        dog_counter2+= 1\n",
    "print(\"Accuracy on Human dataset:-%d %%\" %(dog_counter1/100 *100))\n",
    "print(\"Dogs detected in Dogs dataset:-%d %%\" %(dog_counter2/100 *100))"
   ]
  },
  {
   "cell_type": "markdown",
   "metadata": {},
   "source": [
    "---\n",
    "<a id='step3'></a>\n",
    "## Step 3: Create a CNN to Classify Dog Breeds (from Scratch)\n",
    "\n",
    "Now that we have functions for detecting humans and dogs in images, we need a way to predict breed from images.  In this step, you will create a CNN that classifies dog breeds.  You must create your CNN _from scratch_ (so, you can't use transfer learning _yet_!), and you must attain a test accuracy of at least 1%.  In Step 5 of this notebook, you will have the opportunity to use transfer learning to create a CNN that attains greatly improved accuracy.\n",
    "\n",
    "Be careful with adding too many trainable layers!  More parameters means longer training, which means you are more likely to need a GPU to accelerate the training process.  Thankfully, Keras provides a handy estimate of the time that each epoch is likely to take; you can extrapolate this estimate to figure out how long it will take for your algorithm to train. \n",
    "\n",
    "We mention that the task of assigning breed to dogs from images is considered exceptionally challenging.  To see why, consider that *even a human* would have great difficulty in distinguishing between a Brittany and a Welsh Springer Spaniel.  \n",
    "\n",
    "Brittany | Welsh Springer Spaniel\n",
    "- | - \n",
    "<img src=\"images/Brittany_02625.jpg\" width=\"100\"> | <img src=\"images/Welsh_springer_spaniel_08203.jpg\" width=\"200\">\n",
    "\n",
    "It is not difficult to find other dog breed pairs with minimal inter-class variation (for instance, Curly-Coated Retrievers and American Water Spaniels).  \n",
    "\n",
    "Curly-Coated Retriever | American Water Spaniel\n",
    "- | -\n",
    "<img src=\"images/Curly-coated_retriever_03896.jpg\" width=\"200\"> | <img src=\"images/American_water_spaniel_00648.jpg\" width=\"200\">\n",
    "\n",
    "\n",
    "Likewise, recall that labradors come in yellow, chocolate, and black.  Your vision-based algorithm will have to conquer this high intra-class variation to determine how to classify all of these different shades as the same breed.  \n",
    "\n",
    "Yellow Labrador | Chocolate Labrador | Black Labrador\n",
    "- | -\n",
    "<img src=\"images/Labrador_retriever_06457.jpg\" width=\"150\"> | <img src=\"images/Labrador_retriever_06455.jpg\" width=\"240\"> | <img src=\"images/Labrador_retriever_06449.jpg\" width=\"220\">\n",
    "\n",
    "We also mention that random chance presents an exceptionally low bar: setting aside the fact that the classes are slightly imabalanced, a random guess will provide a correct answer roughly 1 in 133 times, which corresponds to an accuracy of less than 1%.  \n",
    "\n",
    "Remember that the practice is far ahead of the theory in deep learning.  Experiment with many different architectures, and trust your intuition.  And, of course, have fun! \n",
    "\n",
    "### Pre-process the Data\n",
    "\n",
    "We rescale the images by dividing every pixel in every image by 255."
   ]
  },
  {
   "cell_type": "code",
   "execution_count": null,
   "metadata": {},
   "outputs": [],
   "source": [
    "from PIL import ImageFile                            \n",
    "ImageFile.LOAD_TRUNCATED_IMAGES = True                 \n",
    "\n",
    "# pre-process the data for Keras\n",
    "train_tensors = paths_to_tensor(train_files).astype('float32')/255\n",
    "valid_tensors = paths_to_tensor(valid_files).astype('float32')/255\n",
    "test_tensors = paths_to_tensor(test_files).astype('float32')/255"
   ]
  },
  {
   "cell_type": "markdown",
   "metadata": {},
   "source": [
    "### (IMPLEMENTATION) Model Architecture\n",
    "\n",
    "Create a CNN to classify dog breed.  At the end of your code cell block, summarize the layers of your model by executing the line:\n",
    "    \n",
    "        model.summary()\n",
    "\n",
    "We have imported some Python modules to get you started, but feel free to import as many modules as you need.  If you end up getting stuck, here's a hint that specifies a model that trains relatively fast on CPU and attains >1% test accuracy in 5 epochs:\n",
    "\n",
    "![Sample CNN](images/sample_cnn.png)\n",
    "           \n",
    "__Question 4:__ Outline the steps you took to get to your final CNN architecture and your reasoning at each step.  If you chose to use the hinted architecture above, describe why you think that CNN architecture should work well for the image classification task.\n",
    "\n",
    "__Answer:__ "
   ]
  },
  {
   "cell_type": "code",
   "execution_count": null,
   "metadata": {},
   "outputs": [],
   "source": [
    "from keras.layers import Conv2D, MaxPooling2D, GlobalAveragePooling2D\n",
    "from keras.layers import Dropout, Flatten, Dense\n",
    "from keras.models import Sequential\n",
    "row,col,ch = train_tensors.shape[1:]\n",
    "output_classes = len(train_targets[0][:])\n",
    "model = Sequential()\n",
    "\n",
    "### TODO: Define your architecture.\n",
    "# layer-1 convolution 2d \n",
    "model.add(Conv2D(16, 5, strides=2,input_shape=(row,col,ch) ,padding=\"same\", activation=\"relu\",\n",
    "                 kernel_initializer='glorot_uniform',bias_initializer='zeros',name ='conv1'))\n",
    "# First Maxpool layer kernel size =2 , strides = 1\n",
    "model.add(MaxPooling2D(pool_size=2))#(2, 2), strides=(1,1), padding='same', data_format=None,name ='Maxpool1'))\n",
    "  \n",
    "# layer-2 convolution 2d \n",
    "model.add(Conv2D(32,5,strides=2,padding=\"same\",name='conv2',activation=\"relu\"))\n",
    "# 2nd Maxpool layer kernel size =2 , strides = 1\n",
    "model.add(MaxPooling2D(pool_size=2))#(2, 2), strides=(1,1), padding='same', data_format=None,name ='Maxpool2'))\n",
    "          \n",
    "# # layer-3 convolution 2d \n",
    "# model.add(Conv2D(32, 5,strides=2,padding=\"same\", activation=\"relu\", \n",
    "#                  kernel_initializer='glorot_uniform',bias_initializer='zeros',name ='conv3'))\n",
    "# # 3rd Maxpool layer kernel size =2 , strides = 1\n",
    "# model.add(MaxPooling2D(pool_size=(2, 2), strides=(1,1), padding='valid', data_format=None,name ='Maxpool3'))\n",
    "  \n",
    "# layer-4 convolution 2d \n",
    "model.add(Conv2D(64,5,strides=2,padding=\"same\", activation=\"relu\", \n",
    "                 kernel_initializer='glorot_uniform',bias_initializer='zeros',name ='conv4'))\n",
    "# 4th Maxpool layer kernel size =2 , strides = 1\n",
    "model.add(MaxPooling2D(pool_size=2))#, 2), strides=(1,1), padding='same', data_format=None,name ='Maxpool4'))\n",
    "          \n",
    "# layer-5 convolution 2d \n",
    "model.add(Conv2D(128,3,strides=2,padding=\"same\", activation=\"relu\", \n",
    "                 kernel_initializer='glorot_uniform',bias_initializer='zeros',name ='conv5'))\n",
    "# 5th Maxpool layer kernel size =2 , strides = 1\n",
    "model.add(MaxPooling2D(pool_size=2))#, strides=(1,1), padding='same', data_format=None,name ='Maxpool5'))\n",
    "\n",
    "# Flatten layer\n",
    "model.add(Flatten())\n",
    "# model.add(Dropout(0.7))\n",
    "          \n",
    "# Dense layer with 128 neurons and Relu activation\n",
    "# model.add(Dense(500, name='dense1', activation= 'relu'))\n",
    "# model.add(Dropout(0.7))\n",
    "          \n",
    "# Ouput layer with softmax activation\n",
    "model.add(Dense(output_classes, activation='softmax', name = 'output'))\n",
    "\n",
    "model.summary()"
   ]
  },
  {
   "cell_type": "markdown",
   "metadata": {},
   "source": [
    "### Compile the Model"
   ]
  },
  {
   "cell_type": "code",
   "execution_count": null,
   "metadata": {},
   "outputs": [],
   "source": [
    "model.compile(optimizer='rmsprop', loss='categorical_crossentropy', metrics=['accuracy'])"
   ]
  },
  {
   "cell_type": "markdown",
   "metadata": {},
   "source": [
    "### (IMPLEMENTATION) Train the Model\n",
    "\n",
    "Train your model in the code cell below.  Use model checkpointing to save the model that attains the best validation loss.\n",
    "\n",
    "You are welcome to [augment the training data](https://blog.keras.io/building-powerful-image-classification-models-using-very-little-data.html), but this is not a requirement. "
   ]
  },
  {
   "cell_type": "code",
   "execution_count": null,
   "metadata": {},
   "outputs": [],
   "source": [
    "from keras.callbacks import ModelCheckpoint  \n",
    "\n",
    "### TODO: specify the number of epochs that you would like to use to train the model.\n",
    "\n",
    "epochs = 20\n",
    "\n",
    "### Do NOT modify the code below this line.\n",
    "\n",
    "checkpointer = ModelCheckpoint(filepath='saved_models/weights.best.from_scratch.hdf5', \n",
    "                               verbose=1, save_best_only=True)\n",
    "\n",
    "model.fit(train_tensors, train_targets, \n",
    "          validation_data=(valid_tensors, valid_targets),\n",
    "          epochs=epochs, batch_size=20, callbacks=[checkpointer], verbose=2)"
   ]
  },
  {
   "cell_type": "markdown",
   "metadata": {},
   "source": [
    "### Load the Model with the Best Validation Loss"
   ]
  },
  {
   "cell_type": "code",
   "execution_count": null,
   "metadata": {},
   "outputs": [],
   "source": [
    "model.load_weights('saved_models/weights.best.from_scratch.hdf5')"
   ]
  },
  {
   "cell_type": "markdown",
   "metadata": {},
   "source": [
    "### Test the Model\n",
    "\n",
    "Try out your model on the test dataset of dog images.  Ensure that your test accuracy is greater than 1%."
   ]
  },
  {
   "cell_type": "code",
   "execution_count": null,
   "metadata": {},
   "outputs": [],
   "source": [
    "# get index of predicted dog breed for each image in test set\n",
    "dog_breed_predictions = [np.argmax(model.predict(np.expand_dims(tensor, axis=0))) for tensor in test_tensors]\n",
    "\n",
    "# report test accuracy\n",
    "test_accuracy = 100*np.sum(np.array(dog_breed_predictions)==np.argmax(test_targets, axis=1))/len(dog_breed_predictions)\n",
    "print('Test accuracy: %.4f%%' % test_accuracy)"
   ]
  },
  {
   "cell_type": "markdown",
   "metadata": {},
   "source": [
    "---\n",
    "<a id='step4'></a>\n",
    "## Step 4: Use a CNN to Classify Dog Breeds\n",
    "\n",
    "To reduce training time without sacrificing accuracy, we show you how to train a CNN using transfer learning.  In the following step, you will get a chance to use transfer learning to train your own CNN.\n",
    "\n",
    "### Obtain Bottleneck Features"
   ]
  },
  {
   "cell_type": "code",
   "execution_count": null,
   "metadata": {},
   "outputs": [],
   "source": [
    "bottleneck_features = np.load('bottleneck_features/DogVGG16Data.npz')\n",
    "train_VGG16 = bottleneck_features['train']\n",
    "valid_VGG16 = bottleneck_features['valid']\n",
    "test_VGG16 = bottleneck_features['test']"
   ]
  },
  {
   "cell_type": "markdown",
   "metadata": {},
   "source": [
    "### Model Architecture\n",
    "\n",
    "The model uses the the pre-trained VGG-16 model as a fixed feature extractor, where the last convolutional output of VGG-16 is fed as input to our model.  We only add a global average pooling layer and a fully connected layer, where the latter contains one node for each dog category and is equipped with a softmax."
   ]
  },
  {
   "cell_type": "code",
   "execution_count": null,
   "metadata": {},
   "outputs": [],
   "source": [
    "VGG16_model = Sequential()\n",
    "VGG16_model.add(GlobalAveragePooling2D(input_shape=train_VGG16.shape[1:]))\n",
    "VGG16_model.add(Dense(133, activation='softmax'))\n",
    "\n",
    "VGG16_model.summary()"
   ]
  },
  {
   "cell_type": "markdown",
   "metadata": {},
   "source": [
    "### Compile the Model"
   ]
  },
  {
   "cell_type": "code",
   "execution_count": null,
   "metadata": {},
   "outputs": [],
   "source": [
    "VGG16_model.compile(loss='categorical_crossentropy', optimizer='rmsprop', metrics=['accuracy'])"
   ]
  },
  {
   "cell_type": "markdown",
   "metadata": {},
   "source": [
    "### Train the Model"
   ]
  },
  {
   "cell_type": "code",
   "execution_count": null,
   "metadata": {},
   "outputs": [],
   "source": [
    "checkpointer = ModelCheckpoint(filepath='saved_models/weights.best.VGG16.hdf5', \n",
    "                               verbose=1, save_best_only=True)\n",
    "\n",
    "VGG16_model.fit(train_VGG16, train_targets, \n",
    "          validation_data=(valid_VGG16, valid_targets),\n",
    "          epochs=20, batch_size=20, callbacks=[checkpointer], verbose=1)"
   ]
  },
  {
   "cell_type": "markdown",
   "metadata": {},
   "source": [
    "### Load the Model with the Best Validation Loss"
   ]
  },
  {
   "cell_type": "code",
   "execution_count": null,
   "metadata": {},
   "outputs": [],
   "source": [
    "VGG16_model.load_weights('saved_models/weights.best.VGG16.hdf5')"
   ]
  },
  {
   "cell_type": "markdown",
   "metadata": {},
   "source": [
    "### Test the Model\n",
    "\n",
    "Now, we can use the CNN to test how well it identifies breed within our test dataset of dog images.  We print the test accuracy below."
   ]
  },
  {
   "cell_type": "code",
   "execution_count": null,
   "metadata": {},
   "outputs": [],
   "source": [
    "# get index of predicted dog breed for each image in test set\n",
    "VGG16_predictions = [np.argmax(VGG16_model.predict(np.expand_dims(feature, axis=0))) for feature in test_VGG16]\n",
    "\n",
    "# report test accuracy\n",
    "test_accuracy = 100*np.sum(np.array(VGG16_predictions)==np.argmax(test_targets, axis=1))/len(VGG16_predictions)\n",
    "print('Test accuracy: %.4f%%' % test_accuracy)"
   ]
  },
  {
   "cell_type": "markdown",
   "metadata": {},
   "source": [
    "### Predict Dog Breed with the Model"
   ]
  },
  {
   "cell_type": "code",
   "execution_count": null,
   "metadata": {},
   "outputs": [],
   "source": [
    "from extract_bottleneck_features import *\n",
    "\n",
    "def VGG16_predict_breed(img_path):\n",
    "    # extract bottleneck features\n",
    "    bottleneck_feature = extract_VGG16(path_to_tensor(img_path))\n",
    "    # obtain predicted vector\n",
    "    predicted_vector = VGG16_model.predict(bottleneck_feature)\n",
    "    # return dog breed that is predicted by the model\n",
    "    return dog_names[np.argmax(predicted_vector)]"
   ]
  },
  {
   "cell_type": "markdown",
   "metadata": {},
   "source": [
    "---\n",
    "<a id='step5'></a>\n",
    "## Step 5: Create a CNN to Classify Dog Breeds (using Transfer Learning)\n",
    "\n",
    "You will now use transfer learning to create a CNN that can identify dog breed from images.  Your CNN must attain at least 60% accuracy on the test set.\n",
    "\n",
    "In Step 4, we used transfer learning to create a CNN using VGG-16 bottleneck features.  In this section, you must use the bottleneck features from a different pre-trained model.  To make things easier for you, we have pre-computed the features for all of the networks that are currently available in Keras:\n",
    "- [VGG-19](https://s3-us-west-1.amazonaws.com/udacity-aind/dog-project/DogVGG19Data.npz) bottleneck features\n",
    "- [ResNet-50](https://s3-us-west-1.amazonaws.com/udacity-aind/dog-project/DogResnet50Data.npz) bottleneck features\n",
    "- [Inception](https://s3-us-west-1.amazonaws.com/udacity-aind/dog-project/DogInceptionV3Data.npz) bottleneck features\n",
    "- [Xception](https://s3-us-west-1.amazonaws.com/udacity-aind/dog-project/DogXceptionData.npz) bottleneck features\n",
    "\n",
    "The files are encoded as such:\n",
    "\n",
    "    Dog{network}Data.npz\n",
    "    \n",
    "where `{network}`, in the above filename, can be one of `VGG19`, `Resnet50`, `InceptionV3`, or `Xception`.  Pick one of the above architectures, download the corresponding bottleneck features, and store the downloaded file in the `bottleneck_features/` folder in the repository.\n",
    "\n",
    "### (IMPLEMENTATION) Obtain Bottleneck Features\n",
    "\n",
    "In the code block below, extract the bottleneck features corresponding to the train, test, and validation sets by running the following:\n",
    "\n",
    "    bottleneck_features = np.load('bottleneck_features/Dog{network}Data.npz')\n",
    "    train_{network} = bottleneck_features['train']\n",
    "    valid_{network} = bottleneck_features['valid']\n",
    "    test_{network} = bottleneck_features['test']"
   ]
  },
  {
   "cell_type": "code",
   "execution_count": null,
   "metadata": {},
   "outputs": [],
   "source": [
    "### TODO: Obtain bottleneck features from another pre-trained CNN.\n",
    "bottleneck_features = np.load('bottleneck_features/DogVGG19Data.npz')\n",
    "train_VGG19 = bottleneck_features['train']\n",
    "valid_VGG19 = bottleneck_features['valid']\n",
    "test_VGG19 = bottleneck_features['test']"
   ]
  },
  {
   "cell_type": "markdown",
   "metadata": {},
   "source": [
    "### (IMPLEMENTATION) Model Architecture\n",
    "\n",
    "Create a CNN to classify dog breed.  At the end of your code cell block, summarize the layers of your model by executing the line:\n",
    "    \n",
    "        <your model's name>.summary()\n",
    "   \n",
    "__Question 5:__ Outline the steps you took to get to your final CNN architecture and your reasoning at each step.  Describe why you think the architecture is suitable for the current problem.\n",
    "\n",
    "__Answer:__ \n",
    "\n"
   ]
  },
  {
   "cell_type": "code",
   "execution_count": 25,
   "metadata": {},
   "outputs": [
    {
     "name": "stdout",
     "output_type": "stream",
     "text": [
      "_________________________________________________________________\n",
      "Layer (type)                 Output Shape              Param #   \n",
      "=================================================================\n",
      "global_average_pooling2d_3 ( (None, 512)               0         \n",
      "_________________________________________________________________\n",
      "dense_1 (Dense)              (None, 133)               68229     \n",
      "=================================================================\n",
      "Total params: 68,229.0\n",
      "Trainable params: 68,229.0\n",
      "Non-trainable params: 0.0\n",
      "_________________________________________________________________\n"
     ]
    }
   ],
   "source": [
    "### TODO: Define your architecture.\n",
    "from keras import regularizers\n",
    "VGG19_model = Sequential()\n",
    "VGG19_model.add(GlobalAveragePooling2D(input_shape=train_VGG19.shape[1:]))\n",
    "VGG19_model.add(Dense(133, activation='softmax',kernel_regularizer=regularizers.l2(0.01)))\n",
    "\n",
    "VGG19_model.summary()\n"
   ]
  },
  {
   "cell_type": "markdown",
   "metadata": {},
   "source": [
    "### (IMPLEMENTATION) Compile the Model"
   ]
  },
  {
   "cell_type": "code",
   "execution_count": 208,
   "metadata": {},
   "outputs": [],
   "source": [
    "### TODO: Compile the model.\n",
    "import keras\n",
    "from keras import optimizers\n",
    "adam_optimiser = optimizers.Adam(lr=0.001, beta_1=0.9, beta_2=0.999,decay=0.001)\n",
    "nadam_optimizer = optimizers.Nadam(lr=0.001, beta_1=0.9, beta_2=0.999,schedule_decay=0.004)\n",
    "VGG19_model.compile(loss='categorical_crossentropy', optimizer=adam_optimiser, metrics=['accuracy'])"
   ]
  },
  {
   "cell_type": "markdown",
   "metadata": {},
   "source": [
    "### (IMPLEMENTATION) Train the Model\n",
    "\n",
    "Train your model in the code cell below.  Use model checkpointing to save the model that attains the best validation loss.  \n",
    "\n",
    "You are welcome to [augment the training data](https://blog.keras.io/building-powerful-image-classification-models-using-very-little-data.html), but this is not a requirement. "
   ]
  },
  {
   "cell_type": "code",
   "execution_count": 209,
   "metadata": {},
   "outputs": [
    {
     "name": "stdout",
     "output_type": "stream",
     "text": [
      "Train on 6680 samples, validate on 835 samples\n",
      "Epoch 1/30\n",
      "6624/6680 [============================>.] - ETA: 738s - loss: 16.2432 - acc: 0.06 - ETA: 150s - loss: 16.4598 - acc: 0.01 - ETA: 69s - loss: 16.2565 - acc: 0.0057 - ETA: 52s - loss: 16.1275 - acc: 0.004 - ETA: 37s - loss: 15.5754 - acc: 0.020 - ETA: 29s - loss: 15.3622 - acc: 0.027 - ETA: 25s - loss: 15.3557 - acc: 0.027 - ETA: 22s - loss: 15.1538 - acc: 0.030 - ETA: 19s - loss: 14.9389 - acc: 0.033 - ETA: 17s - loss: 14.6683 - acc: 0.036 - ETA: 15s - loss: 14.3934 - acc: 0.040 - ETA: 14s - loss: 14.0819 - acc: 0.044 - ETA: 13s - loss: 13.8974 - acc: 0.044 - ETA: 12s - loss: 13.6145 - acc: 0.049 - ETA: 11s - loss: 13.3889 - acc: 0.049 - ETA: 10s - loss: 13.1447 - acc: 0.057 - ETA: 9s - loss: 12.8689 - acc: 0.066 - ETA: 9s - loss: 12.6035 - acc: 0.07 - ETA: 8s - loss: 12.4048 - acc: 0.07 - ETA: 8s - loss: 12.1683 - acc: 0.08 - ETA: 7s - loss: 11.9641 - acc: 0.08 - ETA: 7s - loss: 11.8240 - acc: 0.09 - ETA: 7s - loss: 11.6214 - acc: 0.09 - ETA: 6s - loss: 11.3906 - acc: 0.10 - ETA: 6s - loss: 11.1972 - acc: 0.10 - ETA: 6s - loss: 11.0493 - acc: 0.11 - ETA: 6s - loss: 10.8528 - acc: 0.11 - ETA: 5s - loss: 10.6797 - acc: 0.12 - ETA: 5s - loss: 10.5153 - acc: 0.12 - ETA: 5s - loss: 10.3602 - acc: 0.13 - ETA: 5s - loss: 10.1916 - acc: 0.13 - ETA: 4s - loss: 10.0601 - acc: 0.14 - ETA: 4s - loss: 9.9371 - acc: 0.1508 - ETA: 4s - loss: 9.8337 - acc: 0.156 - ETA: 4s - loss: 9.6700 - acc: 0.162 - ETA: 4s - loss: 9.5293 - acc: 0.166 - ETA: 4s - loss: 9.3927 - acc: 0.173 - ETA: 3s - loss: 9.2301 - acc: 0.184 - ETA: 3s - loss: 9.1114 - acc: 0.191 - ETA: 3s - loss: 9.0083 - acc: 0.195 - ETA: 3s - loss: 8.9053 - acc: 0.201 - ETA: 3s - loss: 8.7798 - acc: 0.209 - ETA: 3s - loss: 8.7004 - acc: 0.212 - ETA: 3s - loss: 8.5836 - acc: 0.219 - ETA: 2s - loss: 8.4707 - acc: 0.226 - ETA: 2s - loss: 8.3788 - acc: 0.231 - ETA: 2s - loss: 8.2831 - acc: 0.236 - ETA: 2s - loss: 8.2091 - acc: 0.242 - ETA: 2s - loss: 8.1118 - acc: 0.247 - ETA: 2s - loss: 8.0343 - acc: 0.251 - ETA: 2s - loss: 7.9518 - acc: 0.255 - ETA: 2s - loss: 7.8779 - acc: 0.259 - ETA: 2s - loss: 7.7954 - acc: 0.264 - ETA: 1s - loss: 7.7119 - acc: 0.269 - ETA: 1s - loss: 7.6295 - acc: 0.272 - ETA: 1s - loss: 7.5717 - acc: 0.275 - ETA: 1s - loss: 7.5064 - acc: 0.279 - ETA: 1s - loss: 7.4377 - acc: 0.284 - ETA: 1s - loss: 7.3883 - acc: 0.286 - ETA: 1s - loss: 7.3380 - acc: 0.290 - ETA: 1s - loss: 7.2989 - acc: 0.292 - ETA: 1s - loss: 7.2590 - acc: 0.294 - ETA: 1s - loss: 7.2266 - acc: 0.296 - ETA: 1s - loss: 7.1814 - acc: 0.299 - ETA: 1s - loss: 7.1285 - acc: 0.302 - ETA: 1s - loss: 7.0711 - acc: 0.306 - ETA: 0s - loss: 7.0155 - acc: 0.310 - ETA: 0s - loss: 6.9657 - acc: 0.313 - ETA: 0s - loss: 6.9183 - acc: 0.315 - ETA: 0s - loss: 6.8706 - acc: 0.317 - ETA: 0s - loss: 6.8177 - acc: 0.320 - ETA: 0s - loss: 6.7745 - acc: 0.323 - ETA: 0s - loss: 6.7258 - acc: 0.326 - ETA: 0s - loss: 6.6660 - acc: 0.330 - ETA: 0s - loss: 6.6138 - acc: 0.332 - ETA: 0s - loss: 6.5727 - acc: 0.336 - ETA: 0s - loss: 6.5283 - acc: 0.338 - ETA: 0s - loss: 6.4938 - acc: 0.3403Epoch 00000: val_loss improved from inf to 3.10041, saving model to saved_models/weights.best.VGG19.hdf5\n",
      "6680/6680 [==============================] - 7s - loss: 6.4663 - acc: 0.3422 - val_loss: 3.1004 - val_acc: 0.5629\n",
      "Epoch 2/30\n",
      "6656/6680 [============================>.] - ETA: 4s - loss: 3.2571 - acc: 0.500 - ETA: 4s - loss: 2.3616 - acc: 0.697 - ETA: 4s - loss: 2.3631 - acc: 0.687 - ETA: 4s - loss: 2.4525 - acc: 0.695 - ETA: 4s - loss: 2.5048 - acc: 0.676 - ETA: 4s - loss: 2.4271 - acc: 0.694 - ETA: 4s - loss: 2.4290 - acc: 0.699 - ETA: 4s - loss: 2.3691 - acc: 0.699 - ETA: 4s - loss: 2.3552 - acc: 0.700 - ETA: 3s - loss: 2.3171 - acc: 0.704 - ETA: 3s - loss: 2.3048 - acc: 0.704 - ETA: 3s - loss: 2.3344 - acc: 0.703 - ETA: 3s - loss: 2.3731 - acc: 0.701 - ETA: 3s - loss: 2.3597 - acc: 0.702 - ETA: 3s - loss: 2.3441 - acc: 0.706 - ETA: 3s - loss: 2.3125 - acc: 0.710 - ETA: 3s - loss: 2.2888 - acc: 0.710 - ETA: 3s - loss: 2.2674 - acc: 0.712 - ETA: 3s - loss: 2.2388 - acc: 0.713 - ETA: 3s - loss: 2.2498 - acc: 0.714 - ETA: 3s - loss: 2.2459 - acc: 0.714 - ETA: 3s - loss: 2.2220 - acc: 0.719 - ETA: 3s - loss: 2.2003 - acc: 0.721 - ETA: 3s - loss: 2.1766 - acc: 0.725 - ETA: 2s - loss: 2.1657 - acc: 0.727 - ETA: 2s - loss: 2.1506 - acc: 0.727 - ETA: 2s - loss: 2.1500 - acc: 0.726 - ETA: 2s - loss: 2.1390 - acc: 0.728 - ETA: 2s - loss: 2.1253 - acc: 0.728 - ETA: 2s - loss: 2.1269 - acc: 0.727 - ETA: 2s - loss: 2.1136 - acc: 0.729 - ETA: 2s - loss: 2.1189 - acc: 0.726 - ETA: 2s - loss: 2.1065 - acc: 0.727 - ETA: 2s - loss: 2.1046 - acc: 0.727 - ETA: 2s - loss: 2.0881 - acc: 0.730 - ETA: 2s - loss: 2.0865 - acc: 0.730 - ETA: 2s - loss: 2.0906 - acc: 0.730 - ETA: 2s - loss: 2.0894 - acc: 0.730 - ETA: 2s - loss: 2.0821 - acc: 0.730 - ETA: 2s - loss: 2.0883 - acc: 0.728 - ETA: 2s - loss: 2.0848 - acc: 0.730 - ETA: 2s - loss: 2.0741 - acc: 0.730 - ETA: 2s - loss: 2.0689 - acc: 0.730 - ETA: 2s - loss: 2.0670 - acc: 0.730 - ETA: 1s - loss: 2.0524 - acc: 0.733 - ETA: 1s - loss: 2.0473 - acc: 0.734 - ETA: 1s - loss: 2.0416 - acc: 0.734 - ETA: 1s - loss: 2.0428 - acc: 0.734 - ETA: 1s - loss: 2.0297 - acc: 0.736 - ETA: 1s - loss: 2.0299 - acc: 0.735 - ETA: 1s - loss: 2.0265 - acc: 0.736 - ETA: 1s - loss: 2.0245 - acc: 0.736 - ETA: 1s - loss: 2.0306 - acc: 0.735 - ETA: 1s - loss: 2.0339 - acc: 0.734 - ETA: 1s - loss: 2.0402 - acc: 0.734 - ETA: 1s - loss: 2.0331 - acc: 0.735 - ETA: 1s - loss: 2.0353 - acc: 0.735 - ETA: 1s - loss: 2.0277 - acc: 0.735 - ETA: 1s - loss: 2.0254 - acc: 0.735 - ETA: 1s - loss: 2.0275 - acc: 0.734 - ETA: 1s - loss: 2.0355 - acc: 0.733 - ETA: 1s - loss: 2.0314 - acc: 0.734 - ETA: 0s - loss: 2.0401 - acc: 0.733 - ETA: 0s - loss: 2.0375 - acc: 0.733 - ETA: 0s - loss: 2.0338 - acc: 0.734 - ETA: 0s - loss: 2.0331 - acc: 0.735 - ETA: 0s - loss: 2.0369 - acc: 0.734 - ETA: 0s - loss: 2.0346 - acc: 0.734 - ETA: 0s - loss: 2.0379 - acc: 0.733 - ETA: 0s - loss: 2.0361 - acc: 0.734 - ETA: 0s - loss: 2.0343 - acc: 0.734 - ETA: 0s - loss: 2.0280 - acc: 0.736 - ETA: 0s - loss: 2.0273 - acc: 0.735 - ETA: 0s - loss: 2.0262 - acc: 0.736 - ETA: 0s - loss: 2.0228 - acc: 0.735 - ETA: 0s - loss: 2.0190 - acc: 0.735 - ETA: 0s - loss: 2.0178 - acc: 0.735 - ETA: 0s - loss: 2.0127 - acc: 0.736 - ETA: 0s - loss: 2.0115 - acc: 0.736 - ETA: 0s - loss: 2.0101 - acc: 0.7366Epoch 00001: val_loss improved from 3.10041 to 2.36402, saving model to saved_models/weights.best.VGG19.hdf5\n",
      "6680/6680 [==============================] - 4s - loss: 2.0094 - acc: 0.7365 - val_loss: 2.3640 - val_acc: 0.6683\n",
      "Epoch 3/30\n",
      "6672/6680 [============================>.] - ETA: 4s - loss: 1.9040 - acc: 0.625 - ETA: 4s - loss: 1.4974 - acc: 0.812 - ETA: 4s - loss: 1.3565 - acc: 0.818 - ETA: 4s - loss: 1.3607 - acc: 0.849 - ETA: 4s - loss: 1.3094 - acc: 0.864 - ETA: 3s - loss: 1.3052 - acc: 0.855 - ETA: 3s - loss: 1.3156 - acc: 0.852 - ETA: 4s - loss: 1.3179 - acc: 0.853 - ETA: 4s - loss: 1.3605 - acc: 0.851 - ETA: 4s - loss: 1.3445 - acc: 0.857 - ETA: 4s - loss: 1.3842 - acc: 0.852 - ETA: 4s - loss: 1.4177 - acc: 0.851 - ETA: 4s - loss: 1.4263 - acc: 0.855 - ETA: 4s - loss: 1.3978 - acc: 0.859 - ETA: 4s - loss: 1.3864 - acc: 0.859 - ETA: 4s - loss: 1.4214 - acc: 0.859 - ETA: 4s - loss: 1.3966 - acc: 0.866 - ETA: 4s - loss: 1.3998 - acc: 0.867 - ETA: 4s - loss: 1.3925 - acc: 0.863 - ETA: 4s - loss: 1.3834 - acc: 0.863 - ETA: 4s - loss: 1.3735 - acc: 0.865 - ETA: 3s - loss: 1.3772 - acc: 0.863 - ETA: 3s - loss: 1.3828 - acc: 0.859 - ETA: 3s - loss: 1.3711 - acc: 0.862 - ETA: 3s - loss: 1.3671 - acc: 0.861 - ETA: 3s - loss: 1.3762 - acc: 0.862 - ETA: 3s - loss: 1.3737 - acc: 0.859 - ETA: 3s - loss: 1.3682 - acc: 0.861 - ETA: 3s - loss: 1.3659 - acc: 0.861 - ETA: 3s - loss: 1.3746 - acc: 0.861 - ETA: 3s - loss: 1.3777 - acc: 0.862 - ETA: 3s - loss: 1.3740 - acc: 0.860 - ETA: 3s - loss: 1.3702 - acc: 0.860 - ETA: 3s - loss: 1.3643 - acc: 0.860 - ETA: 3s - loss: 1.3669 - acc: 0.860 - ETA: 3s - loss: 1.3710 - acc: 0.858 - ETA: 3s - loss: 1.3645 - acc: 0.859 - ETA: 3s - loss: 1.3588 - acc: 0.859 - ETA: 3s - loss: 1.3616 - acc: 0.858 - ETA: 2s - loss: 1.3591 - acc: 0.857 - ETA: 2s - loss: 1.3537 - acc: 0.859 - ETA: 2s - loss: 1.3487 - acc: 0.860 - ETA: 2s - loss: 1.3573 - acc: 0.859 - ETA: 2s - loss: 1.3559 - acc: 0.859 - ETA: 2s - loss: 1.3542 - acc: 0.859 - ETA: 2s - loss: 1.3509 - acc: 0.859 - ETA: 2s - loss: 1.3561 - acc: 0.858 - ETA: 2s - loss: 1.3627 - acc: 0.858 - ETA: 2s - loss: 1.3569 - acc: 0.859 - ETA: 2s - loss: 1.3502 - acc: 0.859 - ETA: 2s - loss: 1.3422 - acc: 0.860 - ETA: 2s - loss: 1.3375 - acc: 0.860 - ETA: 1s - loss: 1.3338 - acc: 0.860 - ETA: 1s - loss: 1.3327 - acc: 0.861 - ETA: 1s - loss: 1.3289 - acc: 0.862 - ETA: 1s - loss: 1.3244 - acc: 0.862 - ETA: 1s - loss: 1.3251 - acc: 0.861 - ETA: 1s - loss: 1.3234 - acc: 0.861 - ETA: 1s - loss: 1.3255 - acc: 0.862 - ETA: 1s - loss: 1.3321 - acc: 0.861 - ETA: 1s - loss: 1.3306 - acc: 0.861 - ETA: 1s - loss: 1.3303 - acc: 0.861 - ETA: 1s - loss: 1.3289 - acc: 0.860 - ETA: 1s - loss: 1.3259 - acc: 0.860 - ETA: 1s - loss: 1.3311 - acc: 0.860 - ETA: 1s - loss: 1.3377 - acc: 0.860 - ETA: 1s - loss: 1.3455 - acc: 0.860 - ETA: 1s - loss: 1.3402 - acc: 0.861 - ETA: 1s - loss: 1.3360 - acc: 0.862 - ETA: 1s - loss: 1.3367 - acc: 0.862 - ETA: 0s - loss: 1.3416 - acc: 0.860 - ETA: 0s - loss: 1.3403 - acc: 0.860 - ETA: 0s - loss: 1.3410 - acc: 0.860 - ETA: 0s - loss: 1.3422 - acc: 0.860 - ETA: 0s - loss: 1.3448 - acc: 0.859 - ETA: 0s - loss: 1.3511 - acc: 0.858 - ETA: 0s - loss: 1.3505 - acc: 0.859 - ETA: 0s - loss: 1.3449 - acc: 0.860 - ETA: 0s - loss: 1.3424 - acc: 0.860 - ETA: 0s - loss: 1.3451 - acc: 0.860 - ETA: 0s - loss: 1.3418 - acc: 0.860 - ETA: 0s - loss: 1.3443 - acc: 0.860 - ETA: 0s - loss: 1.3437 - acc: 0.860 - ETA: 0s - loss: 1.3428 - acc: 0.860 - ETA: 0s - loss: 1.3385 - acc: 0.861 - ETA: 0s - loss: 1.3405 - acc: 0.861 - ETA: 0s - loss: 1.3395 - acc: 0.8611Epoch 00002: val_loss improved from 2.36402 to 2.04265, saving model to saved_models/weights.best.VGG19.hdf5\n",
      "6680/6680 [==============================] - 5s - loss: 1.3399 - acc: 0.8611 - val_loss: 2.0426 - val_acc: 0.6922\n",
      "Epoch 4/30\n",
      "6640/6680 [============================>.] - ETA: 4s - loss: 0.7678 - acc: 1.000 - ETA: 4s - loss: 1.0324 - acc: 0.947 - ETA: 4s - loss: 1.0069 - acc: 0.943 - ETA: 4s - loss: 1.0684 - acc: 0.937 - ETA: 5s - loss: 1.0422 - acc: 0.940 - ETA: 4s - loss: 1.0568 - acc: 0.940 - ETA: 4s - loss: 1.0778 - acc: 0.937 - ETA: 4s - loss: 1.0932 - acc: 0.928 - ETA: 4s - loss: 1.0778 - acc: 0.924 - ETA: 4s - loss: 1.0522 - acc: 0.930 - ETA: 4s - loss: 1.0554 - acc: 0.931 - ETA: 4s - loss: 1.0414 - acc: 0.934 - ETA: 3s - loss: 1.0368 - acc: 0.930 - ETA: 3s - loss: 1.0231 - acc: 0.932 - ETA: 3s - loss: 1.0207 - acc: 0.933 - ETA: 3s - loss: 1.0190 - acc: 0.934 - ETA: 3s - loss: 1.0064 - acc: 0.938 - ETA: 3s - loss: 0.9978 - acc: 0.940 - ETA: 3s - loss: 1.0031 - acc: 0.938 - ETA: 3s - loss: 0.9945 - acc: 0.940 - ETA: 3s - loss: 0.9925 - acc: 0.939 - ETA: 3s - loss: 0.9915 - acc: 0.938 - ETA: 3s - loss: 0.9929 - acc: 0.938 - ETA: 3s - loss: 0.9888 - acc: 0.939 - ETA: 3s - loss: 0.9869 - acc: 0.938 - ETA: 3s - loss: 0.9846 - acc: 0.937 - ETA: 3s - loss: 0.9825 - acc: 0.937 - ETA: 3s - loss: 0.9781 - acc: 0.939 - ETA: 3s - loss: 0.9744 - acc: 0.939 - ETA: 3s - loss: 0.9735 - acc: 0.939 - ETA: 3s - loss: 0.9739 - acc: 0.939 - ETA: 2s - loss: 0.9719 - acc: 0.940 - ETA: 2s - loss: 0.9694 - acc: 0.939 - ETA: 2s - loss: 0.9655 - acc: 0.940 - ETA: 2s - loss: 0.9631 - acc: 0.939 - ETA: 2s - loss: 0.9615 - acc: 0.939 - ETA: 2s - loss: 0.9622 - acc: 0.939 - ETA: 2s - loss: 0.9620 - acc: 0.937 - ETA: 2s - loss: 0.9603 - acc: 0.937 - ETA: 2s - loss: 0.9608 - acc: 0.936 - ETA: 2s - loss: 0.9625 - acc: 0.935 - ETA: 2s - loss: 0.9624 - acc: 0.935 - ETA: 2s - loss: 0.9615 - acc: 0.935 - ETA: 2s - loss: 0.9613 - acc: 0.935 - ETA: 2s - loss: 0.9609 - acc: 0.934 - ETA: 2s - loss: 0.9609 - acc: 0.934 - ETA: 2s - loss: 0.9634 - acc: 0.933 - ETA: 2s - loss: 0.9625 - acc: 0.933 - ETA: 2s - loss: 0.9614 - acc: 0.932 - ETA: 2s - loss: 0.9650 - acc: 0.932 - ETA: 1s - loss: 0.9637 - acc: 0.932 - ETA: 1s - loss: 0.9628 - acc: 0.932 - ETA: 1s - loss: 0.9643 - acc: 0.931 - ETA: 1s - loss: 0.9634 - acc: 0.930 - ETA: 1s - loss: 0.9626 - acc: 0.931 - ETA: 1s - loss: 0.9623 - acc: 0.931 - ETA: 1s - loss: 0.9647 - acc: 0.930 - ETA: 1s - loss: 0.9654 - acc: 0.929 - ETA: 1s - loss: 0.9669 - acc: 0.929 - ETA: 1s - loss: 0.9676 - acc: 0.928 - ETA: 1s - loss: 0.9697 - acc: 0.927 - ETA: 1s - loss: 0.9686 - acc: 0.928 - ETA: 1s - loss: 0.9723 - acc: 0.927 - ETA: 1s - loss: 0.9696 - acc: 0.927 - ETA: 1s - loss: 0.9694 - acc: 0.927 - ETA: 1s - loss: 0.9762 - acc: 0.925 - ETA: 0s - loss: 0.9797 - acc: 0.924 - ETA: 0s - loss: 0.9795 - acc: 0.924 - ETA: 0s - loss: 0.9799 - acc: 0.923 - ETA: 0s - loss: 0.9780 - acc: 0.923 - ETA: 0s - loss: 0.9766 - acc: 0.923 - ETA: 0s - loss: 0.9773 - acc: 0.924 - ETA: 0s - loss: 0.9774 - acc: 0.923 - ETA: 0s - loss: 0.9764 - acc: 0.923 - ETA: 0s - loss: 0.9770 - acc: 0.922 - ETA: 0s - loss: 0.9753 - acc: 0.923 - ETA: 0s - loss: 0.9728 - acc: 0.923 - ETA: 0s - loss: 0.9718 - acc: 0.924 - ETA: 0s - loss: 0.9701 - acc: 0.923 - ETA: 0s - loss: 0.9709 - acc: 0.923 - ETA: 0s - loss: 0.9696 - acc: 0.924 - ETA: 0s - loss: 0.9682 - acc: 0.924 - ETA: 0s - loss: 0.9692 - acc: 0.9236Epoch 00003: val_loss improved from 2.04265 to 1.78487, saving model to saved_models/weights.best.VGG19.hdf5\n",
      "6680/6680 [==============================] - 4s - loss: 0.9682 - acc: 0.9240 - val_loss: 1.7849 - val_acc: 0.7150\n",
      "Epoch 5/30\n"
     ]
    },
    {
     "name": "stdout",
     "output_type": "stream",
     "text": [
      "6592/6680 [============================>.] - ETA: 4s - loss: 0.7146 - acc: 1.000 - ETA: 4s - loss: 0.8018 - acc: 0.968 - ETA: 4s - loss: 0.8172 - acc: 0.954 - ETA: 4s - loss: 0.8109 - acc: 0.960 - ETA: 4s - loss: 0.8278 - acc: 0.958 - ETA: 4s - loss: 0.8299 - acc: 0.962 - ETA: 4s - loss: 0.8274 - acc: 0.961 - ETA: 4s - loss: 0.8289 - acc: 0.958 - ETA: 4s - loss: 0.8188 - acc: 0.962 - ETA: 4s - loss: 0.8141 - acc: 0.960 - ETA: 4s - loss: 0.8168 - acc: 0.960 - ETA: 4s - loss: 0.8071 - acc: 0.963 - ETA: 4s - loss: 0.8066 - acc: 0.964 - ETA: 4s - loss: 0.8101 - acc: 0.962 - ETA: 4s - loss: 0.8074 - acc: 0.961 - ETA: 3s - loss: 0.8108 - acc: 0.959 - ETA: 3s - loss: 0.8091 - acc: 0.959 - ETA: 3s - loss: 0.8043 - acc: 0.961 - ETA: 3s - loss: 0.8020 - acc: 0.962 - ETA: 3s - loss: 0.7999 - acc: 0.962 - ETA: 3s - loss: 0.8023 - acc: 0.961 - ETA: 3s - loss: 0.7982 - acc: 0.963 - ETA: 3s - loss: 0.7989 - acc: 0.961 - ETA: 3s - loss: 0.7975 - acc: 0.961 - ETA: 3s - loss: 0.7950 - acc: 0.961 - ETA: 3s - loss: 0.7951 - acc: 0.962 - ETA: 3s - loss: 0.7937 - acc: 0.962 - ETA: 3s - loss: 0.7919 - acc: 0.962 - ETA: 2s - loss: 0.7910 - acc: 0.962 - ETA: 2s - loss: 0.7907 - acc: 0.962 - ETA: 2s - loss: 0.7901 - acc: 0.962 - ETA: 2s - loss: 0.7962 - acc: 0.961 - ETA: 2s - loss: 0.7939 - acc: 0.961 - ETA: 2s - loss: 0.7918 - acc: 0.963 - ETA: 2s - loss: 0.7910 - acc: 0.963 - ETA: 2s - loss: 0.7986 - acc: 0.961 - ETA: 2s - loss: 0.7955 - acc: 0.962 - ETA: 2s - loss: 0.7947 - acc: 0.962 - ETA: 2s - loss: 0.7970 - acc: 0.961 - ETA: 2s - loss: 0.7953 - acc: 0.961 - ETA: 2s - loss: 0.7942 - acc: 0.961 - ETA: 2s - loss: 0.7930 - acc: 0.962 - ETA: 2s - loss: 0.7915 - acc: 0.961 - ETA: 1s - loss: 0.7934 - acc: 0.961 - ETA: 1s - loss: 0.7911 - acc: 0.961 - ETA: 1s - loss: 0.7893 - acc: 0.962 - ETA: 1s - loss: 0.7891 - acc: 0.962 - ETA: 1s - loss: 0.7884 - acc: 0.962 - ETA: 1s - loss: 0.7906 - acc: 0.961 - ETA: 1s - loss: 0.7901 - acc: 0.960 - ETA: 1s - loss: 0.7897 - acc: 0.960 - ETA: 1s - loss: 0.7902 - acc: 0.960 - ETA: 1s - loss: 0.7930 - acc: 0.959 - ETA: 1s - loss: 0.7938 - acc: 0.959 - ETA: 1s - loss: 0.7928 - acc: 0.959 - ETA: 1s - loss: 0.7918 - acc: 0.960 - ETA: 1s - loss: 0.7919 - acc: 0.960 - ETA: 1s - loss: 0.7952 - acc: 0.960 - ETA: 1s - loss: 0.7960 - acc: 0.960 - ETA: 1s - loss: 0.7949 - acc: 0.960 - ETA: 0s - loss: 0.7935 - acc: 0.960 - ETA: 0s - loss: 0.7925 - acc: 0.960 - ETA: 0s - loss: 0.7920 - acc: 0.960 - ETA: 0s - loss: 0.7916 - acc: 0.960 - ETA: 0s - loss: 0.7923 - acc: 0.960 - ETA: 0s - loss: 0.7906 - acc: 0.960 - ETA: 0s - loss: 0.7892 - acc: 0.961 - ETA: 0s - loss: 0.7904 - acc: 0.960 - ETA: 0s - loss: 0.7903 - acc: 0.960 - ETA: 0s - loss: 0.7905 - acc: 0.960 - ETA: 0s - loss: 0.7906 - acc: 0.960 - ETA: 0s - loss: 0.7899 - acc: 0.960 - ETA: 0s - loss: 0.7895 - acc: 0.960 - ETA: 0s - loss: 0.7894 - acc: 0.960 - ETA: 0s - loss: 0.7887 - acc: 0.960 - ETA: 0s - loss: 0.7882 - acc: 0.9607Epoch 00004: val_loss improved from 1.78487 to 1.63720, saving model to saved_models/weights.best.VGG19.hdf5\n",
      "6680/6680 [==============================] - 4s - loss: 0.7882 - acc: 0.9602 - val_loss: 1.6372 - val_acc: 0.7293\n",
      "Epoch 6/30\n",
      "6592/6680 [============================>.] - ETA: 5s - loss: 0.7585 - acc: 0.937 - ETA: 4s - loss: 0.7020 - acc: 0.979 - ETA: 4s - loss: 0.7038 - acc: 0.979 - ETA: 4s - loss: 0.7087 - acc: 0.975 - ETA: 3s - loss: 0.6993 - acc: 0.976 - ETA: 3s - loss: 0.6989 - acc: 0.975 - ETA: 3s - loss: 0.7218 - acc: 0.975 - ETA: 3s - loss: 0.7180 - acc: 0.977 - ETA: 3s - loss: 0.7147 - acc: 0.976 - ETA: 3s - loss: 0.7101 - acc: 0.977 - ETA: 3s - loss: 0.7039 - acc: 0.979 - ETA: 3s - loss: 0.7023 - acc: 0.978 - ETA: 3s - loss: 0.7025 - acc: 0.976 - ETA: 3s - loss: 0.7011 - acc: 0.975 - ETA: 3s - loss: 0.6990 - acc: 0.976 - ETA: 3s - loss: 0.6995 - acc: 0.977 - ETA: 3s - loss: 0.6980 - acc: 0.977 - ETA: 3s - loss: 0.7068 - acc: 0.977 - ETA: 3s - loss: 0.7056 - acc: 0.977 - ETA: 3s - loss: 0.7028 - acc: 0.978 - ETA: 2s - loss: 0.7037 - acc: 0.977 - ETA: 2s - loss: 0.7011 - acc: 0.977 - ETA: 2s - loss: 0.7000 - acc: 0.977 - ETA: 2s - loss: 0.6981 - acc: 0.978 - ETA: 2s - loss: 0.6963 - acc: 0.978 - ETA: 2s - loss: 0.6936 - acc: 0.978 - ETA: 2s - loss: 0.6942 - acc: 0.977 - ETA: 2s - loss: 0.6935 - acc: 0.976 - ETA: 2s - loss: 0.6937 - acc: 0.976 - ETA: 2s - loss: 0.6938 - acc: 0.975 - ETA: 2s - loss: 0.6926 - acc: 0.975 - ETA: 2s - loss: 0.6909 - acc: 0.976 - ETA: 2s - loss: 0.6934 - acc: 0.975 - ETA: 2s - loss: 0.6939 - acc: 0.975 - ETA: 2s - loss: 0.6943 - acc: 0.975 - ETA: 2s - loss: 0.6927 - acc: 0.975 - ETA: 2s - loss: 0.6919 - acc: 0.975 - ETA: 2s - loss: 0.6913 - acc: 0.976 - ETA: 1s - loss: 0.6913 - acc: 0.976 - ETA: 1s - loss: 0.6908 - acc: 0.976 - ETA: 1s - loss: 0.6898 - acc: 0.976 - ETA: 1s - loss: 0.6885 - acc: 0.976 - ETA: 1s - loss: 0.6880 - acc: 0.977 - ETA: 1s - loss: 0.6876 - acc: 0.977 - ETA: 1s - loss: 0.6861 - acc: 0.977 - ETA: 1s - loss: 0.6854 - acc: 0.978 - ETA: 1s - loss: 0.6860 - acc: 0.978 - ETA: 1s - loss: 0.6856 - acc: 0.978 - ETA: 1s - loss: 0.6850 - acc: 0.978 - ETA: 1s - loss: 0.6839 - acc: 0.978 - ETA: 1s - loss: 0.6836 - acc: 0.978 - ETA: 1s - loss: 0.6837 - acc: 0.978 - ETA: 1s - loss: 0.6834 - acc: 0.978 - ETA: 1s - loss: 0.6835 - acc: 0.978 - ETA: 1s - loss: 0.6827 - acc: 0.978 - ETA: 1s - loss: 0.6828 - acc: 0.978 - ETA: 1s - loss: 0.6819 - acc: 0.978 - ETA: 1s - loss: 0.6815 - acc: 0.978 - ETA: 1s - loss: 0.6814 - acc: 0.978 - ETA: 1s - loss: 0.6805 - acc: 0.978 - ETA: 0s - loss: 0.6801 - acc: 0.978 - ETA: 0s - loss: 0.6809 - acc: 0.978 - ETA: 0s - loss: 0.6824 - acc: 0.977 - ETA: 0s - loss: 0.6825 - acc: 0.977 - ETA: 0s - loss: 0.6819 - acc: 0.977 - ETA: 0s - loss: 0.6819 - acc: 0.977 - ETA: 0s - loss: 0.6814 - acc: 0.977 - ETA: 0s - loss: 0.6817 - acc: 0.977 - ETA: 0s - loss: 0.6812 - acc: 0.977 - ETA: 0s - loss: 0.6808 - acc: 0.977 - ETA: 0s - loss: 0.6804 - acc: 0.977 - ETA: 0s - loss: 0.6806 - acc: 0.977 - ETA: 0s - loss: 0.6802 - acc: 0.977 - ETA: 0s - loss: 0.6798 - acc: 0.977 - ETA: 0s - loss: 0.6793 - acc: 0.977 - ETA: 0s - loss: 0.6790 - acc: 0.977 - ETA: 0s - loss: 0.6786 - acc: 0.978 - ETA: 0s - loss: 0.6798 - acc: 0.977 - ETA: 0s - loss: 0.6792 - acc: 0.9772Epoch 00005: val_loss improved from 1.63720 to 1.52550, saving model to saved_models/weights.best.VGG19.hdf5\n",
      "6680/6680 [==============================] - 4s - loss: 0.6796 - acc: 0.9768 - val_loss: 1.5255 - val_acc: 0.7557\n",
      "Epoch 7/30\n",
      "6608/6680 [============================>.] - ETA: 4s - loss: 0.6620 - acc: 0.937 - ETA: 4s - loss: 0.6331 - acc: 0.979 - ETA: 3s - loss: 0.6149 - acc: 0.984 - ETA: 4s - loss: 0.6274 - acc: 0.981 - ETA: 3s - loss: 0.6567 - acc: 0.978 - ETA: 3s - loss: 0.6501 - acc: 0.979 - ETA: 3s - loss: 0.6411 - acc: 0.983 - ETA: 3s - loss: 0.6382 - acc: 0.984 - ETA: 3s - loss: 0.6364 - acc: 0.984 - ETA: 3s - loss: 0.6358 - acc: 0.982 - ETA: 3s - loss: 0.6346 - acc: 0.981 - ETA: 3s - loss: 0.6322 - acc: 0.981 - ETA: 3s - loss: 0.6287 - acc: 0.983 - ETA: 3s - loss: 0.6259 - acc: 0.984 - ETA: 3s - loss: 0.6232 - acc: 0.985 - ETA: 3s - loss: 0.6232 - acc: 0.984 - ETA: 3s - loss: 0.6222 - acc: 0.983 - ETA: 3s - loss: 0.6207 - acc: 0.983 - ETA: 3s - loss: 0.6198 - acc: 0.984 - ETA: 3s - loss: 0.6200 - acc: 0.983 - ETA: 2s - loss: 0.6179 - acc: 0.984 - ETA: 2s - loss: 0.6167 - acc: 0.985 - ETA: 2s - loss: 0.6157 - acc: 0.985 - ETA: 2s - loss: 0.6149 - acc: 0.986 - ETA: 2s - loss: 0.6137 - acc: 0.986 - ETA: 2s - loss: 0.6149 - acc: 0.986 - ETA: 2s - loss: 0.6148 - acc: 0.985 - ETA: 2s - loss: 0.6140 - acc: 0.986 - ETA: 2s - loss: 0.6131 - acc: 0.986 - ETA: 2s - loss: 0.6129 - acc: 0.986 - ETA: 2s - loss: 0.6117 - acc: 0.987 - ETA: 2s - loss: 0.6114 - acc: 0.987 - ETA: 2s - loss: 0.6115 - acc: 0.987 - ETA: 2s - loss: 0.6101 - acc: 0.987 - ETA: 2s - loss: 0.6105 - acc: 0.987 - ETA: 2s - loss: 0.6092 - acc: 0.987 - ETA: 2s - loss: 0.6086 - acc: 0.987 - ETA: 2s - loss: 0.6078 - acc: 0.987 - ETA: 2s - loss: 0.6071 - acc: 0.987 - ETA: 2s - loss: 0.6066 - acc: 0.988 - ETA: 1s - loss: 0.6067 - acc: 0.988 - ETA: 1s - loss: 0.6063 - acc: 0.988 - ETA: 1s - loss: 0.6058 - acc: 0.988 - ETA: 1s - loss: 0.6055 - acc: 0.988 - ETA: 1s - loss: 0.6051 - acc: 0.988 - ETA: 1s - loss: 0.6058 - acc: 0.988 - ETA: 1s - loss: 0.6054 - acc: 0.988 - ETA: 1s - loss: 0.6064 - acc: 0.988 - ETA: 1s - loss: 0.6056 - acc: 0.988 - ETA: 1s - loss: 0.6070 - acc: 0.987 - ETA: 1s - loss: 0.6062 - acc: 0.987 - ETA: 1s - loss: 0.6068 - acc: 0.987 - ETA: 1s - loss: 0.6076 - acc: 0.986 - ETA: 1s - loss: 0.6071 - acc: 0.986 - ETA: 1s - loss: 0.6067 - acc: 0.986 - ETA: 1s - loss: 0.6069 - acc: 0.986 - ETA: 1s - loss: 0.6060 - acc: 0.986 - ETA: 1s - loss: 0.6070 - acc: 0.986 - ETA: 1s - loss: 0.6076 - acc: 0.985 - ETA: 0s - loss: 0.6071 - acc: 0.985 - ETA: 0s - loss: 0.6065 - acc: 0.986 - ETA: 0s - loss: 0.6072 - acc: 0.986 - ETA: 0s - loss: 0.6067 - acc: 0.986 - ETA: 0s - loss: 0.6065 - acc: 0.986 - ETA: 0s - loss: 0.6089 - acc: 0.986 - ETA: 0s - loss: 0.6085 - acc: 0.986 - ETA: 0s - loss: 0.6084 - acc: 0.986 - ETA: 0s - loss: 0.6084 - acc: 0.985 - ETA: 0s - loss: 0.6075 - acc: 0.986 - ETA: 0s - loss: 0.6069 - acc: 0.986 - ETA: 0s - loss: 0.6066 - acc: 0.985 - ETA: 0s - loss: 0.6059 - acc: 0.986 - ETA: 0s - loss: 0.6054 - acc: 0.986 - ETA: 0s - loss: 0.6051 - acc: 0.986 - ETA: 0s - loss: 0.6050 - acc: 0.986 - ETA: 0s - loss: 0.6051 - acc: 0.986 - ETA: 0s - loss: 0.6049 - acc: 0.986 - ETA: 0s - loss: 0.6046 - acc: 0.986 - ETA: 0s - loss: 0.6047 - acc: 0.9862Epoch 00006: val_loss improved from 1.52550 to 1.42743, saving model to saved_models/weights.best.VGG19.hdf5\n",
      "6680/6680 [==============================] - 4s - loss: 0.6040 - acc: 0.9864 - val_loss: 1.4274 - val_acc: 0.7437\n",
      "Epoch 8/30\n",
      "6608/6680 [============================>.] - ETA: 7s - loss: 0.5195 - acc: 1.000 - ETA: 5s - loss: 0.5415 - acc: 0.989 - ETA: 5s - loss: 0.5418 - acc: 0.993 - ETA: 5s - loss: 0.5445 - acc: 0.995 - ETA: 4s - loss: 0.5503 - acc: 0.990 - ETA: 4s - loss: 0.5497 - acc: 0.990 - ETA: 4s - loss: 0.5541 - acc: 0.987 - ETA: 4s - loss: 0.5557 - acc: 0.987 - ETA: 4s - loss: 0.5566 - acc: 0.987 - ETA: 4s - loss: 0.5522 - acc: 0.989 - ETA: 3s - loss: 0.5488 - acc: 0.990 - ETA: 3s - loss: 0.5497 - acc: 0.990 - ETA: 3s - loss: 0.5492 - acc: 0.990 - ETA: 3s - loss: 0.5516 - acc: 0.989 - ETA: 3s - loss: 0.5507 - acc: 0.989 - ETA: 3s - loss: 0.5523 - acc: 0.989 - ETA: 3s - loss: 0.5531 - acc: 0.988 - ETA: 3s - loss: 0.5516 - acc: 0.989 - ETA: 3s - loss: 0.5492 - acc: 0.989 - ETA: 3s - loss: 0.5495 - acc: 0.990 - ETA: 3s - loss: 0.5481 - acc: 0.990 - ETA: 3s - loss: 0.5469 - acc: 0.990 - ETA: 3s - loss: 0.5471 - acc: 0.990 - ETA: 3s - loss: 0.5463 - acc: 0.991 - ETA: 3s - loss: 0.5449 - acc: 0.991 - ETA: 3s - loss: 0.5443 - acc: 0.992 - ETA: 2s - loss: 0.5429 - acc: 0.992 - ETA: 2s - loss: 0.5422 - acc: 0.992 - ETA: 2s - loss: 0.5411 - acc: 0.992 - ETA: 2s - loss: 0.5411 - acc: 0.991 - ETA: 2s - loss: 0.5400 - acc: 0.992 - ETA: 2s - loss: 0.5440 - acc: 0.991 - ETA: 2s - loss: 0.5437 - acc: 0.991 - ETA: 2s - loss: 0.5435 - acc: 0.991 - ETA: 2s - loss: 0.5433 - acc: 0.991 - ETA: 2s - loss: 0.5426 - acc: 0.991 - ETA: 2s - loss: 0.5423 - acc: 0.991 - ETA: 2s - loss: 0.5419 - acc: 0.991 - ETA: 2s - loss: 0.5416 - acc: 0.991 - ETA: 2s - loss: 0.5406 - acc: 0.991 - ETA: 2s - loss: 0.5411 - acc: 0.991 - ETA: 2s - loss: 0.5411 - acc: 0.991 - ETA: 1s - loss: 0.5409 - acc: 0.991 - ETA: 1s - loss: 0.5406 - acc: 0.992 - ETA: 1s - loss: 0.5405 - acc: 0.991 - ETA: 1s - loss: 0.5403 - acc: 0.992 - ETA: 1s - loss: 0.5403 - acc: 0.992 - ETA: 1s - loss: 0.5398 - acc: 0.992 - ETA: 1s - loss: 0.5400 - acc: 0.992 - ETA: 1s - loss: 0.5397 - acc: 0.992 - ETA: 1s - loss: 0.5387 - acc: 0.992 - ETA: 1s - loss: 0.5387 - acc: 0.992 - ETA: 1s - loss: 0.5379 - acc: 0.992 - ETA: 1s - loss: 0.5385 - acc: 0.992 - ETA: 1s - loss: 0.5389 - acc: 0.992 - ETA: 1s - loss: 0.5383 - acc: 0.992 - ETA: 1s - loss: 0.5381 - acc: 0.992 - ETA: 1s - loss: 0.5378 - acc: 0.992 - ETA: 0s - loss: 0.5372 - acc: 0.992 - ETA: 0s - loss: 0.5371 - acc: 0.992 - ETA: 0s - loss: 0.5379 - acc: 0.992 - ETA: 0s - loss: 0.5380 - acc: 0.992 - ETA: 0s - loss: 0.5379 - acc: 0.992 - ETA: 0s - loss: 0.5377 - acc: 0.992 - ETA: 0s - loss: 0.5378 - acc: 0.992 - ETA: 0s - loss: 0.5378 - acc: 0.992 - ETA: 0s - loss: 0.5375 - acc: 0.992 - ETA: 0s - loss: 0.5376 - acc: 0.992 - ETA: 0s - loss: 0.5401 - acc: 0.992 - ETA: 0s - loss: 0.5398 - acc: 0.992 - ETA: 0s - loss: 0.5399 - acc: 0.992 - ETA: 0s - loss: 0.5398 - acc: 0.992 - ETA: 0s - loss: 0.5394 - acc: 0.992 - ETA: 0s - loss: 0.5395 - acc: 0.992 - ETA: 0s - loss: 0.5391 - acc: 0.992 - ETA: 0s - loss: 0.5390 - acc: 0.992 - ETA: 0s - loss: 0.5386 - acc: 0.992 - ETA: 0s - loss: 0.5387 - acc: 0.992 - ETA: 0s - loss: 0.5382 - acc: 0.992 - ETA: 0s - loss: 0.5380 - acc: 0.991 - ETA: 0s - loss: 0.5384 - acc: 0.9914Epoch 00007: val_loss improved from 1.42743 to 1.34536, saving model to saved_models/weights.best.VGG19.hdf5\n",
      "6680/6680 [==============================] - 4s - loss: 0.5383 - acc: 0.9915 - val_loss: 1.3454 - val_acc: 0.7569\n",
      "Epoch 9/30\n"
     ]
    },
    {
     "name": "stdout",
     "output_type": "stream",
     "text": [
      "6656/6680 [============================>.] - ETA: 4s - loss: 0.5938 - acc: 0.937 - ETA: 4s - loss: 0.5083 - acc: 0.989 - ETA: 4s - loss: 0.5103 - acc: 0.988 - ETA: 4s - loss: 0.5020 - acc: 0.992 - ETA: 4s - loss: 0.5078 - acc: 0.991 - ETA: 3s - loss: 0.5073 - acc: 0.991 - ETA: 3s - loss: 0.5023 - acc: 0.992 - ETA: 3s - loss: 0.5014 - acc: 0.993 - ETA: 3s - loss: 0.5003 - acc: 0.994 - ETA: 3s - loss: 0.4977 - acc: 0.994 - ETA: 3s - loss: 0.4949 - acc: 0.995 - ETA: 3s - loss: 0.4949 - acc: 0.995 - ETA: 3s - loss: 0.4946 - acc: 0.996 - ETA: 3s - loss: 0.4932 - acc: 0.996 - ETA: 3s - loss: 0.4938 - acc: 0.996 - ETA: 3s - loss: 0.4930 - acc: 0.996 - ETA: 3s - loss: 0.4912 - acc: 0.996 - ETA: 3s - loss: 0.4910 - acc: 0.997 - ETA: 3s - loss: 0.4905 - acc: 0.997 - ETA: 3s - loss: 0.4900 - acc: 0.997 - ETA: 3s - loss: 0.4894 - acc: 0.997 - ETA: 3s - loss: 0.4894 - acc: 0.997 - ETA: 3s - loss: 0.4990 - acc: 0.996 - ETA: 3s - loss: 0.4982 - acc: 0.996 - ETA: 3s - loss: 0.4982 - acc: 0.995 - ETA: 3s - loss: 0.4967 - acc: 0.996 - ETA: 3s - loss: 0.4963 - acc: 0.995 - ETA: 2s - loss: 0.4974 - acc: 0.995 - ETA: 2s - loss: 0.4969 - acc: 0.995 - ETA: 2s - loss: 0.4964 - acc: 0.995 - ETA: 2s - loss: 0.4968 - acc: 0.995 - ETA: 2s - loss: 0.4962 - acc: 0.995 - ETA: 2s - loss: 0.4953 - acc: 0.995 - ETA: 2s - loss: 0.4951 - acc: 0.995 - ETA: 2s - loss: 0.4950 - acc: 0.995 - ETA: 2s - loss: 0.4949 - acc: 0.995 - ETA: 2s - loss: 0.4948 - acc: 0.995 - ETA: 2s - loss: 0.4948 - acc: 0.994 - ETA: 2s - loss: 0.4943 - acc: 0.994 - ETA: 2s - loss: 0.4935 - acc: 0.995 - ETA: 2s - loss: 0.4929 - acc: 0.995 - ETA: 2s - loss: 0.4930 - acc: 0.995 - ETA: 2s - loss: 0.4924 - acc: 0.995 - ETA: 2s - loss: 0.4930 - acc: 0.994 - ETA: 2s - loss: 0.4926 - acc: 0.994 - ETA: 2s - loss: 0.4917 - acc: 0.994 - ETA: 2s - loss: 0.4915 - acc: 0.994 - ETA: 1s - loss: 0.4915 - acc: 0.995 - ETA: 1s - loss: 0.4910 - acc: 0.995 - ETA: 1s - loss: 0.4909 - acc: 0.995 - ETA: 1s - loss: 0.4903 - acc: 0.995 - ETA: 1s - loss: 0.4899 - acc: 0.995 - ETA: 1s - loss: 0.4896 - acc: 0.995 - ETA: 1s - loss: 0.4893 - acc: 0.995 - ETA: 1s - loss: 0.4888 - acc: 0.995 - ETA: 1s - loss: 0.4890 - acc: 0.995 - ETA: 1s - loss: 0.4890 - acc: 0.995 - ETA: 1s - loss: 0.4894 - acc: 0.995 - ETA: 1s - loss: 0.4892 - acc: 0.995 - ETA: 1s - loss: 0.4891 - acc: 0.995 - ETA: 1s - loss: 0.4893 - acc: 0.995 - ETA: 1s - loss: 0.4891 - acc: 0.995 - ETA: 1s - loss: 0.4891 - acc: 0.995 - ETA: 1s - loss: 0.4893 - acc: 0.995 - ETA: 0s - loss: 0.4896 - acc: 0.995 - ETA: 0s - loss: 0.4893 - acc: 0.995 - ETA: 0s - loss: 0.4894 - acc: 0.995 - ETA: 0s - loss: 0.4888 - acc: 0.995 - ETA: 0s - loss: 0.4885 - acc: 0.995 - ETA: 0s - loss: 0.4881 - acc: 0.995 - ETA: 0s - loss: 0.4883 - acc: 0.995 - ETA: 0s - loss: 0.4878 - acc: 0.995 - ETA: 0s - loss: 0.4879 - acc: 0.995 - ETA: 0s - loss: 0.4879 - acc: 0.994 - ETA: 0s - loss: 0.4876 - acc: 0.994 - ETA: 0s - loss: 0.4871 - acc: 0.994 - ETA: 0s - loss: 0.4876 - acc: 0.994 - ETA: 0s - loss: 0.4875 - acc: 0.994 - ETA: 0s - loss: 0.4870 - acc: 0.994 - ETA: 0s - loss: 0.4868 - acc: 0.994 - ETA: 0s - loss: 0.4876 - acc: 0.9941Epoch 00008: val_loss improved from 1.34536 to 1.27269, saving model to saved_models/weights.best.VGG19.hdf5\n",
      "6680/6680 [==============================] - 4s - loss: 0.4875 - acc: 0.9942 - val_loss: 1.2727 - val_acc: 0.7569\n",
      "Epoch 10/30\n",
      "6672/6680 [============================>.] - ETA: 6s - loss: 0.4332 - acc: 1.000 - ETA: 6s - loss: 0.4755 - acc: 1.000 - ETA: 6s - loss: 0.4640 - acc: 1.000 - ETA: 5s - loss: 0.4547 - acc: 1.000 - ETA: 5s - loss: 0.4496 - acc: 1.000 - ETA: 5s - loss: 0.4522 - acc: 1.000 - ETA: 4s - loss: 0.4519 - acc: 0.997 - ETA: 4s - loss: 0.4516 - acc: 0.998 - ETA: 4s - loss: 0.4525 - acc: 0.998 - ETA: 4s - loss: 0.4514 - acc: 0.998 - ETA: 4s - loss: 0.4507 - acc: 0.998 - ETA: 4s - loss: 0.4503 - acc: 0.997 - ETA: 3s - loss: 0.4568 - acc: 0.996 - ETA: 3s - loss: 0.4567 - acc: 0.996 - ETA: 3s - loss: 0.4572 - acc: 0.996 - ETA: 3s - loss: 0.4548 - acc: 0.996 - ETA: 3s - loss: 0.4548 - acc: 0.996 - ETA: 3s - loss: 0.4542 - acc: 0.996 - ETA: 3s - loss: 0.4547 - acc: 0.996 - ETA: 3s - loss: 0.4546 - acc: 0.995 - ETA: 3s - loss: 0.4537 - acc: 0.995 - ETA: 3s - loss: 0.4533 - acc: 0.995 - ETA: 3s - loss: 0.4539 - acc: 0.995 - ETA: 3s - loss: 0.4531 - acc: 0.995 - ETA: 3s - loss: 0.4534 - acc: 0.994 - ETA: 3s - loss: 0.4528 - acc: 0.994 - ETA: 3s - loss: 0.4527 - acc: 0.994 - ETA: 3s - loss: 0.4520 - acc: 0.994 - ETA: 3s - loss: 0.4518 - acc: 0.994 - ETA: 3s - loss: 0.4515 - acc: 0.994 - ETA: 3s - loss: 0.4514 - acc: 0.994 - ETA: 2s - loss: 0.4520 - acc: 0.994 - ETA: 2s - loss: 0.4514 - acc: 0.994 - ETA: 2s - loss: 0.4512 - acc: 0.994 - ETA: 2s - loss: 0.4508 - acc: 0.994 - ETA: 2s - loss: 0.4499 - acc: 0.994 - ETA: 2s - loss: 0.4496 - acc: 0.994 - ETA: 2s - loss: 0.4492 - acc: 0.994 - ETA: 2s - loss: 0.4487 - acc: 0.994 - ETA: 2s - loss: 0.4487 - acc: 0.994 - ETA: 2s - loss: 0.4482 - acc: 0.994 - ETA: 2s - loss: 0.4474 - acc: 0.994 - ETA: 2s - loss: 0.4473 - acc: 0.994 - ETA: 2s - loss: 0.4472 - acc: 0.994 - ETA: 2s - loss: 0.4469 - acc: 0.995 - ETA: 2s - loss: 0.4470 - acc: 0.995 - ETA: 2s - loss: 0.4464 - acc: 0.995 - ETA: 1s - loss: 0.4459 - acc: 0.995 - ETA: 1s - loss: 0.4454 - acc: 0.995 - ETA: 1s - loss: 0.4456 - acc: 0.994 - ETA: 1s - loss: 0.4453 - acc: 0.995 - ETA: 1s - loss: 0.4452 - acc: 0.994 - ETA: 1s - loss: 0.4451 - acc: 0.994 - ETA: 1s - loss: 0.4454 - acc: 0.994 - ETA: 1s - loss: 0.4452 - acc: 0.994 - ETA: 1s - loss: 0.4449 - acc: 0.994 - ETA: 1s - loss: 0.4446 - acc: 0.994 - ETA: 1s - loss: 0.4443 - acc: 0.995 - ETA: 1s - loss: 0.4441 - acc: 0.995 - ETA: 1s - loss: 0.4441 - acc: 0.994 - ETA: 1s - loss: 0.4443 - acc: 0.994 - ETA: 1s - loss: 0.4441 - acc: 0.994 - ETA: 1s - loss: 0.4438 - acc: 0.994 - ETA: 1s - loss: 0.4442 - acc: 0.994 - ETA: 1s - loss: 0.4443 - acc: 0.994 - ETA: 0s - loss: 0.4443 - acc: 0.994 - ETA: 0s - loss: 0.4440 - acc: 0.994 - ETA: 0s - loss: 0.4440 - acc: 0.994 - ETA: 0s - loss: 0.4439 - acc: 0.994 - ETA: 0s - loss: 0.4439 - acc: 0.994 - ETA: 0s - loss: 0.4437 - acc: 0.994 - ETA: 0s - loss: 0.4438 - acc: 0.994 - ETA: 0s - loss: 0.4440 - acc: 0.994 - ETA: 0s - loss: 0.4437 - acc: 0.994 - ETA: 0s - loss: 0.4436 - acc: 0.994 - ETA: 0s - loss: 0.4435 - acc: 0.994 - ETA: 0s - loss: 0.4435 - acc: 0.994 - ETA: 0s - loss: 0.4434 - acc: 0.994 - ETA: 0s - loss: 0.4436 - acc: 0.994 - ETA: 0s - loss: 0.4432 - acc: 0.994 - ETA: 0s - loss: 0.4462 - acc: 0.994 - ETA: 0s - loss: 0.4466 - acc: 0.994 - ETA: 0s - loss: 0.4463 - acc: 0.994 - ETA: 0s - loss: 0.4463 - acc: 0.9945Epoch 00009: val_loss improved from 1.27269 to 1.21715, saving model to saved_models/weights.best.VGG19.hdf5\n",
      "6680/6680 [==============================] - 4s - loss: 0.4467 - acc: 0.9943 - val_loss: 1.2172 - val_acc: 0.7737\n",
      "Epoch 11/30\n",
      "6640/6680 [============================>.] - ETA: 3s - loss: 0.3823 - acc: 1.000 - ETA: 5s - loss: 0.4115 - acc: 1.000 - ETA: 5s - loss: 0.4288 - acc: 0.987 - ETA: 5s - loss: 0.4231 - acc: 0.991 - ETA: 4s - loss: 0.4289 - acc: 0.993 - ETA: 4s - loss: 0.4312 - acc: 0.994 - ETA: 4s - loss: 0.4253 - acc: 0.995 - ETA: 4s - loss: 0.4218 - acc: 0.996 - ETA: 4s - loss: 0.4216 - acc: 0.996 - ETA: 4s - loss: 0.4202 - acc: 0.997 - ETA: 4s - loss: 0.4187 - acc: 0.997 - ETA: 4s - loss: 0.4171 - acc: 0.997 - ETA: 4s - loss: 0.4154 - acc: 0.997 - ETA: 4s - loss: 0.4154 - acc: 0.998 - ETA: 3s - loss: 0.4147 - acc: 0.997 - ETA: 3s - loss: 0.4135 - acc: 0.997 - ETA: 3s - loss: 0.4127 - acc: 0.997 - ETA: 3s - loss: 0.4118 - acc: 0.997 - ETA: 3s - loss: 0.4123 - acc: 0.997 - ETA: 3s - loss: 0.4114 - acc: 0.997 - ETA: 3s - loss: 0.4114 - acc: 0.997 - ETA: 3s - loss: 0.4109 - acc: 0.997 - ETA: 3s - loss: 0.4101 - acc: 0.997 - ETA: 3s - loss: 0.4096 - acc: 0.996 - ETA: 3s - loss: 0.4098 - acc: 0.996 - ETA: 3s - loss: 0.4099 - acc: 0.997 - ETA: 3s - loss: 0.4098 - acc: 0.996 - ETA: 3s - loss: 0.4105 - acc: 0.996 - ETA: 3s - loss: 0.4101 - acc: 0.996 - ETA: 2s - loss: 0.4100 - acc: 0.997 - ETA: 2s - loss: 0.4100 - acc: 0.996 - ETA: 2s - loss: 0.4097 - acc: 0.996 - ETA: 2s - loss: 0.4092 - acc: 0.996 - ETA: 2s - loss: 0.4092 - acc: 0.996 - ETA: 2s - loss: 0.4092 - acc: 0.996 - ETA: 2s - loss: 0.4098 - acc: 0.995 - ETA: 2s - loss: 0.4107 - acc: 0.995 - ETA: 2s - loss: 0.4103 - acc: 0.995 - ETA: 2s - loss: 0.4101 - acc: 0.995 - ETA: 2s - loss: 0.4098 - acc: 0.995 - ETA: 2s - loss: 0.4096 - acc: 0.995 - ETA: 2s - loss: 0.4094 - acc: 0.995 - ETA: 2s - loss: 0.4096 - acc: 0.995 - ETA: 2s - loss: 0.4095 - acc: 0.995 - ETA: 2s - loss: 0.4092 - acc: 0.996 - ETA: 2s - loss: 0.4094 - acc: 0.995 - ETA: 2s - loss: 0.4088 - acc: 0.995 - ETA: 1s - loss: 0.4091 - acc: 0.995 - ETA: 1s - loss: 0.4088 - acc: 0.995 - ETA: 1s - loss: 0.4086 - acc: 0.995 - ETA: 1s - loss: 0.4083 - acc: 0.995 - ETA: 1s - loss: 0.4079 - acc: 0.995 - ETA: 1s - loss: 0.4086 - acc: 0.995 - ETA: 1s - loss: 0.4089 - acc: 0.995 - ETA: 1s - loss: 0.4085 - acc: 0.995 - ETA: 1s - loss: 0.4093 - acc: 0.995 - ETA: 1s - loss: 0.4094 - acc: 0.995 - ETA: 1s - loss: 0.4095 - acc: 0.995 - ETA: 1s - loss: 0.4093 - acc: 0.995 - ETA: 1s - loss: 0.4091 - acc: 0.995 - ETA: 1s - loss: 0.4092 - acc: 0.994 - ETA: 1s - loss: 0.4095 - acc: 0.994 - ETA: 1s - loss: 0.4099 - acc: 0.994 - ETA: 1s - loss: 0.4099 - acc: 0.994 - ETA: 1s - loss: 0.4098 - acc: 0.995 - ETA: 0s - loss: 0.4107 - acc: 0.994 - ETA: 0s - loss: 0.4109 - acc: 0.994 - ETA: 0s - loss: 0.4109 - acc: 0.994 - ETA: 0s - loss: 0.4114 - acc: 0.994 - ETA: 0s - loss: 0.4111 - acc: 0.995 - ETA: 0s - loss: 0.4123 - acc: 0.994 - ETA: 0s - loss: 0.4120 - acc: 0.994 - ETA: 0s - loss: 0.4117 - acc: 0.994 - ETA: 0s - loss: 0.4120 - acc: 0.994 - ETA: 0s - loss: 0.4117 - acc: 0.994 - ETA: 0s - loss: 0.4114 - acc: 0.994 - ETA: 0s - loss: 0.4110 - acc: 0.994 - ETA: 0s - loss: 0.4143 - acc: 0.994 - ETA: 0s - loss: 0.4140 - acc: 0.994 - ETA: 0s - loss: 0.4143 - acc: 0.993 - ETA: 0s - loss: 0.4145 - acc: 0.993 - ETA: 0s - loss: 0.4143 - acc: 0.993 - ETA: 0s - loss: 0.4144 - acc: 0.993 - ETA: 0s - loss: 0.4144 - acc: 0.9932Epoch 00010: val_loss improved from 1.21715 to 1.16309, saving model to saved_models/weights.best.VGG19.hdf5\n",
      "6680/6680 [==============================] - 4s - loss: 0.4145 - acc: 0.9933 - val_loss: 1.1631 - val_acc: 0.7569\n",
      "Epoch 12/30\n",
      "6672/6680 [============================>.] - ETA: 4s - loss: 0.3659 - acc: 1.000 - ETA: 4s - loss: 0.3830 - acc: 1.000 - ETA: 4s - loss: 0.3831 - acc: 1.000 - ETA: 4s - loss: 0.3872 - acc: 1.000 - ETA: 4s - loss: 0.3843 - acc: 1.000 - ETA: 4s - loss: 0.3810 - acc: 1.000 - ETA: 4s - loss: 0.3797 - acc: 0.998 - ETA: 4s - loss: 0.3788 - acc: 0.998 - ETA: 3s - loss: 0.3793 - acc: 0.998 - ETA: 3s - loss: 0.3774 - acc: 0.998 - ETA: 3s - loss: 0.3784 - acc: 0.998 - ETA: 3s - loss: 0.3788 - acc: 0.999 - ETA: 3s - loss: 0.3794 - acc: 0.999 - ETA: 3s - loss: 0.3787 - acc: 0.999 - ETA: 3s - loss: 0.3776 - acc: 0.999 - ETA: 3s - loss: 0.3780 - acc: 0.999 - ETA: 3s - loss: 0.3777 - acc: 0.999 - ETA: 3s - loss: 0.3779 - acc: 0.999 - ETA: 3s - loss: 0.3774 - acc: 0.999 - ETA: 3s - loss: 0.3766 - acc: 0.999 - ETA: 3s - loss: 0.3759 - acc: 0.999 - ETA: 3s - loss: 0.3757 - acc: 0.999 - ETA: 3s - loss: 0.3770 - acc: 0.998 - ETA: 3s - loss: 0.3768 - acc: 0.998 - ETA: 3s - loss: 0.3774 - acc: 0.998 - ETA: 3s - loss: 0.3777 - acc: 0.998 - ETA: 3s - loss: 0.3775 - acc: 0.998 - ETA: 3s - loss: 0.3782 - acc: 0.997 - ETA: 2s - loss: 0.3785 - acc: 0.997 - ETA: 2s - loss: 0.3783 - acc: 0.997 - ETA: 2s - loss: 0.3786 - acc: 0.997 - ETA: 2s - loss: 0.3797 - acc: 0.996 - ETA: 2s - loss: 0.3792 - acc: 0.997 - ETA: 2s - loss: 0.3792 - acc: 0.997 - ETA: 2s - loss: 0.3796 - acc: 0.997 - ETA: 2s - loss: 0.3789 - acc: 0.997 - ETA: 2s - loss: 0.3786 - acc: 0.997 - ETA: 2s - loss: 0.3783 - acc: 0.997 - ETA: 2s - loss: 0.3782 - acc: 0.997 - ETA: 2s - loss: 0.3780 - acc: 0.997 - ETA: 2s - loss: 0.3782 - acc: 0.997 - ETA: 2s - loss: 0.3779 - acc: 0.997 - ETA: 2s - loss: 0.3779 - acc: 0.997 - ETA: 2s - loss: 0.3824 - acc: 0.996 - ETA: 2s - loss: 0.3821 - acc: 0.996 - ETA: 2s - loss: 0.3819 - acc: 0.996 - ETA: 2s - loss: 0.3819 - acc: 0.996 - ETA: 1s - loss: 0.3817 - acc: 0.996 - ETA: 1s - loss: 0.3816 - acc: 0.996 - ETA: 1s - loss: 0.3814 - acc: 0.996 - ETA: 1s - loss: 0.3813 - acc: 0.996 - ETA: 1s - loss: 0.3817 - acc: 0.996 - ETA: 1s - loss: 0.3820 - acc: 0.996 - ETA: 1s - loss: 0.3819 - acc: 0.996 - ETA: 1s - loss: 0.3821 - acc: 0.996 - ETA: 1s - loss: 0.3819 - acc: 0.996 - ETA: 1s - loss: 0.3815 - acc: 0.996 - ETA: 1s - loss: 0.3811 - acc: 0.996 - ETA: 1s - loss: 0.3818 - acc: 0.996 - ETA: 1s - loss: 0.3819 - acc: 0.996 - ETA: 1s - loss: 0.3819 - acc: 0.996 - ETA: 1s - loss: 0.3821 - acc: 0.996 - ETA: 1s - loss: 0.3821 - acc: 0.996 - ETA: 1s - loss: 0.3826 - acc: 0.996 - ETA: 0s - loss: 0.3827 - acc: 0.996 - ETA: 0s - loss: 0.3824 - acc: 0.996 - ETA: 0s - loss: 0.3822 - acc: 0.996 - ETA: 0s - loss: 0.3819 - acc: 0.996 - ETA: 0s - loss: 0.3816 - acc: 0.996 - ETA: 0s - loss: 0.3817 - acc: 0.996 - ETA: 0s - loss: 0.3817 - acc: 0.996 - ETA: 0s - loss: 0.3813 - acc: 0.996 - ETA: 0s - loss: 0.3814 - acc: 0.996 - ETA: 0s - loss: 0.3815 - acc: 0.996 - ETA: 0s - loss: 0.3811 - acc: 0.996 - ETA: 0s - loss: 0.3809 - acc: 0.996 - ETA: 0s - loss: 0.3812 - acc: 0.996 - ETA: 0s - loss: 0.3813 - acc: 0.996 - ETA: 0s - loss: 0.3810 - acc: 0.996 - ETA: 0s - loss: 0.3815 - acc: 0.9961Epoch 00011: val_loss improved from 1.16309 to 1.13651, saving model to saved_models/weights.best.VGG19.hdf5\n",
      "6680/6680 [==============================] - 4s - loss: 0.3815 - acc: 0.9961 - val_loss: 1.1365 - val_acc: 0.7521\n",
      "Epoch 13/30\n"
     ]
    },
    {
     "name": "stdout",
     "output_type": "stream",
     "text": [
      "6656/6680 [============================>.] - ETA: 4s - loss: 0.3679 - acc: 1.000 - ETA: 4s - loss: 0.3604 - acc: 1.000 - ETA: 4s - loss: 0.3573 - acc: 1.000 - ETA: 4s - loss: 0.3517 - acc: 1.000 - ETA: 4s - loss: 0.3561 - acc: 1.000 - ETA: 4s - loss: 0.3579 - acc: 1.000 - ETA: 4s - loss: 0.3561 - acc: 1.000 - ETA: 3s - loss: 0.3534 - acc: 1.000 - ETA: 3s - loss: 0.3509 - acc: 1.000 - ETA: 3s - loss: 0.3488 - acc: 1.000 - ETA: 3s - loss: 0.3484 - acc: 1.000 - ETA: 3s - loss: 0.3479 - acc: 1.000 - ETA: 3s - loss: 0.3475 - acc: 1.000 - ETA: 3s - loss: 0.3470 - acc: 1.000 - ETA: 3s - loss: 0.3461 - acc: 1.000 - ETA: 3s - loss: 0.3459 - acc: 1.000 - ETA: 3s - loss: 0.3458 - acc: 1.000 - ETA: 3s - loss: 0.3445 - acc: 1.000 - ETA: 3s - loss: 0.3450 - acc: 1.000 - ETA: 3s - loss: 0.3448 - acc: 1.000 - ETA: 3s - loss: 0.3438 - acc: 1.000 - ETA: 2s - loss: 0.3438 - acc: 1.000 - ETA: 2s - loss: 0.3438 - acc: 1.000 - ETA: 2s - loss: 0.3441 - acc: 1.000 - ETA: 2s - loss: 0.3443 - acc: 1.000 - ETA: 2s - loss: 0.3443 - acc: 1.000 - ETA: 2s - loss: 0.3450 - acc: 1.000 - ETA: 2s - loss: 0.3447 - acc: 1.000 - ETA: 2s - loss: 0.3451 - acc: 1.000 - ETA: 2s - loss: 0.3457 - acc: 1.000 - ETA: 2s - loss: 0.3455 - acc: 1.000 - ETA: 2s - loss: 0.3458 - acc: 0.999 - ETA: 2s - loss: 0.3461 - acc: 0.999 - ETA: 2s - loss: 0.3459 - acc: 0.999 - ETA: 2s - loss: 0.3456 - acc: 0.999 - ETA: 2s - loss: 0.3455 - acc: 0.999 - ETA: 2s - loss: 0.3460 - acc: 0.999 - ETA: 2s - loss: 0.3463 - acc: 0.999 - ETA: 2s - loss: 0.3466 - acc: 0.999 - ETA: 2s - loss: 0.3465 - acc: 0.999 - ETA: 1s - loss: 0.3466 - acc: 0.999 - ETA: 1s - loss: 0.3475 - acc: 0.998 - ETA: 1s - loss: 0.3477 - acc: 0.998 - ETA: 1s - loss: 0.3478 - acc: 0.998 - ETA: 1s - loss: 0.3480 - acc: 0.998 - ETA: 1s - loss: 0.3479 - acc: 0.998 - ETA: 1s - loss: 0.3480 - acc: 0.998 - ETA: 1s - loss: 0.3478 - acc: 0.998 - ETA: 1s - loss: 0.3522 - acc: 0.998 - ETA: 1s - loss: 0.3520 - acc: 0.998 - ETA: 1s - loss: 0.3521 - acc: 0.998 - ETA: 1s - loss: 0.3526 - acc: 0.998 - ETA: 1s - loss: 0.3527 - acc: 0.998 - ETA: 1s - loss: 0.3528 - acc: 0.998 - ETA: 1s - loss: 0.3533 - acc: 0.997 - ETA: 1s - loss: 0.3535 - acc: 0.997 - ETA: 1s - loss: 0.3530 - acc: 0.997 - ETA: 0s - loss: 0.3533 - acc: 0.997 - ETA: 0s - loss: 0.3530 - acc: 0.997 - ETA: 0s - loss: 0.3529 - acc: 0.997 - ETA: 0s - loss: 0.3531 - acc: 0.997 - ETA: 0s - loss: 0.3536 - acc: 0.997 - ETA: 0s - loss: 0.3537 - acc: 0.997 - ETA: 0s - loss: 0.3539 - acc: 0.997 - ETA: 0s - loss: 0.3546 - acc: 0.997 - ETA: 0s - loss: 0.3547 - acc: 0.997 - ETA: 0s - loss: 0.3548 - acc: 0.997 - ETA: 0s - loss: 0.3547 - acc: 0.997 - ETA: 0s - loss: 0.3545 - acc: 0.997 - ETA: 0s - loss: 0.3545 - acc: 0.997 - ETA: 0s - loss: 0.3546 - acc: 0.997 - ETA: 0s - loss: 0.3546 - acc: 0.997 - ETA: 0s - loss: 0.3545 - acc: 0.997 - ETA: 0s - loss: 0.3553 - acc: 0.996 - ETA: 0s - loss: 0.3561 - acc: 0.996 - ETA: 0s - loss: 0.3560 - acc: 0.9964Epoch 00012: val_loss improved from 1.13651 to 1.09837, saving model to saved_models/weights.best.VGG19.hdf5\n",
      "6680/6680 [==============================] - 4s - loss: 0.3560 - acc: 0.9963 - val_loss: 1.0984 - val_acc: 0.7545\n",
      "Epoch 14/30\n",
      "6608/6680 [============================>.] - ETA: 5s - loss: 0.3376 - acc: 1.000 - ETA: 4s - loss: 0.3276 - acc: 1.000 - ETA: 4s - loss: 0.3332 - acc: 1.000 - ETA: 4s - loss: 0.3399 - acc: 0.996 - ETA: 3s - loss: 0.3391 - acc: 0.997 - ETA: 3s - loss: 0.3382 - acc: 0.995 - ETA: 3s - loss: 0.3368 - acc: 0.996 - ETA: 3s - loss: 0.3359 - acc: 0.996 - ETA: 4s - loss: 0.3349 - acc: 0.997 - ETA: 4s - loss: 0.3340 - acc: 0.997 - ETA: 4s - loss: 0.3332 - acc: 0.997 - ETA: 4s - loss: 0.3330 - acc: 0.997 - ETA: 4s - loss: 0.3324 - acc: 0.997 - ETA: 4s - loss: 0.3325 - acc: 0.998 - ETA: 4s - loss: 0.3342 - acc: 0.998 - ETA: 4s - loss: 0.3328 - acc: 0.998 - ETA: 4s - loss: 0.3325 - acc: 0.998 - ETA: 3s - loss: 0.3308 - acc: 0.998 - ETA: 3s - loss: 0.3300 - acc: 0.998 - ETA: 3s - loss: 0.3287 - acc: 0.998 - ETA: 3s - loss: 0.3282 - acc: 0.998 - ETA: 3s - loss: 0.3275 - acc: 0.998 - ETA: 3s - loss: 0.3271 - acc: 0.998 - ETA: 3s - loss: 0.3267 - acc: 0.998 - ETA: 3s - loss: 0.3269 - acc: 0.999 - ETA: 3s - loss: 0.3268 - acc: 0.999 - ETA: 3s - loss: 0.3274 - acc: 0.999 - ETA: 3s - loss: 0.3272 - acc: 0.999 - ETA: 3s - loss: 0.3273 - acc: 0.999 - ETA: 3s - loss: 0.3277 - acc: 0.998 - ETA: 3s - loss: 0.3278 - acc: 0.998 - ETA: 2s - loss: 0.3281 - acc: 0.998 - ETA: 2s - loss: 0.3288 - acc: 0.997 - ETA: 2s - loss: 0.3288 - acc: 0.997 - ETA: 2s - loss: 0.3291 - acc: 0.997 - ETA: 2s - loss: 0.3292 - acc: 0.997 - ETA: 2s - loss: 0.3288 - acc: 0.997 - ETA: 2s - loss: 0.3290 - acc: 0.997 - ETA: 2s - loss: 0.3286 - acc: 0.997 - ETA: 2s - loss: 0.3295 - acc: 0.997 - ETA: 2s - loss: 0.3347 - acc: 0.997 - ETA: 2s - loss: 0.3345 - acc: 0.997 - ETA: 2s - loss: 0.3342 - acc: 0.997 - ETA: 2s - loss: 0.3341 - acc: 0.997 - ETA: 2s - loss: 0.3338 - acc: 0.997 - ETA: 2s - loss: 0.3336 - acc: 0.997 - ETA: 2s - loss: 0.3333 - acc: 0.997 - ETA: 2s - loss: 0.3331 - acc: 0.997 - ETA: 2s - loss: 0.3331 - acc: 0.997 - ETA: 1s - loss: 0.3337 - acc: 0.997 - ETA: 1s - loss: 0.3333 - acc: 0.997 - ETA: 1s - loss: 0.3335 - acc: 0.997 - ETA: 1s - loss: 0.3334 - acc: 0.997 - ETA: 1s - loss: 0.3333 - acc: 0.997 - ETA: 1s - loss: 0.3331 - acc: 0.997 - ETA: 1s - loss: 0.3331 - acc: 0.997 - ETA: 1s - loss: 0.3332 - acc: 0.997 - ETA: 1s - loss: 0.3332 - acc: 0.997 - ETA: 1s - loss: 0.3327 - acc: 0.997 - ETA: 1s - loss: 0.3324 - acc: 0.997 - ETA: 1s - loss: 0.3323 - acc: 0.997 - ETA: 1s - loss: 0.3325 - acc: 0.997 - ETA: 1s - loss: 0.3322 - acc: 0.997 - ETA: 1s - loss: 0.3324 - acc: 0.997 - ETA: 1s - loss: 0.3323 - acc: 0.997 - ETA: 1s - loss: 0.3319 - acc: 0.997 - ETA: 1s - loss: 0.3319 - acc: 0.997 - ETA: 1s - loss: 0.3322 - acc: 0.997 - ETA: 0s - loss: 0.3331 - acc: 0.997 - ETA: 0s - loss: 0.3342 - acc: 0.996 - ETA: 0s - loss: 0.3341 - acc: 0.996 - ETA: 0s - loss: 0.3340 - acc: 0.996 - ETA: 0s - loss: 0.3336 - acc: 0.996 - ETA: 0s - loss: 0.3335 - acc: 0.996 - ETA: 0s - loss: 0.3334 - acc: 0.996 - ETA: 0s - loss: 0.3337 - acc: 0.996 - ETA: 0s - loss: 0.3340 - acc: 0.996 - ETA: 0s - loss: 0.3340 - acc: 0.996 - ETA: 0s - loss: 0.3348 - acc: 0.996 - ETA: 0s - loss: 0.3346 - acc: 0.996 - ETA: 0s - loss: 0.3345 - acc: 0.996 - ETA: 0s - loss: 0.3350 - acc: 0.996 - ETA: 0s - loss: 0.3350 - acc: 0.996 - ETA: 0s - loss: 0.3350 - acc: 0.996 - ETA: 0s - loss: 0.3353 - acc: 0.9968Epoch 00013: val_loss improved from 1.09837 to 1.04480, saving model to saved_models/weights.best.VGG19.hdf5\n",
      "6680/6680 [==============================] - 4s - loss: 0.3352 - acc: 0.9969 - val_loss: 1.0448 - val_acc: 0.7581\n",
      "Epoch 15/30\n",
      "6608/6680 [============================>.] - ETA: 4s - loss: 0.2764 - acc: 1.000 - ETA: 5s - loss: 0.2910 - acc: 1.000 - ETA: 5s - loss: 0.3011 - acc: 1.000 - ETA: 5s - loss: 0.3083 - acc: 1.000 - ETA: 4s - loss: 0.3116 - acc: 1.000 - ETA: 4s - loss: 0.3120 - acc: 1.000 - ETA: 4s - loss: 0.3132 - acc: 1.000 - ETA: 4s - loss: 0.3148 - acc: 1.000 - ETA: 4s - loss: 0.3159 - acc: 1.000 - ETA: 4s - loss: 0.3141 - acc: 1.000 - ETA: 4s - loss: 0.3128 - acc: 1.000 - ETA: 4s - loss: 0.3125 - acc: 1.000 - ETA: 4s - loss: 0.3130 - acc: 1.000 - ETA: 4s - loss: 0.3125 - acc: 0.998 - ETA: 4s - loss: 0.3150 - acc: 0.998 - ETA: 4s - loss: 0.3146 - acc: 0.998 - ETA: 4s - loss: 0.3145 - acc: 0.998 - ETA: 4s - loss: 0.3126 - acc: 0.998 - ETA: 4s - loss: 0.3133 - acc: 0.998 - ETA: 3s - loss: 0.3121 - acc: 0.998 - ETA: 3s - loss: 0.3114 - acc: 0.998 - ETA: 3s - loss: 0.3132 - acc: 0.998 - ETA: 3s - loss: 0.3132 - acc: 0.997 - ETA: 3s - loss: 0.3127 - acc: 0.997 - ETA: 3s - loss: 0.3118 - acc: 0.997 - ETA: 3s - loss: 0.3115 - acc: 0.998 - ETA: 3s - loss: 0.3115 - acc: 0.998 - ETA: 3s - loss: 0.3133 - acc: 0.997 - ETA: 3s - loss: 0.3137 - acc: 0.996 - ETA: 3s - loss: 0.3133 - acc: 0.996 - ETA: 3s - loss: 0.3128 - acc: 0.997 - ETA: 3s - loss: 0.3128 - acc: 0.997 - ETA: 2s - loss: 0.3124 - acc: 0.997 - ETA: 2s - loss: 0.3118 - acc: 0.997 - ETA: 2s - loss: 0.3115 - acc: 0.997 - ETA: 2s - loss: 0.3117 - acc: 0.997 - ETA: 2s - loss: 0.3115 - acc: 0.997 - ETA: 2s - loss: 0.3122 - acc: 0.997 - ETA: 2s - loss: 0.3126 - acc: 0.997 - ETA: 2s - loss: 0.3133 - acc: 0.996 - ETA: 2s - loss: 0.3131 - acc: 0.996 - ETA: 2s - loss: 0.3131 - acc: 0.996 - ETA: 2s - loss: 0.3132 - acc: 0.997 - ETA: 2s - loss: 0.3135 - acc: 0.997 - ETA: 2s - loss: 0.3132 - acc: 0.997 - ETA: 2s - loss: 0.3131 - acc: 0.997 - ETA: 2s - loss: 0.3125 - acc: 0.997 - ETA: 2s - loss: 0.3124 - acc: 0.997 - ETA: 2s - loss: 0.3122 - acc: 0.997 - ETA: 1s - loss: 0.3129 - acc: 0.997 - ETA: 1s - loss: 0.3127 - acc: 0.997 - ETA: 1s - loss: 0.3125 - acc: 0.997 - ETA: 1s - loss: 0.3129 - acc: 0.997 - ETA: 1s - loss: 0.3131 - acc: 0.997 - ETA: 1s - loss: 0.3134 - acc: 0.997 - ETA: 1s - loss: 0.3133 - acc: 0.997 - ETA: 1s - loss: 0.3138 - acc: 0.997 - ETA: 1s - loss: 0.3138 - acc: 0.997 - ETA: 1s - loss: 0.3135 - acc: 0.997 - ETA: 1s - loss: 0.3135 - acc: 0.997 - ETA: 1s - loss: 0.3134 - acc: 0.997 - ETA: 1s - loss: 0.3134 - acc: 0.997 - ETA: 1s - loss: 0.3138 - acc: 0.997 - ETA: 1s - loss: 0.3137 - acc: 0.997 - ETA: 1s - loss: 0.3141 - acc: 0.997 - ETA: 0s - loss: 0.3142 - acc: 0.997 - ETA: 0s - loss: 0.3142 - acc: 0.997 - ETA: 0s - loss: 0.3142 - acc: 0.996 - ETA: 0s - loss: 0.3142 - acc: 0.996 - ETA: 0s - loss: 0.3141 - acc: 0.997 - ETA: 0s - loss: 0.3142 - acc: 0.997 - ETA: 0s - loss: 0.3142 - acc: 0.996 - ETA: 0s - loss: 0.3140 - acc: 0.996 - ETA: 0s - loss: 0.3138 - acc: 0.997 - ETA: 0s - loss: 0.3142 - acc: 0.997 - ETA: 0s - loss: 0.3142 - acc: 0.997 - ETA: 0s - loss: 0.3139 - acc: 0.997 - ETA: 0s - loss: 0.3140 - acc: 0.997 - ETA: 0s - loss: 0.3140 - acc: 0.997 - ETA: 0s - loss: 0.3137 - acc: 0.997 - ETA: 0s - loss: 0.3159 - acc: 0.997 - ETA: 0s - loss: 0.3160 - acc: 0.997 - ETA: 0s - loss: 0.3161 - acc: 0.9971Epoch 00014: val_loss improved from 1.04480 to 1.03121, saving model to saved_models/weights.best.VGG19.hdf5\n",
      "6680/6680 [==============================] - 4s - loss: 0.3161 - acc: 0.9972 - val_loss: 1.0312 - val_acc: 0.7641\n",
      "Epoch 16/30\n",
      "6640/6680 [============================>.] - ETA: 5s - loss: 0.2809 - acc: 1.000 - ETA: 4s - loss: 0.2797 - acc: 1.000 - ETA: 5s - loss: 0.2860 - acc: 1.000 - ETA: 4s - loss: 0.2860 - acc: 1.000 - ETA: 4s - loss: 0.2893 - acc: 0.997 - ETA: 4s - loss: 0.2923 - acc: 0.997 - ETA: 4s - loss: 0.2907 - acc: 0.998 - ETA: 4s - loss: 0.2899 - acc: 0.998 - ETA: 4s - loss: 0.2886 - acc: 0.998 - ETA: 4s - loss: 0.2864 - acc: 0.998 - ETA: 4s - loss: 0.2867 - acc: 0.998 - ETA: 4s - loss: 0.2870 - acc: 0.998 - ETA: 4s - loss: 0.2869 - acc: 0.998 - ETA: 4s - loss: 0.2884 - acc: 0.999 - ETA: 4s - loss: 0.2882 - acc: 0.999 - ETA: 3s - loss: 0.2898 - acc: 0.998 - ETA: 3s - loss: 0.2886 - acc: 0.998 - ETA: 3s - loss: 0.2886 - acc: 0.998 - ETA: 3s - loss: 0.2896 - acc: 0.997 - ETA: 3s - loss: 0.2888 - acc: 0.998 - ETA: 3s - loss: 0.2886 - acc: 0.998 - ETA: 3s - loss: 0.2888 - acc: 0.998 - ETA: 3s - loss: 0.2885 - acc: 0.998 - ETA: 3s - loss: 0.2888 - acc: 0.998 - ETA: 3s - loss: 0.2887 - acc: 0.998 - ETA: 3s - loss: 0.2886 - acc: 0.998 - ETA: 3s - loss: 0.2888 - acc: 0.998 - ETA: 3s - loss: 0.2883 - acc: 0.998 - ETA: 3s - loss: 0.2887 - acc: 0.998 - ETA: 2s - loss: 0.2888 - acc: 0.998 - ETA: 2s - loss: 0.2887 - acc: 0.998 - ETA: 2s - loss: 0.2891 - acc: 0.998 - ETA: 2s - loss: 0.2893 - acc: 0.998 - ETA: 2s - loss: 0.2891 - acc: 0.998 - ETA: 2s - loss: 0.2895 - acc: 0.998 - ETA: 2s - loss: 0.2893 - acc: 0.998 - ETA: 2s - loss: 0.2903 - acc: 0.999 - ETA: 2s - loss: 0.2917 - acc: 0.998 - ETA: 2s - loss: 0.2929 - acc: 0.998 - ETA: 2s - loss: 0.2932 - acc: 0.998 - ETA: 2s - loss: 0.2989 - acc: 0.997 - ETA: 2s - loss: 0.2986 - acc: 0.997 - ETA: 2s - loss: 0.2987 - acc: 0.997 - ETA: 2s - loss: 0.2986 - acc: 0.997 - ETA: 2s - loss: 0.2982 - acc: 0.997 - ETA: 2s - loss: 0.2983 - acc: 0.997 - ETA: 2s - loss: 0.2980 - acc: 0.997 - ETA: 1s - loss: 0.2981 - acc: 0.997 - ETA: 1s - loss: 0.2979 - acc: 0.997 - ETA: 1s - loss: 0.2982 - acc: 0.997 - ETA: 1s - loss: 0.2982 - acc: 0.997 - ETA: 1s - loss: 0.2982 - acc: 0.997 - ETA: 1s - loss: 0.2981 - acc: 0.997 - ETA: 1s - loss: 0.2983 - acc: 0.997 - ETA: 1s - loss: 0.2980 - acc: 0.998 - ETA: 1s - loss: 0.2981 - acc: 0.998 - ETA: 1s - loss: 0.2981 - acc: 0.998 - ETA: 1s - loss: 0.2980 - acc: 0.998 - ETA: 1s - loss: 0.2983 - acc: 0.998 - ETA: 1s - loss: 0.2980 - acc: 0.998 - ETA: 1s - loss: 0.2978 - acc: 0.998 - ETA: 1s - loss: 0.2978 - acc: 0.998 - ETA: 1s - loss: 0.2975 - acc: 0.998 - ETA: 1s - loss: 0.2975 - acc: 0.998 - ETA: 1s - loss: 0.2974 - acc: 0.998 - ETA: 0s - loss: 0.2984 - acc: 0.997 - ETA: 0s - loss: 0.2987 - acc: 0.997 - ETA: 0s - loss: 0.2986 - acc: 0.998 - ETA: 0s - loss: 0.2987 - acc: 0.998 - ETA: 0s - loss: 0.2985 - acc: 0.998 - ETA: 0s - loss: 0.2984 - acc: 0.998 - ETA: 0s - loss: 0.2984 - acc: 0.998 - ETA: 0s - loss: 0.2988 - acc: 0.997 - ETA: 0s - loss: 0.2986 - acc: 0.998 - ETA: 0s - loss: 0.2984 - acc: 0.998 - ETA: 0s - loss: 0.2986 - acc: 0.997 - ETA: 0s - loss: 0.2988 - acc: 0.997 - ETA: 0s - loss: 0.2989 - acc: 0.997 - ETA: 0s - loss: 0.2992 - acc: 0.997 - ETA: 0s - loss: 0.2995 - acc: 0.997 - ETA: 0s - loss: 0.2996 - acc: 0.996 - ETA: 0s - loss: 0.2995 - acc: 0.996 - ETA: 0s - loss: 0.2995 - acc: 0.9968Epoch 00015: val_loss improved from 1.03121 to 1.02127, saving model to saved_models/weights.best.VGG19.hdf5\n",
      "6680/6680 [==============================] - 4s - loss: 0.2999 - acc: 0.9967 - val_loss: 1.0213 - val_acc: 0.7629\n",
      "Epoch 17/30\n"
     ]
    },
    {
     "name": "stdout",
     "output_type": "stream",
     "text": [
      "6624/6680 [============================>.] - ETA: 4s - loss: 0.2480 - acc: 1.000 - ETA: 4s - loss: 0.2848 - acc: 1.000 - ETA: 4s - loss: 0.2890 - acc: 0.994 - ETA: 4s - loss: 0.2894 - acc: 0.995 - ETA: 4s - loss: 0.2832 - acc: 0.996 - ETA: 4s - loss: 0.2822 - acc: 0.997 - ETA: 4s - loss: 0.2803 - acc: 0.997 - ETA: 4s - loss: 0.2807 - acc: 0.998 - ETA: 4s - loss: 0.2819 - acc: 0.996 - ETA: 4s - loss: 0.2820 - acc: 0.997 - ETA: 4s - loss: 0.2818 - acc: 0.997 - ETA: 4s - loss: 0.2814 - acc: 0.997 - ETA: 4s - loss: 0.2802 - acc: 0.997 - ETA: 4s - loss: 0.2800 - acc: 0.997 - ETA: 4s - loss: 0.2791 - acc: 0.998 - ETA: 4s - loss: 0.2780 - acc: 0.998 - ETA: 4s - loss: 0.2774 - acc: 0.998 - ETA: 4s - loss: 0.2778 - acc: 0.998 - ETA: 4s - loss: 0.2778 - acc: 0.998 - ETA: 4s - loss: 0.2785 - acc: 0.998 - ETA: 4s - loss: 0.2793 - acc: 0.997 - ETA: 3s - loss: 0.2795 - acc: 0.998 - ETA: 3s - loss: 0.2797 - acc: 0.998 - ETA: 3s - loss: 0.2791 - acc: 0.998 - ETA: 3s - loss: 0.2802 - acc: 0.997 - ETA: 3s - loss: 0.2805 - acc: 0.997 - ETA: 3s - loss: 0.2804 - acc: 0.997 - ETA: 3s - loss: 0.2804 - acc: 0.998 - ETA: 3s - loss: 0.2796 - acc: 0.998 - ETA: 3s - loss: 0.2792 - acc: 0.998 - ETA: 3s - loss: 0.2789 - acc: 0.998 - ETA: 3s - loss: 0.2786 - acc: 0.998 - ETA: 3s - loss: 0.2789 - acc: 0.997 - ETA: 3s - loss: 0.2789 - acc: 0.998 - ETA: 3s - loss: 0.2790 - acc: 0.998 - ETA: 2s - loss: 0.2792 - acc: 0.998 - ETA: 2s - loss: 0.2790 - acc: 0.998 - ETA: 2s - loss: 0.2791 - acc: 0.998 - ETA: 2s - loss: 0.2794 - acc: 0.998 - ETA: 2s - loss: 0.2792 - acc: 0.998 - ETA: 2s - loss: 0.2793 - acc: 0.998 - ETA: 2s - loss: 0.2790 - acc: 0.998 - ETA: 2s - loss: 0.2791 - acc: 0.998 - ETA: 2s - loss: 0.2789 - acc: 0.998 - ETA: 2s - loss: 0.2790 - acc: 0.997 - ETA: 2s - loss: 0.2793 - acc: 0.997 - ETA: 2s - loss: 0.2797 - acc: 0.997 - ETA: 2s - loss: 0.2799 - acc: 0.997 - ETA: 2s - loss: 0.2797 - acc: 0.997 - ETA: 1s - loss: 0.2796 - acc: 0.997 - ETA: 1s - loss: 0.2795 - acc: 0.997 - ETA: 1s - loss: 0.2796 - acc: 0.997 - ETA: 1s - loss: 0.2799 - acc: 0.997 - ETA: 1s - loss: 0.2797 - acc: 0.997 - ETA: 1s - loss: 0.2796 - acc: 0.997 - ETA: 1s - loss: 0.2794 - acc: 0.997 - ETA: 1s - loss: 0.2793 - acc: 0.997 - ETA: 1s - loss: 0.2793 - acc: 0.998 - ETA: 1s - loss: 0.2791 - acc: 0.998 - ETA: 1s - loss: 0.2795 - acc: 0.998 - ETA: 1s - loss: 0.2796 - acc: 0.998 - ETA: 1s - loss: 0.2795 - acc: 0.998 - ETA: 1s - loss: 0.2798 - acc: 0.998 - ETA: 1s - loss: 0.2803 - acc: 0.997 - ETA: 1s - loss: 0.2806 - acc: 0.997 - ETA: 1s - loss: 0.2805 - acc: 0.997 - ETA: 0s - loss: 0.2809 - acc: 0.997 - ETA: 0s - loss: 0.2812 - acc: 0.997 - ETA: 0s - loss: 0.2816 - acc: 0.997 - ETA: 0s - loss: 0.2816 - acc: 0.997 - ETA: 0s - loss: 0.2820 - acc: 0.997 - ETA: 0s - loss: 0.2820 - acc: 0.997 - ETA: 0s - loss: 0.2819 - acc: 0.997 - ETA: 0s - loss: 0.2821 - acc: 0.997 - ETA: 0s - loss: 0.2845 - acc: 0.997 - ETA: 0s - loss: 0.2843 - acc: 0.997 - ETA: 0s - loss: 0.2841 - acc: 0.997 - ETA: 0s - loss: 0.2848 - acc: 0.997 - ETA: 0s - loss: 0.2848 - acc: 0.997 - ETA: 0s - loss: 0.2850 - acc: 0.997 - ETA: 0s - loss: 0.2854 - acc: 0.997 - ETA: 0s - loss: 0.2854 - acc: 0.9971Epoch 00016: val_loss improved from 1.02127 to 0.97935, saving model to saved_models/weights.best.VGG19.hdf5\n",
      "6680/6680 [==============================] - 4s - loss: 0.2856 - acc: 0.9970 - val_loss: 0.9793 - val_acc: 0.7749\n",
      "Epoch 18/30\n",
      "6624/6680 [============================>.] - ETA: 5s - loss: 0.2581 - acc: 1.000 - ETA: 5s - loss: 0.2620 - acc: 1.000 - ETA: 4s - loss: 0.2684 - acc: 1.000 - ETA: 4s - loss: 0.2649 - acc: 1.000 - ETA: 4s - loss: 0.2660 - acc: 0.996 - ETA: 4s - loss: 0.2662 - acc: 0.997 - ETA: 4s - loss: 0.2631 - acc: 0.998 - ETA: 4s - loss: 0.2646 - acc: 0.998 - ETA: 4s - loss: 0.2630 - acc: 0.998 - ETA: 3s - loss: 0.2629 - acc: 0.998 - ETA: 3s - loss: 0.2614 - acc: 0.998 - ETA: 3s - loss: 0.2621 - acc: 0.998 - ETA: 3s - loss: 0.2634 - acc: 0.999 - ETA: 3s - loss: 0.2618 - acc: 0.999 - ETA: 3s - loss: 0.2625 - acc: 0.999 - ETA: 3s - loss: 0.2619 - acc: 0.999 - ETA: 3s - loss: 0.2622 - acc: 0.999 - ETA: 3s - loss: 0.2620 - acc: 0.999 - ETA: 3s - loss: 0.2624 - acc: 0.999 - ETA: 3s - loss: 0.2627 - acc: 0.999 - ETA: 3s - loss: 0.2643 - acc: 0.998 - ETA: 3s - loss: 0.2643 - acc: 0.998 - ETA: 3s - loss: 0.2659 - acc: 0.998 - ETA: 2s - loss: 0.2663 - acc: 0.998 - ETA: 2s - loss: 0.2659 - acc: 0.998 - ETA: 2s - loss: 0.2662 - acc: 0.998 - ETA: 2s - loss: 0.2663 - acc: 0.998 - ETA: 2s - loss: 0.2734 - acc: 0.998 - ETA: 2s - loss: 0.2733 - acc: 0.998 - ETA: 2s - loss: 0.2733 - acc: 0.998 - ETA: 2s - loss: 0.2735 - acc: 0.998 - ETA: 2s - loss: 0.2729 - acc: 0.998 - ETA: 2s - loss: 0.2722 - acc: 0.998 - ETA: 2s - loss: 0.2719 - acc: 0.998 - ETA: 2s - loss: 0.2719 - acc: 0.998 - ETA: 2s - loss: 0.2717 - acc: 0.998 - ETA: 2s - loss: 0.2712 - acc: 0.998 - ETA: 2s - loss: 0.2707 - acc: 0.998 - ETA: 2s - loss: 0.2705 - acc: 0.998 - ETA: 2s - loss: 0.2702 - acc: 0.998 - ETA: 2s - loss: 0.2702 - acc: 0.998 - ETA: 2s - loss: 0.2712 - acc: 0.997 - ETA: 2s - loss: 0.2714 - acc: 0.997 - ETA: 2s - loss: 0.2720 - acc: 0.996 - ETA: 2s - loss: 0.2721 - acc: 0.996 - ETA: 1s - loss: 0.2717 - acc: 0.996 - ETA: 1s - loss: 0.2723 - acc: 0.996 - ETA: 1s - loss: 0.2725 - acc: 0.996 - ETA: 1s - loss: 0.2725 - acc: 0.996 - ETA: 1s - loss: 0.2726 - acc: 0.996 - ETA: 1s - loss: 0.2724 - acc: 0.996 - ETA: 1s - loss: 0.2725 - acc: 0.996 - ETA: 1s - loss: 0.2728 - acc: 0.996 - ETA: 1s - loss: 0.2729 - acc: 0.996 - ETA: 1s - loss: 0.2728 - acc: 0.996 - ETA: 1s - loss: 0.2729 - acc: 0.996 - ETA: 1s - loss: 0.2729 - acc: 0.996 - ETA: 1s - loss: 0.2732 - acc: 0.996 - ETA: 1s - loss: 0.2731 - acc: 0.996 - ETA: 1s - loss: 0.2730 - acc: 0.996 - ETA: 1s - loss: 0.2726 - acc: 0.996 - ETA: 1s - loss: 0.2728 - acc: 0.996 - ETA: 1s - loss: 0.2730 - acc: 0.996 - ETA: 1s - loss: 0.2729 - acc: 0.996 - ETA: 1s - loss: 0.2730 - acc: 0.996 - ETA: 1s - loss: 0.2731 - acc: 0.996 - ETA: 0s - loss: 0.2728 - acc: 0.997 - ETA: 0s - loss: 0.2732 - acc: 0.997 - ETA: 0s - loss: 0.2735 - acc: 0.996 - ETA: 0s - loss: 0.2738 - acc: 0.996 - ETA: 0s - loss: 0.2738 - acc: 0.997 - ETA: 0s - loss: 0.2737 - acc: 0.997 - ETA: 0s - loss: 0.2741 - acc: 0.996 - ETA: 0s - loss: 0.2742 - acc: 0.996 - ETA: 0s - loss: 0.2742 - acc: 0.997 - ETA: 0s - loss: 0.2745 - acc: 0.997 - ETA: 0s - loss: 0.2746 - acc: 0.997 - ETA: 0s - loss: 0.2745 - acc: 0.997 - ETA: 0s - loss: 0.2747 - acc: 0.997 - ETA: 0s - loss: 0.2745 - acc: 0.997 - ETA: 0s - loss: 0.2744 - acc: 0.997 - ETA: 0s - loss: 0.2743 - acc: 0.997 - ETA: 0s - loss: 0.2743 - acc: 0.9971Epoch 00017: val_loss improved from 0.97935 to 0.95612, saving model to saved_models/weights.best.VGG19.hdf5\n",
      "6680/6680 [==============================] - 4s - loss: 0.2743 - acc: 0.9972 - val_loss: 0.9561 - val_acc: 0.7701\n",
      "Epoch 19/30\n",
      "6656/6680 [============================>.] - ETA: 4s - loss: 0.2360 - acc: 1.000 - ETA: 3s - loss: 0.2653 - acc: 0.991 - ETA: 3s - loss: 0.2597 - acc: 0.995 - ETA: 3s - loss: 0.2543 - acc: 0.996 - ETA: 3s - loss: 0.2602 - acc: 0.994 - ETA: 3s - loss: 0.2576 - acc: 0.995 - ETA: 3s - loss: 0.2554 - acc: 0.996 - ETA: 3s - loss: 0.2564 - acc: 0.995 - ETA: 3s - loss: 0.2575 - acc: 0.994 - ETA: 3s - loss: 0.2557 - acc: 0.995 - ETA: 3s - loss: 0.2562 - acc: 0.995 - ETA: 3s - loss: 0.2577 - acc: 0.995 - ETA: 3s - loss: 0.2586 - acc: 0.995 - ETA: 3s - loss: 0.2579 - acc: 0.995 - ETA: 3s - loss: 0.2587 - acc: 0.995 - ETA: 3s - loss: 0.2573 - acc: 0.996 - ETA: 3s - loss: 0.2571 - acc: 0.996 - ETA: 3s - loss: 0.2574 - acc: 0.996 - ETA: 3s - loss: 0.2573 - acc: 0.996 - ETA: 3s - loss: 0.2572 - acc: 0.997 - ETA: 3s - loss: 0.2571 - acc: 0.997 - ETA: 3s - loss: 0.2574 - acc: 0.997 - ETA: 3s - loss: 0.2569 - acc: 0.997 - ETA: 2s - loss: 0.2567 - acc: 0.997 - ETA: 2s - loss: 0.2570 - acc: 0.997 - ETA: 2s - loss: 0.2566 - acc: 0.997 - ETA: 2s - loss: 0.2563 - acc: 0.997 - ETA: 2s - loss: 0.2563 - acc: 0.997 - ETA: 2s - loss: 0.2563 - acc: 0.998 - ETA: 2s - loss: 0.2564 - acc: 0.998 - ETA: 2s - loss: 0.2575 - acc: 0.997 - ETA: 2s - loss: 0.2576 - acc: 0.997 - ETA: 2s - loss: 0.2580 - acc: 0.997 - ETA: 2s - loss: 0.2583 - acc: 0.997 - ETA: 2s - loss: 0.2589 - acc: 0.996 - ETA: 2s - loss: 0.2587 - acc: 0.997 - ETA: 2s - loss: 0.2588 - acc: 0.997 - ETA: 2s - loss: 0.2588 - acc: 0.997 - ETA: 2s - loss: 0.2587 - acc: 0.997 - ETA: 2s - loss: 0.2586 - acc: 0.997 - ETA: 2s - loss: 0.2586 - acc: 0.997 - ETA: 2s - loss: 0.2591 - acc: 0.996 - ETA: 2s - loss: 0.2590 - acc: 0.996 - ETA: 1s - loss: 0.2588 - acc: 0.996 - ETA: 1s - loss: 0.2587 - acc: 0.996 - ETA: 1s - loss: 0.2586 - acc: 0.996 - ETA: 1s - loss: 0.2586 - acc: 0.996 - ETA: 1s - loss: 0.2587 - acc: 0.997 - ETA: 1s - loss: 0.2587 - acc: 0.997 - ETA: 1s - loss: 0.2588 - acc: 0.997 - ETA: 1s - loss: 0.2591 - acc: 0.997 - ETA: 1s - loss: 0.2590 - acc: 0.997 - ETA: 1s - loss: 0.2589 - acc: 0.997 - ETA: 1s - loss: 0.2588 - acc: 0.997 - ETA: 1s - loss: 0.2591 - acc: 0.997 - ETA: 1s - loss: 0.2592 - acc: 0.997 - ETA: 1s - loss: 0.2594 - acc: 0.997 - ETA: 1s - loss: 0.2593 - acc: 0.997 - ETA: 1s - loss: 0.2591 - acc: 0.997 - ETA: 1s - loss: 0.2592 - acc: 0.997 - ETA: 1s - loss: 0.2623 - acc: 0.997 - ETA: 1s - loss: 0.2624 - acc: 0.997 - ETA: 1s - loss: 0.2622 - acc: 0.997 - ETA: 1s - loss: 0.2628 - acc: 0.997 - ETA: 0s - loss: 0.2627 - acc: 0.997 - ETA: 0s - loss: 0.2628 - acc: 0.997 - ETA: 0s - loss: 0.2628 - acc: 0.997 - ETA: 0s - loss: 0.2629 - acc: 0.997 - ETA: 0s - loss: 0.2631 - acc: 0.997 - ETA: 0s - loss: 0.2630 - acc: 0.997 - ETA: 0s - loss: 0.2630 - acc: 0.997 - ETA: 0s - loss: 0.2636 - acc: 0.997 - ETA: 0s - loss: 0.2641 - acc: 0.997 - ETA: 0s - loss: 0.2643 - acc: 0.997 - ETA: 0s - loss: 0.2642 - acc: 0.997 - ETA: 0s - loss: 0.2644 - acc: 0.997 - ETA: 0s - loss: 0.2645 - acc: 0.997 - ETA: 0s - loss: 0.2645 - acc: 0.997 - ETA: 0s - loss: 0.2642 - acc: 0.997 - ETA: 0s - loss: 0.2643 - acc: 0.9971Epoch 00018: val_loss improved from 0.95612 to 0.92655, saving model to saved_models/weights.best.VGG19.hdf5\n",
      "6680/6680 [==============================] - 4s - loss: 0.2643 - acc: 0.9972 - val_loss: 0.9266 - val_acc: 0.7856\n",
      "Epoch 20/30\n",
      "6608/6680 [============================>.] - ETA: 5s - loss: 0.2237 - acc: 1.000 - ETA: 4s - loss: 0.2416 - acc: 1.000 - ETA: 4s - loss: 0.2549 - acc: 1.000 - ETA: 4s - loss: 0.2517 - acc: 1.000 - ETA: 4s - loss: 0.2507 - acc: 1.000 - ETA: 3s - loss: 0.2503 - acc: 0.997 - ETA: 3s - loss: 0.2496 - acc: 0.998 - ETA: 3s - loss: 0.2487 - acc: 0.998 - ETA: 3s - loss: 0.2475 - acc: 0.998 - ETA: 3s - loss: 0.2462 - acc: 0.998 - ETA: 3s - loss: 0.2468 - acc: 0.998 - ETA: 3s - loss: 0.2453 - acc: 0.999 - ETA: 3s - loss: 0.2448 - acc: 0.999 - ETA: 3s - loss: 0.2449 - acc: 0.999 - ETA: 3s - loss: 0.2455 - acc: 0.999 - ETA: 3s - loss: 0.2465 - acc: 0.998 - ETA: 3s - loss: 0.2461 - acc: 0.998 - ETA: 3s - loss: 0.2458 - acc: 0.998 - ETA: 3s - loss: 0.2470 - acc: 0.998 - ETA: 3s - loss: 0.2467 - acc: 0.998 - ETA: 2s - loss: 0.2470 - acc: 0.998 - ETA: 2s - loss: 0.2475 - acc: 0.998 - ETA: 2s - loss: 0.2474 - acc: 0.998 - ETA: 2s - loss: 0.2472 - acc: 0.998 - ETA: 2s - loss: 0.2470 - acc: 0.998 - ETA: 2s - loss: 0.2467 - acc: 0.998 - ETA: 2s - loss: 0.2472 - acc: 0.998 - ETA: 2s - loss: 0.2480 - acc: 0.998 - ETA: 2s - loss: 0.2486 - acc: 0.997 - ETA: 2s - loss: 0.2486 - acc: 0.998 - ETA: 2s - loss: 0.2489 - acc: 0.997 - ETA: 2s - loss: 0.2495 - acc: 0.997 - ETA: 2s - loss: 0.2495 - acc: 0.997 - ETA: 2s - loss: 0.2497 - acc: 0.997 - ETA: 2s - loss: 0.2499 - acc: 0.998 - ETA: 2s - loss: 0.2494 - acc: 0.998 - ETA: 2s - loss: 0.2493 - acc: 0.998 - ETA: 2s - loss: 0.2489 - acc: 0.998 - ETA: 2s - loss: 0.2484 - acc: 0.998 - ETA: 2s - loss: 0.2484 - acc: 0.998 - ETA: 2s - loss: 0.2482 - acc: 0.998 - ETA: 1s - loss: 0.2484 - acc: 0.998 - ETA: 1s - loss: 0.2536 - acc: 0.997 - ETA: 1s - loss: 0.2538 - acc: 0.997 - ETA: 1s - loss: 0.2540 - acc: 0.997 - ETA: 1s - loss: 0.2538 - acc: 0.997 - ETA: 1s - loss: 0.2539 - acc: 0.997 - ETA: 1s - loss: 0.2538 - acc: 0.997 - ETA: 1s - loss: 0.2540 - acc: 0.997 - ETA: 1s - loss: 0.2539 - acc: 0.997 - ETA: 1s - loss: 0.2539 - acc: 0.997 - ETA: 1s - loss: 0.2538 - acc: 0.997 - ETA: 1s - loss: 0.2537 - acc: 0.997 - ETA: 1s - loss: 0.2537 - acc: 0.997 - ETA: 1s - loss: 0.2536 - acc: 0.997 - ETA: 1s - loss: 0.2535 - acc: 0.997 - ETA: 1s - loss: 0.2535 - acc: 0.997 - ETA: 1s - loss: 0.2532 - acc: 0.998 - ETA: 1s - loss: 0.2530 - acc: 0.998 - ETA: 1s - loss: 0.2530 - acc: 0.998 - ETA: 0s - loss: 0.2529 - acc: 0.998 - ETA: 0s - loss: 0.2527 - acc: 0.998 - ETA: 0s - loss: 0.2530 - acc: 0.997 - ETA: 0s - loss: 0.2529 - acc: 0.997 - ETA: 0s - loss: 0.2528 - acc: 0.998 - ETA: 0s - loss: 0.2528 - acc: 0.998 - ETA: 0s - loss: 0.2528 - acc: 0.998 - ETA: 0s - loss: 0.2531 - acc: 0.997 - ETA: 0s - loss: 0.2533 - acc: 0.997 - ETA: 0s - loss: 0.2536 - acc: 0.997 - ETA: 0s - loss: 0.2538 - acc: 0.998 - ETA: 0s - loss: 0.2539 - acc: 0.998 - ETA: 0s - loss: 0.2537 - acc: 0.998 - ETA: 0s - loss: 0.2538 - acc: 0.998 - ETA: 0s - loss: 0.2540 - acc: 0.997 - ETA: 0s - loss: 0.2542 - acc: 0.997 - ETA: 0s - loss: 0.2544 - acc: 0.997 - ETA: 0s - loss: 0.2542 - acc: 0.997 - ETA: 0s - loss: 0.2542 - acc: 0.9977Epoch 00019: val_loss improved from 0.92655 to 0.91873, saving model to saved_models/weights.best.VGG19.hdf5\n",
      "6680/6680 [==============================] - 4s - loss: 0.2543 - acc: 0.9978 - val_loss: 0.9187 - val_acc: 0.7784\n",
      "Epoch 21/30\n"
     ]
    },
    {
     "name": "stdout",
     "output_type": "stream",
     "text": [
      "6640/6680 [============================>.] - ETA: 4s - loss: 0.2249 - acc: 1.000 - ETA: 4s - loss: 0.2266 - acc: 1.000 - ETA: 4s - loss: 0.2239 - acc: 1.000 - ETA: 4s - loss: 0.2328 - acc: 1.000 - ETA: 4s - loss: 0.2351 - acc: 1.000 - ETA: 5s - loss: 0.2370 - acc: 1.000 - ETA: 5s - loss: 0.2360 - acc: 1.000 - ETA: 5s - loss: 0.2337 - acc: 1.000 - ETA: 5s - loss: 0.2346 - acc: 1.000 - ETA: 4s - loss: 0.2350 - acc: 1.000 - ETA: 4s - loss: 0.2347 - acc: 1.000 - ETA: 4s - loss: 0.2351 - acc: 1.000 - ETA: 4s - loss: 0.2364 - acc: 0.998 - ETA: 4s - loss: 0.2358 - acc: 0.999 - ETA: 4s - loss: 0.2357 - acc: 0.999 - ETA: 3s - loss: 0.2353 - acc: 0.999 - ETA: 3s - loss: 0.2346 - acc: 0.999 - ETA: 3s - loss: 0.2341 - acc: 0.999 - ETA: 3s - loss: 0.2340 - acc: 0.999 - ETA: 3s - loss: 0.2353 - acc: 0.998 - ETA: 3s - loss: 0.2356 - acc: 0.998 - ETA: 3s - loss: 0.2360 - acc: 0.998 - ETA: 3s - loss: 0.2357 - acc: 0.998 - ETA: 3s - loss: 0.2363 - acc: 0.998 - ETA: 3s - loss: 0.2377 - acc: 0.998 - ETA: 3s - loss: 0.2388 - acc: 0.998 - ETA: 3s - loss: 0.2389 - acc: 0.998 - ETA: 3s - loss: 0.2394 - acc: 0.998 - ETA: 3s - loss: 0.2394 - acc: 0.998 - ETA: 3s - loss: 0.2389 - acc: 0.998 - ETA: 3s - loss: 0.2386 - acc: 0.998 - ETA: 3s - loss: 0.2385 - acc: 0.998 - ETA: 2s - loss: 0.2384 - acc: 0.998 - ETA: 2s - loss: 0.2380 - acc: 0.998 - ETA: 2s - loss: 0.2383 - acc: 0.998 - ETA: 2s - loss: 0.2382 - acc: 0.998 - ETA: 2s - loss: 0.2383 - acc: 0.998 - ETA: 2s - loss: 0.2385 - acc: 0.999 - ETA: 2s - loss: 0.2387 - acc: 0.999 - ETA: 2s - loss: 0.2389 - acc: 0.998 - ETA: 2s - loss: 0.2392 - acc: 0.998 - ETA: 2s - loss: 0.2394 - acc: 0.998 - ETA: 2s - loss: 0.2395 - acc: 0.998 - ETA: 2s - loss: 0.2393 - acc: 0.998 - ETA: 2s - loss: 0.2394 - acc: 0.998 - ETA: 2s - loss: 0.2394 - acc: 0.998 - ETA: 2s - loss: 0.2395 - acc: 0.998 - ETA: 2s - loss: 0.2397 - acc: 0.998 - ETA: 2s - loss: 0.2399 - acc: 0.998 - ETA: 2s - loss: 0.2398 - acc: 0.998 - ETA: 2s - loss: 0.2402 - acc: 0.998 - ETA: 2s - loss: 0.2403 - acc: 0.999 - ETA: 2s - loss: 0.2402 - acc: 0.999 - ETA: 2s - loss: 0.2399 - acc: 0.999 - ETA: 1s - loss: 0.2407 - acc: 0.999 - ETA: 1s - loss: 0.2408 - acc: 0.999 - ETA: 1s - loss: 0.2410 - acc: 0.999 - ETA: 1s - loss: 0.2407 - acc: 0.999 - ETA: 1s - loss: 0.2408 - acc: 0.999 - ETA: 1s - loss: 0.2409 - acc: 0.999 - ETA: 1s - loss: 0.2411 - acc: 0.999 - ETA: 1s - loss: 0.2411 - acc: 0.999 - ETA: 1s - loss: 0.2415 - acc: 0.999 - ETA: 1s - loss: 0.2416 - acc: 0.999 - ETA: 1s - loss: 0.2419 - acc: 0.999 - ETA: 1s - loss: 0.2419 - acc: 0.999 - ETA: 1s - loss: 0.2424 - acc: 0.999 - ETA: 1s - loss: 0.2425 - acc: 0.998 - ETA: 0s - loss: 0.2427 - acc: 0.998 - ETA: 0s - loss: 0.2432 - acc: 0.998 - ETA: 0s - loss: 0.2462 - acc: 0.998 - ETA: 0s - loss: 0.2462 - acc: 0.998 - ETA: 0s - loss: 0.2462 - acc: 0.998 - ETA: 0s - loss: 0.2466 - acc: 0.998 - ETA: 0s - loss: 0.2470 - acc: 0.998 - ETA: 0s - loss: 0.2469 - acc: 0.998 - ETA: 0s - loss: 0.2468 - acc: 0.998 - ETA: 0s - loss: 0.2470 - acc: 0.998 - ETA: 0s - loss: 0.2472 - acc: 0.998 - ETA: 0s - loss: 0.2470 - acc: 0.998 - ETA: 0s - loss: 0.2471 - acc: 0.998 - ETA: 0s - loss: 0.2470 - acc: 0.998 - ETA: 0s - loss: 0.2471 - acc: 0.998 - ETA: 0s - loss: 0.2471 - acc: 0.9980Epoch 00020: val_loss improved from 0.91873 to 0.90720, saving model to saved_models/weights.best.VGG19.hdf5\n",
      "6680/6680 [==============================] - 5s - loss: 0.2472 - acc: 0.9981 - val_loss: 0.9072 - val_acc: 0.7737\n",
      "Epoch 22/30\n",
      "6656/6680 [============================>.] - ETA: 6s - loss: 0.2213 - acc: 1.000 - ETA: 5s - loss: 0.2270 - acc: 1.000 - ETA: 6s - loss: 0.2271 - acc: 1.000 - ETA: 5s - loss: 0.2262 - acc: 1.000 - ETA: 5s - loss: 0.2262 - acc: 1.000 - ETA: 5s - loss: 0.2274 - acc: 1.000 - ETA: 4s - loss: 0.2304 - acc: 1.000 - ETA: 4s - loss: 0.2314 - acc: 1.000 - ETA: 4s - loss: 0.2326 - acc: 1.000 - ETA: 4s - loss: 0.2331 - acc: 1.000 - ETA: 4s - loss: 0.2323 - acc: 1.000 - ETA: 4s - loss: 0.2309 - acc: 1.000 - ETA: 3s - loss: 0.2312 - acc: 1.000 - ETA: 3s - loss: 0.2310 - acc: 1.000 - ETA: 3s - loss: 0.2319 - acc: 1.000 - ETA: 3s - loss: 0.2320 - acc: 0.999 - ETA: 3s - loss: 0.2321 - acc: 0.999 - ETA: 3s - loss: 0.2316 - acc: 0.999 - ETA: 3s - loss: 0.2316 - acc: 0.999 - ETA: 3s - loss: 0.2316 - acc: 0.999 - ETA: 3s - loss: 0.2328 - acc: 0.999 - ETA: 3s - loss: 0.2324 - acc: 0.999 - ETA: 3s - loss: 0.2328 - acc: 0.999 - ETA: 3s - loss: 0.2323 - acc: 0.999 - ETA: 3s - loss: 0.2322 - acc: 0.999 - ETA: 3s - loss: 0.2325 - acc: 0.999 - ETA: 3s - loss: 0.2325 - acc: 0.999 - ETA: 3s - loss: 0.2327 - acc: 0.999 - ETA: 2s - loss: 0.2330 - acc: 0.999 - ETA: 2s - loss: 0.2326 - acc: 0.999 - ETA: 2s - loss: 0.2330 - acc: 0.999 - ETA: 2s - loss: 0.2334 - acc: 0.999 - ETA: 2s - loss: 0.2332 - acc: 0.999 - ETA: 2s - loss: 0.2334 - acc: 0.999 - ETA: 2s - loss: 0.2334 - acc: 0.999 - ETA: 2s - loss: 0.2331 - acc: 0.999 - ETA: 2s - loss: 0.2331 - acc: 0.999 - ETA: 2s - loss: 0.2332 - acc: 0.999 - ETA: 2s - loss: 0.2331 - acc: 0.999 - ETA: 2s - loss: 0.2330 - acc: 0.999 - ETA: 2s - loss: 0.2329 - acc: 0.999 - ETA: 2s - loss: 0.2329 - acc: 0.999 - ETA: 2s - loss: 0.2332 - acc: 0.999 - ETA: 2s - loss: 0.2333 - acc: 0.999 - ETA: 2s - loss: 0.2332 - acc: 0.999 - ETA: 2s - loss: 0.2331 - acc: 0.999 - ETA: 2s - loss: 0.2334 - acc: 0.999 - ETA: 2s - loss: 0.2334 - acc: 0.999 - ETA: 2s - loss: 0.2334 - acc: 0.999 - ETA: 2s - loss: 0.2334 - acc: 0.999 - ETA: 2s - loss: 0.2334 - acc: 0.999 - ETA: 2s - loss: 0.2335 - acc: 0.999 - ETA: 2s - loss: 0.2336 - acc: 0.999 - ETA: 2s - loss: 0.2337 - acc: 0.999 - ETA: 2s - loss: 0.2340 - acc: 0.999 - ETA: 2s - loss: 0.2343 - acc: 0.999 - ETA: 2s - loss: 0.2343 - acc: 0.999 - ETA: 1s - loss: 0.2344 - acc: 0.999 - ETA: 1s - loss: 0.2345 - acc: 0.999 - ETA: 1s - loss: 0.2346 - acc: 0.999 - ETA: 1s - loss: 0.2346 - acc: 0.999 - ETA: 1s - loss: 0.2345 - acc: 0.999 - ETA: 1s - loss: 0.2345 - acc: 0.999 - ETA: 1s - loss: 0.2343 - acc: 0.999 - ETA: 1s - loss: 0.2345 - acc: 0.999 - ETA: 1s - loss: 0.2349 - acc: 0.999 - ETA: 1s - loss: 0.2358 - acc: 0.999 - ETA: 1s - loss: 0.2360 - acc: 0.999 - ETA: 1s - loss: 0.2357 - acc: 0.999 - ETA: 1s - loss: 0.2358 - acc: 0.999 - ETA: 1s - loss: 0.2362 - acc: 0.999 - ETA: 1s - loss: 0.2365 - acc: 0.998 - ETA: 1s - loss: 0.2369 - acc: 0.998 - ETA: 1s - loss: 0.2372 - acc: 0.998 - ETA: 1s - loss: 0.2400 - acc: 0.998 - ETA: 0s - loss: 0.2401 - acc: 0.998 - ETA: 0s - loss: 0.2399 - acc: 0.998 - ETA: 0s - loss: 0.2403 - acc: 0.998 - ETA: 0s - loss: 0.2407 - acc: 0.998 - ETA: 0s - loss: 0.2406 - acc: 0.998 - ETA: 0s - loss: 0.2406 - acc: 0.998 - ETA: 0s - loss: 0.2404 - acc: 0.998 - ETA: 0s - loss: 0.2406 - acc: 0.998 - ETA: 0s - loss: 0.2404 - acc: 0.998 - ETA: 0s - loss: 0.2405 - acc: 0.998 - ETA: 0s - loss: 0.2404 - acc: 0.998 - ETA: 0s - loss: 0.2406 - acc: 0.998 - ETA: 0s - loss: 0.2410 - acc: 0.998 - ETA: 0s - loss: 0.2408 - acc: 0.998 - ETA: 0s - loss: 0.2409 - acc: 0.998 - ETA: 0s - loss: 0.2407 - acc: 0.998 - ETA: 0s - loss: 0.2407 - acc: 0.9986Epoch 00021: val_loss improved from 0.90720 to 0.87845, saving model to saved_models/weights.best.VGG19.hdf5\n",
      "6680/6680 [==============================] - 5s - loss: 0.2408 - acc: 0.9987 - val_loss: 0.8784 - val_acc: 0.7844\n",
      "Epoch 23/30\n",
      "6624/6680 [============================>.] - ETA: 4s - loss: 0.2136 - acc: 1.000 - ETA: 4s - loss: 0.2238 - acc: 1.000 - ETA: 4s - loss: 0.2183 - acc: 1.000 - ETA: 3s - loss: 0.2265 - acc: 1.000 - ETA: 3s - loss: 0.2284 - acc: 1.000 - ETA: 3s - loss: 0.2277 - acc: 1.000 - ETA: 3s - loss: 0.2275 - acc: 1.000 - ETA: 3s - loss: 0.2285 - acc: 0.998 - ETA: 3s - loss: 0.2277 - acc: 0.997 - ETA: 3s - loss: 0.2310 - acc: 0.997 - ETA: 3s - loss: 0.2327 - acc: 0.996 - ETA: 3s - loss: 0.2308 - acc: 0.997 - ETA: 3s - loss: 0.2321 - acc: 0.997 - ETA: 3s - loss: 0.2315 - acc: 0.997 - ETA: 3s - loss: 0.2310 - acc: 0.997 - ETA: 3s - loss: 0.2301 - acc: 0.997 - ETA: 3s - loss: 0.2299 - acc: 0.997 - ETA: 3s - loss: 0.2289 - acc: 0.998 - ETA: 3s - loss: 0.2285 - acc: 0.998 - ETA: 3s - loss: 0.2286 - acc: 0.998 - ETA: 3s - loss: 0.2284 - acc: 0.998 - ETA: 3s - loss: 0.2276 - acc: 0.998 - ETA: 2s - loss: 0.2277 - acc: 0.998 - ETA: 2s - loss: 0.2270 - acc: 0.998 - ETA: 2s - loss: 0.2264 - acc: 0.998 - ETA: 2s - loss: 0.2268 - acc: 0.998 - ETA: 2s - loss: 0.2272 - acc: 0.998 - ETA: 2s - loss: 0.2265 - acc: 0.998 - ETA: 2s - loss: 0.2265 - acc: 0.998 - ETA: 2s - loss: 0.2313 - acc: 0.998 - ETA: 2s - loss: 0.2316 - acc: 0.998 - ETA: 2s - loss: 0.2321 - acc: 0.997 - ETA: 2s - loss: 0.2319 - acc: 0.997 - ETA: 2s - loss: 0.2317 - acc: 0.997 - ETA: 2s - loss: 0.2315 - acc: 0.997 - ETA: 2s - loss: 0.2311 - acc: 0.997 - ETA: 2s - loss: 0.2312 - acc: 0.997 - ETA: 2s - loss: 0.2316 - acc: 0.997 - ETA: 2s - loss: 0.2321 - acc: 0.997 - ETA: 1s - loss: 0.2319 - acc: 0.997 - ETA: 1s - loss: 0.2321 - acc: 0.997 - ETA: 1s - loss: 0.2323 - acc: 0.997 - ETA: 1s - loss: 0.2325 - acc: 0.997 - ETA: 1s - loss: 0.2326 - acc: 0.997 - ETA: 1s - loss: 0.2327 - acc: 0.998 - ETA: 1s - loss: 0.2327 - acc: 0.998 - ETA: 1s - loss: 0.2327 - acc: 0.998 - ETA: 1s - loss: 0.2327 - acc: 0.998 - ETA: 1s - loss: 0.2327 - acc: 0.997 - ETA: 1s - loss: 0.2324 - acc: 0.997 - ETA: 1s - loss: 0.2326 - acc: 0.997 - ETA: 1s - loss: 0.2326 - acc: 0.997 - ETA: 1s - loss: 0.2326 - acc: 0.997 - ETA: 1s - loss: 0.2330 - acc: 0.997 - ETA: 1s - loss: 0.2335 - acc: 0.997 - ETA: 1s - loss: 0.2333 - acc: 0.997 - ETA: 1s - loss: 0.2332 - acc: 0.997 - ETA: 0s - loss: 0.2333 - acc: 0.997 - ETA: 0s - loss: 0.2332 - acc: 0.997 - ETA: 0s - loss: 0.2334 - acc: 0.997 - ETA: 0s - loss: 0.2333 - acc: 0.997 - ETA: 0s - loss: 0.2332 - acc: 0.997 - ETA: 0s - loss: 0.2333 - acc: 0.997 - ETA: 0s - loss: 0.2334 - acc: 0.997 - ETA: 0s - loss: 0.2332 - acc: 0.997 - ETA: 0s - loss: 0.2334 - acc: 0.997 - ETA: 0s - loss: 0.2333 - acc: 0.997 - ETA: 0s - loss: 0.2337 - acc: 0.997 - ETA: 0s - loss: 0.2338 - acc: 0.997 - ETA: 0s - loss: 0.2337 - acc: 0.997 - ETA: 0s - loss: 0.2337 - acc: 0.997 - ETA: 0s - loss: 0.2337 - acc: 0.997 - ETA: 0s - loss: 0.2337 - acc: 0.997 - ETA: 0s - loss: 0.2335 - acc: 0.997 - ETA: 0s - loss: 0.2337 - acc: 0.997 - ETA: 0s - loss: 0.2337 - acc: 0.9977Epoch 00022: val_loss did not improve\n",
      "6680/6680 [==============================] - 4s - loss: 0.2338 - acc: 0.9976 - val_loss: 0.8897 - val_acc: 0.7868\n",
      "Epoch 24/30\n",
      "6640/6680 [============================>.] - ETA: 5s - loss: 0.2004 - acc: 1.000 - ETA: 4s - loss: 0.2256 - acc: 1.000 - ETA: 4s - loss: 0.2241 - acc: 1.000 - ETA: 4s - loss: 0.2245 - acc: 1.000 - ETA: 4s - loss: 0.2200 - acc: 1.000 - ETA: 3s - loss: 0.2279 - acc: 0.997 - ETA: 3s - loss: 0.2280 - acc: 0.998 - ETA: 3s - loss: 0.2263 - acc: 0.998 - ETA: 3s - loss: 0.2245 - acc: 0.998 - ETA: 3s - loss: 0.2250 - acc: 0.997 - ETA: 3s - loss: 0.2238 - acc: 0.997 - ETA: 3s - loss: 0.2229 - acc: 0.997 - ETA: 3s - loss: 0.2223 - acc: 0.998 - ETA: 3s - loss: 0.2239 - acc: 0.997 - ETA: 3s - loss: 0.2236 - acc: 0.997 - ETA: 3s - loss: 0.2246 - acc: 0.997 - ETA: 3s - loss: 0.2241 - acc: 0.997 - ETA: 3s - loss: 0.2236 - acc: 0.998 - ETA: 3s - loss: 0.2227 - acc: 0.998 - ETA: 3s - loss: 0.2237 - acc: 0.997 - ETA: 3s - loss: 0.2237 - acc: 0.997 - ETA: 3s - loss: 0.2235 - acc: 0.997 - ETA: 3s - loss: 0.2238 - acc: 0.997 - ETA: 3s - loss: 0.2237 - acc: 0.998 - ETA: 2s - loss: 0.2229 - acc: 0.998 - ETA: 2s - loss: 0.2227 - acc: 0.998 - ETA: 2s - loss: 0.2229 - acc: 0.998 - ETA: 2s - loss: 0.2235 - acc: 0.997 - ETA: 2s - loss: 0.2232 - acc: 0.997 - ETA: 2s - loss: 0.2232 - acc: 0.997 - ETA: 2s - loss: 0.2233 - acc: 0.998 - ETA: 2s - loss: 0.2239 - acc: 0.998 - ETA: 2s - loss: 0.2235 - acc: 0.998 - ETA: 2s - loss: 0.2233 - acc: 0.998 - ETA: 2s - loss: 0.2231 - acc: 0.998 - ETA: 2s - loss: 0.2234 - acc: 0.998 - ETA: 2s - loss: 0.2237 - acc: 0.998 - ETA: 2s - loss: 0.2234 - acc: 0.998 - ETA: 2s - loss: 0.2235 - acc: 0.998 - ETA: 2s - loss: 0.2238 - acc: 0.998 - ETA: 2s - loss: 0.2238 - acc: 0.998 - ETA: 2s - loss: 0.2235 - acc: 0.998 - ETA: 2s - loss: 0.2234 - acc: 0.998 - ETA: 2s - loss: 0.2234 - acc: 0.998 - ETA: 2s - loss: 0.2235 - acc: 0.998 - ETA: 2s - loss: 0.2240 - acc: 0.998 - ETA: 2s - loss: 0.2237 - acc: 0.998 - ETA: 1s - loss: 0.2238 - acc: 0.998 - ETA: 1s - loss: 0.2238 - acc: 0.998 - ETA: 1s - loss: 0.2237 - acc: 0.998 - ETA: 1s - loss: 0.2234 - acc: 0.998 - ETA: 1s - loss: 0.2232 - acc: 0.998 - ETA: 1s - loss: 0.2236 - acc: 0.998 - ETA: 1s - loss: 0.2235 - acc: 0.998 - ETA: 1s - loss: 0.2235 - acc: 0.998 - ETA: 1s - loss: 0.2236 - acc: 0.998 - ETA: 1s - loss: 0.2238 - acc: 0.998 - ETA: 1s - loss: 0.2239 - acc: 0.998 - ETA: 1s - loss: 0.2241 - acc: 0.998 - ETA: 1s - loss: 0.2240 - acc: 0.998 - ETA: 1s - loss: 0.2240 - acc: 0.998 - ETA: 1s - loss: 0.2240 - acc: 0.998 - ETA: 1s - loss: 0.2243 - acc: 0.998 - ETA: 1s - loss: 0.2245 - acc: 0.998 - ETA: 0s - loss: 0.2244 - acc: 0.998 - ETA: 0s - loss: 0.2245 - acc: 0.998 - ETA: 0s - loss: 0.2243 - acc: 0.998 - ETA: 0s - loss: 0.2245 - acc: 0.998 - ETA: 0s - loss: 0.2245 - acc: 0.998 - ETA: 0s - loss: 0.2246 - acc: 0.998 - ETA: 0s - loss: 0.2251 - acc: 0.999 - ETA: 0s - loss: 0.2255 - acc: 0.998 - ETA: 0s - loss: 0.2255 - acc: 0.998 - ETA: 0s - loss: 0.2256 - acc: 0.998 - ETA: 0s - loss: 0.2274 - acc: 0.998 - ETA: 0s - loss: 0.2277 - acc: 0.998 - ETA: 0s - loss: 0.2279 - acc: 0.998 - ETA: 0s - loss: 0.2279 - acc: 0.998 - ETA: 0s - loss: 0.2283 - acc: 0.998 - ETA: 0s - loss: 0.2284 - acc: 0.998 - ETA: 0s - loss: 0.2283 - acc: 0.998 - ETA: 0s - loss: 0.2283 - acc: 0.998 - ETA: 0s - loss: 0.2285 - acc: 0.9982Epoch 00023: val_loss did not improve\n",
      "6680/6680 [==============================] - 4s - loss: 0.2288 - acc: 0.9982 - val_loss: 0.8788 - val_acc: 0.7832\n",
      "Epoch 25/30\n"
     ]
    },
    {
     "name": "stdout",
     "output_type": "stream",
     "text": [
      "6624/6680 [============================>.] - ETA: 4s - loss: 0.2542 - acc: 1.000 - ETA: 4s - loss: 0.2255 - acc: 1.000 - ETA: 4s - loss: 0.2244 - acc: 1.000 - ETA: 4s - loss: 0.2287 - acc: 0.996 - ETA: 4s - loss: 0.2240 - acc: 0.997 - ETA: 3s - loss: 0.2225 - acc: 0.997 - ETA: 4s - loss: 0.2219 - acc: 0.998 - ETA: 4s - loss: 0.2219 - acc: 0.998 - ETA: 4s - loss: 0.2221 - acc: 0.998 - ETA: 4s - loss: 0.2205 - acc: 0.998 - ETA: 4s - loss: 0.2199 - acc: 0.998 - ETA: 4s - loss: 0.2182 - acc: 0.998 - ETA: 4s - loss: 0.2179 - acc: 0.998 - ETA: 4s - loss: 0.2184 - acc: 0.999 - ETA: 4s - loss: 0.2182 - acc: 0.999 - ETA: 3s - loss: 0.2173 - acc: 0.999 - ETA: 3s - loss: 0.2245 - acc: 0.998 - ETA: 3s - loss: 0.2240 - acc: 0.998 - ETA: 3s - loss: 0.2238 - acc: 0.998 - ETA: 3s - loss: 0.2239 - acc: 0.998 - ETA: 3s - loss: 0.2233 - acc: 0.998 - ETA: 3s - loss: 0.2228 - acc: 0.998 - ETA: 3s - loss: 0.2223 - acc: 0.998 - ETA: 3s - loss: 0.2216 - acc: 0.998 - ETA: 3s - loss: 0.2215 - acc: 0.998 - ETA: 3s - loss: 0.2218 - acc: 0.998 - ETA: 3s - loss: 0.2210 - acc: 0.999 - ETA: 3s - loss: 0.2213 - acc: 0.999 - ETA: 3s - loss: 0.2210 - acc: 0.999 - ETA: 3s - loss: 0.2215 - acc: 0.998 - ETA: 3s - loss: 0.2211 - acc: 0.998 - ETA: 3s - loss: 0.2220 - acc: 0.998 - ETA: 3s - loss: 0.2215 - acc: 0.998 - ETA: 2s - loss: 0.2214 - acc: 0.998 - ETA: 2s - loss: 0.2207 - acc: 0.998 - ETA: 2s - loss: 0.2207 - acc: 0.998 - ETA: 2s - loss: 0.2203 - acc: 0.998 - ETA: 2s - loss: 0.2200 - acc: 0.998 - ETA: 2s - loss: 0.2199 - acc: 0.998 - ETA: 2s - loss: 0.2197 - acc: 0.998 - ETA: 2s - loss: 0.2196 - acc: 0.998 - ETA: 2s - loss: 0.2196 - acc: 0.998 - ETA: 2s - loss: 0.2195 - acc: 0.998 - ETA: 2s - loss: 0.2193 - acc: 0.998 - ETA: 2s - loss: 0.2194 - acc: 0.998 - ETA: 2s - loss: 0.2193 - acc: 0.998 - ETA: 2s - loss: 0.2191 - acc: 0.998 - ETA: 2s - loss: 0.2192 - acc: 0.998 - ETA: 1s - loss: 0.2190 - acc: 0.998 - ETA: 1s - loss: 0.2193 - acc: 0.998 - ETA: 1s - loss: 0.2196 - acc: 0.998 - ETA: 1s - loss: 0.2197 - acc: 0.998 - ETA: 1s - loss: 0.2195 - acc: 0.998 - ETA: 1s - loss: 0.2195 - acc: 0.998 - ETA: 1s - loss: 0.2196 - acc: 0.998 - ETA: 1s - loss: 0.2196 - acc: 0.998 - ETA: 1s - loss: 0.2200 - acc: 0.998 - ETA: 1s - loss: 0.2202 - acc: 0.998 - ETA: 1s - loss: 0.2200 - acc: 0.998 - ETA: 1s - loss: 0.2200 - acc: 0.999 - ETA: 1s - loss: 0.2200 - acc: 0.999 - ETA: 1s - loss: 0.2202 - acc: 0.999 - ETA: 1s - loss: 0.2203 - acc: 0.998 - ETA: 1s - loss: 0.2206 - acc: 0.998 - ETA: 1s - loss: 0.2204 - acc: 0.998 - ETA: 0s - loss: 0.2207 - acc: 0.998 - ETA: 0s - loss: 0.2211 - acc: 0.998 - ETA: 0s - loss: 0.2210 - acc: 0.998 - ETA: 0s - loss: 0.2213 - acc: 0.998 - ETA: 0s - loss: 0.2215 - acc: 0.998 - ETA: 0s - loss: 0.2221 - acc: 0.998 - ETA: 0s - loss: 0.2226 - acc: 0.998 - ETA: 0s - loss: 0.2228 - acc: 0.998 - ETA: 0s - loss: 0.2228 - acc: 0.998 - ETA: 0s - loss: 0.2233 - acc: 0.997 - ETA: 0s - loss: 0.2235 - acc: 0.997 - ETA: 0s - loss: 0.2239 - acc: 0.997 - ETA: 0s - loss: 0.2239 - acc: 0.997 - ETA: 0s - loss: 0.2238 - acc: 0.997 - ETA: 0s - loss: 0.2239 - acc: 0.997 - ETA: 0s - loss: 0.2240 - acc: 0.9979Epoch 00024: val_loss improved from 0.87845 to 0.86552, saving model to saved_models/weights.best.VGG19.hdf5\n",
      "6680/6680 [==============================] - 4s - loss: 0.2242 - acc: 0.9979 - val_loss: 0.8655 - val_acc: 0.7749\n",
      "Epoch 26/30\n",
      "6624/6680 [============================>.] - ETA: 4s - loss: 0.1858 - acc: 1.000 - ETA: 4s - loss: 0.2073 - acc: 1.000 - ETA: 4s - loss: 0.2105 - acc: 1.000 - ETA: 4s - loss: 0.2063 - acc: 1.000 - ETA: 3s - loss: 0.2300 - acc: 0.997 - ETA: 3s - loss: 0.2280 - acc: 0.997 - ETA: 3s - loss: 0.2239 - acc: 0.998 - ETA: 3s - loss: 0.2210 - acc: 0.998 - ETA: 3s - loss: 0.2200 - acc: 0.998 - ETA: 3s - loss: 0.2184 - acc: 0.998 - ETA: 3s - loss: 0.2188 - acc: 0.998 - ETA: 3s - loss: 0.2183 - acc: 0.999 - ETA: 3s - loss: 0.2168 - acc: 0.999 - ETA: 3s - loss: 0.2166 - acc: 0.999 - ETA: 3s - loss: 0.2165 - acc: 0.999 - ETA: 3s - loss: 0.2155 - acc: 0.999 - ETA: 3s - loss: 0.2153 - acc: 0.999 - ETA: 3s - loss: 0.2169 - acc: 0.999 - ETA: 3s - loss: 0.2166 - acc: 0.999 - ETA: 3s - loss: 0.2163 - acc: 0.999 - ETA: 2s - loss: 0.2167 - acc: 0.999 - ETA: 2s - loss: 0.2162 - acc: 0.999 - ETA: 2s - loss: 0.2160 - acc: 0.999 - ETA: 2s - loss: 0.2160 - acc: 0.999 - ETA: 2s - loss: 0.2161 - acc: 0.999 - ETA: 2s - loss: 0.2156 - acc: 0.999 - ETA: 2s - loss: 0.2157 - acc: 0.999 - ETA: 2s - loss: 0.2156 - acc: 0.999 - ETA: 2s - loss: 0.2151 - acc: 0.999 - ETA: 2s - loss: 0.2153 - acc: 0.999 - ETA: 2s - loss: 0.2150 - acc: 0.999 - ETA: 2s - loss: 0.2152 - acc: 0.999 - ETA: 2s - loss: 0.2154 - acc: 0.999 - ETA: 2s - loss: 0.2153 - acc: 0.999 - ETA: 2s - loss: 0.2153 - acc: 0.999 - ETA: 2s - loss: 0.2154 - acc: 0.999 - ETA: 2s - loss: 0.2150 - acc: 0.999 - ETA: 2s - loss: 0.2149 - acc: 0.999 - ETA: 2s - loss: 0.2150 - acc: 0.999 - ETA: 2s - loss: 0.2154 - acc: 0.999 - ETA: 2s - loss: 0.2152 - acc: 0.999 - ETA: 1s - loss: 0.2153 - acc: 0.999 - ETA: 1s - loss: 0.2154 - acc: 0.999 - ETA: 1s - loss: 0.2154 - acc: 0.999 - ETA: 1s - loss: 0.2154 - acc: 0.999 - ETA: 1s - loss: 0.2155 - acc: 0.999 - ETA: 1s - loss: 0.2159 - acc: 0.999 - ETA: 1s - loss: 0.2156 - acc: 0.999 - ETA: 1s - loss: 0.2157 - acc: 0.999 - ETA: 1s - loss: 0.2154 - acc: 0.999 - ETA: 1s - loss: 0.2156 - acc: 0.999 - ETA: 1s - loss: 0.2156 - acc: 0.999 - ETA: 1s - loss: 0.2154 - acc: 0.999 - ETA: 1s - loss: 0.2155 - acc: 0.999 - ETA: 1s - loss: 0.2154 - acc: 0.999 - ETA: 1s - loss: 0.2154 - acc: 0.999 - ETA: 1s - loss: 0.2156 - acc: 0.999 - ETA: 1s - loss: 0.2159 - acc: 0.999 - ETA: 1s - loss: 0.2160 - acc: 0.999 - ETA: 0s - loss: 0.2160 - acc: 0.999 - ETA: 0s - loss: 0.2159 - acc: 0.999 - ETA: 0s - loss: 0.2167 - acc: 0.998 - ETA: 0s - loss: 0.2167 - acc: 0.998 - ETA: 0s - loss: 0.2166 - acc: 0.998 - ETA: 0s - loss: 0.2168 - acc: 0.998 - ETA: 0s - loss: 0.2171 - acc: 0.998 - ETA: 0s - loss: 0.2174 - acc: 0.998 - ETA: 0s - loss: 0.2175 - acc: 0.998 - ETA: 0s - loss: 0.2179 - acc: 0.998 - ETA: 0s - loss: 0.2181 - acc: 0.998 - ETA: 0s - loss: 0.2182 - acc: 0.998 - ETA: 0s - loss: 0.2182 - acc: 0.998 - ETA: 0s - loss: 0.2182 - acc: 0.998 - ETA: 0s - loss: 0.2181 - acc: 0.998 - ETA: 0s - loss: 0.2183 - acc: 0.998 - ETA: 0s - loss: 0.2182 - acc: 0.998 - ETA: 0s - loss: 0.2183 - acc: 0.9986Epoch 00025: val_loss improved from 0.86552 to 0.85236, saving model to saved_models/weights.best.VGG19.hdf5\n",
      "6680/6680 [==============================] - 4s - loss: 0.2186 - acc: 0.9985 - val_loss: 0.8524 - val_acc: 0.7868\n",
      "Epoch 27/30\n",
      "6608/6680 [============================>.] - ETA: 6s - loss: 0.1875 - acc: 1.000 - ETA: 5s - loss: 0.2063 - acc: 1.000 - ETA: 5s - loss: 0.2051 - acc: 1.000 - ETA: 5s - loss: 0.2030 - acc: 1.000 - ETA: 5s - loss: 0.2045 - acc: 1.000 - ETA: 4s - loss: 0.2067 - acc: 1.000 - ETA: 4s - loss: 0.2087 - acc: 1.000 - ETA: 4s - loss: 0.2093 - acc: 1.000 - ETA: 4s - loss: 0.2086 - acc: 1.000 - ETA: 4s - loss: 0.2077 - acc: 1.000 - ETA: 4s - loss: 0.2097 - acc: 1.000 - ETA: 4s - loss: 0.2083 - acc: 1.000 - ETA: 3s - loss: 0.2082 - acc: 1.000 - ETA: 3s - loss: 0.2074 - acc: 1.000 - ETA: 3s - loss: 0.2080 - acc: 1.000 - ETA: 3s - loss: 0.2070 - acc: 1.000 - ETA: 3s - loss: 0.2070 - acc: 1.000 - ETA: 3s - loss: 0.2081 - acc: 1.000 - ETA: 3s - loss: 0.2082 - acc: 1.000 - ETA: 3s - loss: 0.2086 - acc: 1.000 - ETA: 3s - loss: 0.2081 - acc: 1.000 - ETA: 3s - loss: 0.2084 - acc: 1.000 - ETA: 3s - loss: 0.2085 - acc: 1.000 - ETA: 3s - loss: 0.2080 - acc: 1.000 - ETA: 3s - loss: 0.2078 - acc: 1.000 - ETA: 3s - loss: 0.2082 - acc: 1.000 - ETA: 2s - loss: 0.2085 - acc: 1.000 - ETA: 2s - loss: 0.2086 - acc: 1.000 - ETA: 2s - loss: 0.2090 - acc: 1.000 - ETA: 2s - loss: 0.2091 - acc: 1.000 - ETA: 2s - loss: 0.2095 - acc: 1.000 - ETA: 2s - loss: 0.2099 - acc: 0.999 - ETA: 2s - loss: 0.2099 - acc: 0.999 - ETA: 2s - loss: 0.2099 - acc: 0.999 - ETA: 2s - loss: 0.2099 - acc: 0.999 - ETA: 2s - loss: 0.2105 - acc: 0.999 - ETA: 2s - loss: 0.2107 - acc: 0.999 - ETA: 2s - loss: 0.2107 - acc: 0.999 - ETA: 2s - loss: 0.2109 - acc: 0.999 - ETA: 2s - loss: 0.2108 - acc: 0.999 - ETA: 2s - loss: 0.2114 - acc: 0.998 - ETA: 2s - loss: 0.2123 - acc: 0.998 - ETA: 2s - loss: 0.2124 - acc: 0.998 - ETA: 2s - loss: 0.2126 - acc: 0.998 - ETA: 2s - loss: 0.2124 - acc: 0.998 - ETA: 1s - loss: 0.2129 - acc: 0.998 - ETA: 1s - loss: 0.2130 - acc: 0.998 - ETA: 1s - loss: 0.2131 - acc: 0.998 - ETA: 1s - loss: 0.2131 - acc: 0.998 - ETA: 1s - loss: 0.2132 - acc: 0.998 - ETA: 1s - loss: 0.2132 - acc: 0.998 - ETA: 1s - loss: 0.2134 - acc: 0.998 - ETA: 1s - loss: 0.2133 - acc: 0.998 - ETA: 1s - loss: 0.2134 - acc: 0.998 - ETA: 1s - loss: 0.2134 - acc: 0.998 - ETA: 1s - loss: 0.2130 - acc: 0.998 - ETA: 1s - loss: 0.2131 - acc: 0.998 - ETA: 1s - loss: 0.2128 - acc: 0.998 - ETA: 1s - loss: 0.2132 - acc: 0.998 - ETA: 1s - loss: 0.2132 - acc: 0.998 - ETA: 1s - loss: 0.2134 - acc: 0.998 - ETA: 0s - loss: 0.2136 - acc: 0.998 - ETA: 0s - loss: 0.2137 - acc: 0.998 - ETA: 0s - loss: 0.2137 - acc: 0.998 - ETA: 0s - loss: 0.2137 - acc: 0.998 - ETA: 0s - loss: 0.2138 - acc: 0.998 - ETA: 0s - loss: 0.2137 - acc: 0.998 - ETA: 0s - loss: 0.2147 - acc: 0.998 - ETA: 0s - loss: 0.2150 - acc: 0.998 - ETA: 0s - loss: 0.2151 - acc: 0.998 - ETA: 0s - loss: 0.2151 - acc: 0.998 - ETA: 0s - loss: 0.2152 - acc: 0.998 - ETA: 0s - loss: 0.2155 - acc: 0.998 - ETA: 0s - loss: 0.2155 - acc: 0.998 - ETA: 0s - loss: 0.2156 - acc: 0.998 - ETA: 0s - loss: 0.2155 - acc: 0.998 - ETA: 0s - loss: 0.2153 - acc: 0.9988Epoch 00026: val_loss improved from 0.85236 to 0.85037, saving model to saved_models/weights.best.VGG19.hdf5\n",
      "6680/6680 [==============================] - 4s - loss: 0.2155 - acc: 0.9988 - val_loss: 0.8504 - val_acc: 0.7880\n",
      "Epoch 28/30\n",
      "6624/6680 [============================>.] - ETA: 4s - loss: 0.1928 - acc: 1.000 - ETA: 4s - loss: 0.1931 - acc: 1.000 - ETA: 3s - loss: 0.1968 - acc: 1.000 - ETA: 3s - loss: 0.2037 - acc: 0.996 - ETA: 3s - loss: 0.2052 - acc: 0.997 - ETA: 3s - loss: 0.2049 - acc: 0.997 - ETA: 3s - loss: 0.2049 - acc: 0.998 - ETA: 3s - loss: 0.2046 - acc: 0.998 - ETA: 3s - loss: 0.2053 - acc: 0.998 - ETA: 3s - loss: 0.2037 - acc: 0.998 - ETA: 3s - loss: 0.2046 - acc: 0.998 - ETA: 3s - loss: 0.2043 - acc: 0.999 - ETA: 3s - loss: 0.2043 - acc: 0.999 - ETA: 3s - loss: 0.2035 - acc: 0.999 - ETA: 3s - loss: 0.2031 - acc: 0.999 - ETA: 3s - loss: 0.2033 - acc: 0.999 - ETA: 3s - loss: 0.2037 - acc: 0.999 - ETA: 3s - loss: 0.2041 - acc: 0.999 - ETA: 3s - loss: 0.2042 - acc: 0.999 - ETA: 3s - loss: 0.2046 - acc: 0.999 - ETA: 3s - loss: 0.2045 - acc: 0.999 - ETA: 3s - loss: 0.2054 - acc: 0.998 - ETA: 3s - loss: 0.2053 - acc: 0.999 - ETA: 3s - loss: 0.2049 - acc: 0.999 - ETA: 2s - loss: 0.2046 - acc: 0.999 - ETA: 2s - loss: 0.2043 - acc: 0.999 - ETA: 2s - loss: 0.2056 - acc: 0.998 - ETA: 2s - loss: 0.2052 - acc: 0.998 - ETA: 2s - loss: 0.2048 - acc: 0.998 - ETA: 2s - loss: 0.2053 - acc: 0.998 - ETA: 2s - loss: 0.2055 - acc: 0.998 - ETA: 2s - loss: 0.2055 - acc: 0.998 - ETA: 2s - loss: 0.2062 - acc: 0.998 - ETA: 2s - loss: 0.2065 - acc: 0.998 - ETA: 2s - loss: 0.2072 - acc: 0.998 - ETA: 2s - loss: 0.2068 - acc: 0.998 - ETA: 2s - loss: 0.2069 - acc: 0.998 - ETA: 2s - loss: 0.2073 - acc: 0.998 - ETA: 2s - loss: 0.2076 - acc: 0.998 - ETA: 2s - loss: 0.2075 - acc: 0.998 - ETA: 1s - loss: 0.2076 - acc: 0.998 - ETA: 1s - loss: 0.2077 - acc: 0.998 - ETA: 1s - loss: 0.2077 - acc: 0.998 - ETA: 1s - loss: 0.2077 - acc: 0.998 - ETA: 1s - loss: 0.2075 - acc: 0.998 - ETA: 1s - loss: 0.2076 - acc: 0.998 - ETA: 1s - loss: 0.2078 - acc: 0.998 - ETA: 1s - loss: 0.2076 - acc: 0.998 - ETA: 1s - loss: 0.2078 - acc: 0.998 - ETA: 1s - loss: 0.2081 - acc: 0.998 - ETA: 1s - loss: 0.2097 - acc: 0.998 - ETA: 1s - loss: 0.2095 - acc: 0.998 - ETA: 1s - loss: 0.2094 - acc: 0.998 - ETA: 1s - loss: 0.2094 - acc: 0.998 - ETA: 1s - loss: 0.2095 - acc: 0.998 - ETA: 1s - loss: 0.2096 - acc: 0.998 - ETA: 1s - loss: 0.2101 - acc: 0.998 - ETA: 1s - loss: 0.2101 - acc: 0.998 - ETA: 1s - loss: 0.2105 - acc: 0.998 - ETA: 0s - loss: 0.2103 - acc: 0.998 - ETA: 0s - loss: 0.2108 - acc: 0.998 - ETA: 0s - loss: 0.2110 - acc: 0.998 - ETA: 0s - loss: 0.2110 - acc: 0.998 - ETA: 0s - loss: 0.2113 - acc: 0.998 - ETA: 0s - loss: 0.2113 - acc: 0.998 - ETA: 0s - loss: 0.2113 - acc: 0.998 - ETA: 0s - loss: 0.2113 - acc: 0.998 - ETA: 0s - loss: 0.2112 - acc: 0.998 - ETA: 0s - loss: 0.2111 - acc: 0.998 - ETA: 0s - loss: 0.2109 - acc: 0.998 - ETA: 0s - loss: 0.2108 - acc: 0.998 - ETA: 0s - loss: 0.2108 - acc: 0.998 - ETA: 0s - loss: 0.2108 - acc: 0.998 - ETA: 0s - loss: 0.2112 - acc: 0.998 - ETA: 0s - loss: 0.2112 - acc: 0.998 - ETA: 0s - loss: 0.2114 - acc: 0.998 - ETA: 0s - loss: 0.2114 - acc: 0.9983Epoch 00027: val_loss improved from 0.85037 to 0.83965, saving model to saved_models/weights.best.VGG19.hdf5\n",
      "6680/6680 [==============================] - 4s - loss: 0.2113 - acc: 0.9984 - val_loss: 0.8397 - val_acc: 0.7880\n",
      "Epoch 29/30\n"
     ]
    },
    {
     "name": "stdout",
     "output_type": "stream",
     "text": [
      "6656/6680 [============================>.] - ETA: 4s - loss: 0.1851 - acc: 1.000 - ETA: 3s - loss: 0.2034 - acc: 1.000 - ETA: 3s - loss: 0.2070 - acc: 1.000 - ETA: 3s - loss: 0.2023 - acc: 1.000 - ETA: 3s - loss: 0.2011 - acc: 1.000 - ETA: 3s - loss: 0.2005 - acc: 1.000 - ETA: 3s - loss: 0.2029 - acc: 1.000 - ETA: 3s - loss: 0.2027 - acc: 1.000 - ETA: 3s - loss: 0.2028 - acc: 1.000 - ETA: 3s - loss: 0.2018 - acc: 1.000 - ETA: 3s - loss: 0.2016 - acc: 1.000 - ETA: 3s - loss: 0.2018 - acc: 1.000 - ETA: 3s - loss: 0.2014 - acc: 1.000 - ETA: 3s - loss: 0.2024 - acc: 1.000 - ETA: 3s - loss: 0.2020 - acc: 1.000 - ETA: 3s - loss: 0.2024 - acc: 1.000 - ETA: 3s - loss: 0.2018 - acc: 1.000 - ETA: 3s - loss: 0.2026 - acc: 0.999 - ETA: 3s - loss: 0.2024 - acc: 0.999 - ETA: 3s - loss: 0.2019 - acc: 0.999 - ETA: 3s - loss: 0.2021 - acc: 0.999 - ETA: 2s - loss: 0.2025 - acc: 0.999 - ETA: 2s - loss: 0.2023 - acc: 0.999 - ETA: 2s - loss: 0.2028 - acc: 0.999 - ETA: 2s - loss: 0.2029 - acc: 0.999 - ETA: 2s - loss: 0.2029 - acc: 0.999 - ETA: 2s - loss: 0.2028 - acc: 0.999 - ETA: 2s - loss: 0.2030 - acc: 0.999 - ETA: 2s - loss: 0.2025 - acc: 0.999 - ETA: 2s - loss: 0.2024 - acc: 0.999 - ETA: 2s - loss: 0.2024 - acc: 0.999 - ETA: 2s - loss: 0.2025 - acc: 0.999 - ETA: 2s - loss: 0.2030 - acc: 0.999 - ETA: 2s - loss: 0.2026 - acc: 0.999 - ETA: 2s - loss: 0.2027 - acc: 0.999 - ETA: 2s - loss: 0.2035 - acc: 0.998 - ETA: 2s - loss: 0.2034 - acc: 0.998 - ETA: 2s - loss: 0.2034 - acc: 0.998 - ETA: 1s - loss: 0.2033 - acc: 0.998 - ETA: 1s - loss: 0.2034 - acc: 0.998 - ETA: 1s - loss: 0.2039 - acc: 0.998 - ETA: 1s - loss: 0.2038 - acc: 0.998 - ETA: 1s - loss: 0.2040 - acc: 0.998 - ETA: 1s - loss: 0.2044 - acc: 0.999 - ETA: 1s - loss: 0.2058 - acc: 0.998 - ETA: 1s - loss: 0.2061 - acc: 0.998 - ETA: 1s - loss: 0.2066 - acc: 0.998 - ETA: 1s - loss: 0.2068 - acc: 0.998 - ETA: 1s - loss: 0.2069 - acc: 0.998 - ETA: 1s - loss: 0.2073 - acc: 0.998 - ETA: 1s - loss: 0.2073 - acc: 0.998 - ETA: 1s - loss: 0.2072 - acc: 0.998 - ETA: 1s - loss: 0.2076 - acc: 0.998 - ETA: 1s - loss: 0.2073 - acc: 0.998 - ETA: 1s - loss: 0.2074 - acc: 0.998 - ETA: 1s - loss: 0.2071 - acc: 0.998 - ETA: 0s - loss: 0.2071 - acc: 0.998 - ETA: 0s - loss: 0.2069 - acc: 0.998 - ETA: 0s - loss: 0.2071 - acc: 0.998 - ETA: 0s - loss: 0.2072 - acc: 0.998 - ETA: 0s - loss: 0.2072 - acc: 0.998 - ETA: 0s - loss: 0.2073 - acc: 0.998 - ETA: 0s - loss: 0.2073 - acc: 0.998 - ETA: 0s - loss: 0.2076 - acc: 0.998 - ETA: 0s - loss: 0.2081 - acc: 0.998 - ETA: 0s - loss: 0.2081 - acc: 0.998 - ETA: 0s - loss: 0.2082 - acc: 0.998 - ETA: 0s - loss: 0.2088 - acc: 0.998 - ETA: 0s - loss: 0.2087 - acc: 0.998 - ETA: 0s - loss: 0.2090 - acc: 0.998 - ETA: 0s - loss: 0.2090 - acc: 0.998 - ETA: 0s - loss: 0.2093 - acc: 0.998 - ETA: 0s - loss: 0.2092 - acc: 0.998 - ETA: 0s - loss: 0.2092 - acc: 0.9983Epoch 00028: val_loss did not improve\n",
      "6680/6680 [==============================] - 4s - loss: 0.2092 - acc: 0.9984 - val_loss: 0.8435 - val_acc: 0.7772\n",
      "Epoch 30/30\n",
      "6656/6680 [============================>.] - ETA: 4s - loss: 0.2640 - acc: 0.937 - ETA: 4s - loss: 0.2184 - acc: 0.989 - ETA: 4s - loss: 0.2110 - acc: 0.994 - ETA: 4s - loss: 0.2106 - acc: 0.996 - ETA: 3s - loss: 0.2081 - acc: 0.997 - ETA: 3s - loss: 0.2057 - acc: 0.997 - ETA: 3s - loss: 0.2041 - acc: 0.998 - ETA: 3s - loss: 0.2036 - acc: 0.998 - ETA: 3s - loss: 0.2028 - acc: 0.998 - ETA: 3s - loss: 0.2032 - acc: 0.998 - ETA: 3s - loss: 0.2020 - acc: 0.998 - ETA: 3s - loss: 0.2011 - acc: 0.999 - ETA: 3s - loss: 0.2014 - acc: 0.999 - ETA: 3s - loss: 0.2022 - acc: 0.999 - ETA: 3s - loss: 0.2016 - acc: 0.999 - ETA: 3s - loss: 0.2015 - acc: 0.999 - ETA: 3s - loss: 0.2016 - acc: 0.999 - ETA: 3s - loss: 0.2013 - acc: 0.999 - ETA: 3s - loss: 0.2024 - acc: 0.998 - ETA: 3s - loss: 0.2019 - acc: 0.998 - ETA: 3s - loss: 0.2021 - acc: 0.998 - ETA: 2s - loss: 0.2026 - acc: 0.998 - ETA: 2s - loss: 0.2020 - acc: 0.999 - ETA: 2s - loss: 0.2016 - acc: 0.999 - ETA: 2s - loss: 0.2014 - acc: 0.999 - ETA: 2s - loss: 0.2021 - acc: 0.998 - ETA: 2s - loss: 0.2020 - acc: 0.998 - ETA: 2s - loss: 0.2019 - acc: 0.998 - ETA: 2s - loss: 0.2018 - acc: 0.998 - ETA: 2s - loss: 0.2016 - acc: 0.998 - ETA: 2s - loss: 0.2016 - acc: 0.998 - ETA: 2s - loss: 0.2013 - acc: 0.998 - ETA: 2s - loss: 0.2013 - acc: 0.999 - ETA: 2s - loss: 0.2010 - acc: 0.999 - ETA: 2s - loss: 0.2008 - acc: 0.999 - ETA: 2s - loss: 0.2008 - acc: 0.999 - ETA: 2s - loss: 0.2008 - acc: 0.999 - ETA: 2s - loss: 0.2007 - acc: 0.999 - ETA: 1s - loss: 0.2006 - acc: 0.999 - ETA: 1s - loss: 0.2006 - acc: 0.999 - ETA: 1s - loss: 0.2005 - acc: 0.999 - ETA: 1s - loss: 0.2006 - acc: 0.999 - ETA: 1s - loss: 0.2009 - acc: 0.999 - ETA: 1s - loss: 0.2012 - acc: 0.999 - ETA: 1s - loss: 0.2014 - acc: 0.999 - ETA: 1s - loss: 0.2016 - acc: 0.999 - ETA: 1s - loss: 0.2016 - acc: 0.999 - ETA: 1s - loss: 0.2016 - acc: 0.998 - ETA: 1s - loss: 0.2018 - acc: 0.998 - ETA: 1s - loss: 0.2022 - acc: 0.998 - ETA: 1s - loss: 0.2022 - acc: 0.998 - ETA: 1s - loss: 0.2024 - acc: 0.998 - ETA: 1s - loss: 0.2035 - acc: 0.998 - ETA: 1s - loss: 0.2038 - acc: 0.998 - ETA: 1s - loss: 0.2039 - acc: 0.998 - ETA: 1s - loss: 0.2043 - acc: 0.998 - ETA: 1s - loss: 0.2040 - acc: 0.998 - ETA: 0s - loss: 0.2042 - acc: 0.998 - ETA: 0s - loss: 0.2039 - acc: 0.998 - ETA: 0s - loss: 0.2044 - acc: 0.998 - ETA: 0s - loss: 0.2044 - acc: 0.998 - ETA: 0s - loss: 0.2046 - acc: 0.998 - ETA: 0s - loss: 0.2047 - acc: 0.998 - ETA: 0s - loss: 0.2045 - acc: 0.998 - ETA: 0s - loss: 0.2045 - acc: 0.998 - ETA: 0s - loss: 0.2048 - acc: 0.998 - ETA: 0s - loss: 0.2053 - acc: 0.998 - ETA: 0s - loss: 0.2055 - acc: 0.998 - ETA: 0s - loss: 0.2056 - acc: 0.998 - ETA: 0s - loss: 0.2057 - acc: 0.998 - ETA: 0s - loss: 0.2056 - acc: 0.998 - ETA: 0s - loss: 0.2058 - acc: 0.998 - ETA: 0s - loss: 0.2060 - acc: 0.998 - ETA: 0s - loss: 0.2061 - acc: 0.998 - ETA: 0s - loss: 0.2061 - acc: 0.998 - ETA: 0s - loss: 0.2061 - acc: 0.9983Epoch 00029: val_loss did not improve\n",
      "6680/6680 [==============================] - 4s - loss: 0.2060 - acc: 0.9984 - val_loss: 0.8414 - val_acc: 0.7844\n"
     ]
    },
    {
     "data": {
      "text/plain": [
       "<keras.callbacks.History at 0x241b6ed59e8>"
      ]
     },
     "execution_count": 209,
     "metadata": {},
     "output_type": "execute_result"
    }
   ],
   "source": [
    "### TODO: Train the model.\n",
    "checkpointer = ModelCheckpoint(filepath='saved_models/weights.best.VGG19.hdf5', \n",
    "                               verbose=1, save_best_only=True)\n",
    "\n",
    "VGG19_model.fit(train_VGG19, train_targets, \n",
    "          validation_data=(valid_VGG19, valid_targets),\n",
    "          epochs=30, batch_size=16, callbacks=[checkpointer], verbose=1)"
   ]
  },
  {
   "cell_type": "markdown",
   "metadata": {},
   "source": [
    "### (IMPLEMENTATION) Load the Model with the Best Validation Loss"
   ]
  },
  {
   "cell_type": "code",
   "execution_count": 37,
   "metadata": {},
   "outputs": [],
   "source": [
    "### TODO: Load the model weights with the best validation loss.\n",
    "VGG19_model.load_weights('saved_models/weights.best.VGG19.hdf5')"
   ]
  },
  {
   "cell_type": "markdown",
   "metadata": {},
   "source": [
    "### (IMPLEMENTATION) Test the Model\n",
    "\n",
    "Try out your model on the test dataset of dog images. Ensure that your test accuracy is greater than 60%."
   ]
  },
  {
   "cell_type": "code",
   "execution_count": 38,
   "metadata": {},
   "outputs": [
    {
     "name": "stdout",
     "output_type": "stream",
     "text": [
      "Test accuracy: 78.5885%\n"
     ]
    }
   ],
   "source": [
    "### TODO: Calculate classification accuracy on the test dataset.\n",
    "VGG19_predictions = [np.argmax(VGG19_model.predict(np.expand_dims(feature, axis=0))) for feature in test_VGG19]\n",
    "\n",
    "# report test accuracy\n",
    "test_accuracy = 100*np.sum(np.array(VGG19_predictions)==np.argmax(test_targets, axis=1))/len(VGG19_predictions)\n",
    "print('Test accuracy: %.4f%%' % test_accuracy)"
   ]
  },
  {
   "cell_type": "markdown",
   "metadata": {},
   "source": [
    "### (IMPLEMENTATION) Predict Dog Breed with the Model\n",
    "\n",
    "Write a function that takes an image path as input and returns the dog breed (`Affenpinscher`, `Afghan_hound`, etc) that is predicted by your model.  \n",
    "\n",
    "Similar to the analogous function in Step 5, your function should have three steps:\n",
    "1. Extract the bottleneck features corresponding to the chosen CNN model.\n",
    "2. Supply the bottleneck features as input to the model to return the predicted vector.  Note that the argmax of this prediction vector gives the index of the predicted dog breed.\n",
    "3. Use the `dog_names` array defined in Step 0 of this notebook to return the corresponding breed.\n",
    "\n",
    "The functions to extract the bottleneck features can be found in `extract_bottleneck_features.py`, and they have been imported in an earlier code cell.  To obtain the bottleneck features corresponding to your chosen CNN architecture, you need to use the function\n",
    "\n",
    "    extract_{network}\n",
    "    \n",
    "where `{network}`, in the above filename, should be one of `VGG19`, `Resnet50`, `InceptionV3`, or `Xception`."
   ]
  },
  {
   "cell_type": "code",
   "execution_count": 41,
   "metadata": {},
   "outputs": [],
   "source": [
    "### TODO: Write a function that takes a path to an image as input\n",
    "### and returns the dog breed that is predicted by the model.\n",
    "from extract_bottleneck_features import *\n",
    "def VGG19_predict_breed(img_path):\n",
    "    # extract bottleneck features\n",
    "    bottleneck_feature = extract_VGG19(path_to_tensor(img_path))\n",
    "    # obtain predicted vector\n",
    "    predicted_vector = VGG19_model.predict(bottleneck_feature)\n",
    "    # return dog breed that is predicted by the model\n",
    "    return dog_names[np.argmax(predicted_vector)]\n"
   ]
  },
  {
   "cell_type": "markdown",
   "metadata": {},
   "source": [
    "---\n",
    "<a id='step6'></a>\n",
    "## Step 6: Write your Algorithm\n",
    "\n",
    "Write an algorithm that accepts a file path to an image and first determines whether the image contains a human, dog, or neither.  Then,\n",
    "- if a __dog__ is detected in the image, return the predicted breed.\n",
    "- if a __human__ is detected in the image, return the resembling dog breed.\n",
    "- if __neither__ is detected in the image, provide output that indicates an error.\n",
    "\n",
    "You are welcome to write your own functions for detecting humans and dogs in images, but feel free to use the `face_detector` and `dog_detector` functions developed above.  You are __required__ to use your CNN from Step 5 to predict dog breed.  \n",
    "\n",
    "Some sample output for our algorithm is provided below, but feel free to design your own user experience!\n",
    "\n",
    "![Sample Human Output](images/sample_human_output.png)\n",
    "\n",
    "\n",
    "### (IMPLEMENTATION) Write your Algorithm"
   ]
  },
  {
   "cell_type": "code",
   "execution_count": 42,
   "metadata": {},
   "outputs": [
    {
     "name": "stdout",
     "output_type": "stream",
     "text": [
      "Dataset/dogImages/test\\057.Dalmatian\\Dalmatian_04056.jpg\n",
      "Downloading data from https://github.com/fchollet/deep-learning-models/releases/download/v0.1/vgg19_weights_tf_dim_ordering_tf_kernels_notop.h5\n"
     ]
    },
    {
     "ename": "Exception",
     "evalue": "URL fetch failure on https://github.com/fchollet/deep-learning-models/releases/download/v0.1/vgg19_weights_tf_dim_ordering_tf_kernels_notop.h5: None -- [WinError 10054] An existing connection was forcibly closed by the remote host",
     "output_type": "error",
     "traceback": [
      "\u001b[1;31m---------------------------------------------------------------------------\u001b[0m",
      "\u001b[1;31mConnectionResetError\u001b[0m                      Traceback (most recent call last)",
      "\u001b[1;32mD:\\AppData\\Anaconda\\envs\\dog-project-master\\lib\\urllib\\request.py\u001b[0m in \u001b[0;36mdo_open\u001b[1;34m(self, http_class, req, **http_conn_args)\u001b[0m\n\u001b[0;32m   1253\u001b[0m             \u001b[1;32mtry\u001b[0m\u001b[1;33m:\u001b[0m\u001b[1;33m\u001b[0m\u001b[0m\n\u001b[1;32m-> 1254\u001b[1;33m                 \u001b[0mh\u001b[0m\u001b[1;33m.\u001b[0m\u001b[0mrequest\u001b[0m\u001b[1;33m(\u001b[0m\u001b[0mreq\u001b[0m\u001b[1;33m.\u001b[0m\u001b[0mget_method\u001b[0m\u001b[1;33m(\u001b[0m\u001b[1;33m)\u001b[0m\u001b[1;33m,\u001b[0m \u001b[0mreq\u001b[0m\u001b[1;33m.\u001b[0m\u001b[0mselector\u001b[0m\u001b[1;33m,\u001b[0m \u001b[0mreq\u001b[0m\u001b[1;33m.\u001b[0m\u001b[0mdata\u001b[0m\u001b[1;33m,\u001b[0m \u001b[0mheaders\u001b[0m\u001b[1;33m)\u001b[0m\u001b[1;33m\u001b[0m\u001b[0m\n\u001b[0m\u001b[0;32m   1255\u001b[0m             \u001b[1;32mexcept\u001b[0m \u001b[0mOSError\u001b[0m \u001b[1;32mas\u001b[0m \u001b[0merr\u001b[0m\u001b[1;33m:\u001b[0m \u001b[1;31m# timeout error\u001b[0m\u001b[1;33m\u001b[0m\u001b[0m\n",
      "\u001b[1;32mD:\\AppData\\Anaconda\\envs\\dog-project-master\\lib\\http\\client.py\u001b[0m in \u001b[0;36mrequest\u001b[1;34m(self, method, url, body, headers)\u001b[0m\n\u001b[0;32m   1106\u001b[0m         \u001b[1;34m\"\"\"Send a complete request to the server.\"\"\"\u001b[0m\u001b[1;33m\u001b[0m\u001b[0m\n\u001b[1;32m-> 1107\u001b[1;33m         \u001b[0mself\u001b[0m\u001b[1;33m.\u001b[0m\u001b[0m_send_request\u001b[0m\u001b[1;33m(\u001b[0m\u001b[0mmethod\u001b[0m\u001b[1;33m,\u001b[0m \u001b[0murl\u001b[0m\u001b[1;33m,\u001b[0m \u001b[0mbody\u001b[0m\u001b[1;33m,\u001b[0m \u001b[0mheaders\u001b[0m\u001b[1;33m)\u001b[0m\u001b[1;33m\u001b[0m\u001b[0m\n\u001b[0m\u001b[0;32m   1108\u001b[0m \u001b[1;33m\u001b[0m\u001b[0m\n",
      "\u001b[1;32mD:\\AppData\\Anaconda\\envs\\dog-project-master\\lib\\http\\client.py\u001b[0m in \u001b[0;36m_send_request\u001b[1;34m(self, method, url, body, headers)\u001b[0m\n\u001b[0;32m   1151\u001b[0m             \u001b[0mbody\u001b[0m \u001b[1;33m=\u001b[0m \u001b[0m_encode\u001b[0m\u001b[1;33m(\u001b[0m\u001b[0mbody\u001b[0m\u001b[1;33m,\u001b[0m \u001b[1;34m'body'\u001b[0m\u001b[1;33m)\u001b[0m\u001b[1;33m\u001b[0m\u001b[0m\n\u001b[1;32m-> 1152\u001b[1;33m         \u001b[0mself\u001b[0m\u001b[1;33m.\u001b[0m\u001b[0mendheaders\u001b[0m\u001b[1;33m(\u001b[0m\u001b[0mbody\u001b[0m\u001b[1;33m)\u001b[0m\u001b[1;33m\u001b[0m\u001b[0m\n\u001b[0m\u001b[0;32m   1153\u001b[0m \u001b[1;33m\u001b[0m\u001b[0m\n",
      "\u001b[1;32mD:\\AppData\\Anaconda\\envs\\dog-project-master\\lib\\http\\client.py\u001b[0m in \u001b[0;36mendheaders\u001b[1;34m(self, message_body)\u001b[0m\n\u001b[0;32m   1102\u001b[0m             \u001b[1;32mraise\u001b[0m \u001b[0mCannotSendHeader\u001b[0m\u001b[1;33m(\u001b[0m\u001b[1;33m)\u001b[0m\u001b[1;33m\u001b[0m\u001b[0m\n\u001b[1;32m-> 1103\u001b[1;33m         \u001b[0mself\u001b[0m\u001b[1;33m.\u001b[0m\u001b[0m_send_output\u001b[0m\u001b[1;33m(\u001b[0m\u001b[0mmessage_body\u001b[0m\u001b[1;33m)\u001b[0m\u001b[1;33m\u001b[0m\u001b[0m\n\u001b[0m\u001b[0;32m   1104\u001b[0m \u001b[1;33m\u001b[0m\u001b[0m\n",
      "\u001b[1;32mD:\\AppData\\Anaconda\\envs\\dog-project-master\\lib\\http\\client.py\u001b[0m in \u001b[0;36m_send_output\u001b[1;34m(self, message_body)\u001b[0m\n\u001b[0;32m    933\u001b[0m \u001b[1;33m\u001b[0m\u001b[0m\n\u001b[1;32m--> 934\u001b[1;33m         \u001b[0mself\u001b[0m\u001b[1;33m.\u001b[0m\u001b[0msend\u001b[0m\u001b[1;33m(\u001b[0m\u001b[0mmsg\u001b[0m\u001b[1;33m)\u001b[0m\u001b[1;33m\u001b[0m\u001b[0m\n\u001b[0m\u001b[0;32m    935\u001b[0m         \u001b[1;32mif\u001b[0m \u001b[0mmessage_body\u001b[0m \u001b[1;32mis\u001b[0m \u001b[1;32mnot\u001b[0m \u001b[1;32mNone\u001b[0m\u001b[1;33m:\u001b[0m\u001b[1;33m\u001b[0m\u001b[0m\n",
      "\u001b[1;32mD:\\AppData\\Anaconda\\envs\\dog-project-master\\lib\\http\\client.py\u001b[0m in \u001b[0;36msend\u001b[1;34m(self, data)\u001b[0m\n\u001b[0;32m    876\u001b[0m             \u001b[1;32mif\u001b[0m \u001b[0mself\u001b[0m\u001b[1;33m.\u001b[0m\u001b[0mauto_open\u001b[0m\u001b[1;33m:\u001b[0m\u001b[1;33m\u001b[0m\u001b[0m\n\u001b[1;32m--> 877\u001b[1;33m                 \u001b[0mself\u001b[0m\u001b[1;33m.\u001b[0m\u001b[0mconnect\u001b[0m\u001b[1;33m(\u001b[0m\u001b[1;33m)\u001b[0m\u001b[1;33m\u001b[0m\u001b[0m\n\u001b[0m\u001b[0;32m    878\u001b[0m             \u001b[1;32melse\u001b[0m\u001b[1;33m:\u001b[0m\u001b[1;33m\u001b[0m\u001b[0m\n",
      "\u001b[1;32mD:\\AppData\\Anaconda\\envs\\dog-project-master\\lib\\http\\client.py\u001b[0m in \u001b[0;36mconnect\u001b[1;34m(self)\u001b[0m\n\u001b[0;32m   1260\u001b[0m             self.sock = self._context.wrap_socket(self.sock,\n\u001b[1;32m-> 1261\u001b[1;33m                                                   server_hostname=server_hostname)\n\u001b[0m\u001b[0;32m   1262\u001b[0m             \u001b[1;32mif\u001b[0m \u001b[1;32mnot\u001b[0m \u001b[0mself\u001b[0m\u001b[1;33m.\u001b[0m\u001b[0m_context\u001b[0m\u001b[1;33m.\u001b[0m\u001b[0mcheck_hostname\u001b[0m \u001b[1;32mand\u001b[0m \u001b[0mself\u001b[0m\u001b[1;33m.\u001b[0m\u001b[0m_check_hostname\u001b[0m\u001b[1;33m:\u001b[0m\u001b[1;33m\u001b[0m\u001b[0m\n",
      "\u001b[1;32mD:\\AppData\\Anaconda\\envs\\dog-project-master\\lib\\ssl.py\u001b[0m in \u001b[0;36mwrap_socket\u001b[1;34m(self, sock, server_side, do_handshake_on_connect, suppress_ragged_eofs, server_hostname)\u001b[0m\n\u001b[0;32m    384\u001b[0m                          \u001b[0mserver_hostname\u001b[0m\u001b[1;33m=\u001b[0m\u001b[0mserver_hostname\u001b[0m\u001b[1;33m,\u001b[0m\u001b[1;33m\u001b[0m\u001b[0m\n\u001b[1;32m--> 385\u001b[1;33m                          _context=self)\n\u001b[0m\u001b[0;32m    386\u001b[0m \u001b[1;33m\u001b[0m\u001b[0m\n",
      "\u001b[1;32mD:\\AppData\\Anaconda\\envs\\dog-project-master\\lib\\ssl.py\u001b[0m in \u001b[0;36m__init__\u001b[1;34m(self, sock, keyfile, certfile, server_side, cert_reqs, ssl_version, ca_certs, do_handshake_on_connect, family, type, proto, fileno, suppress_ragged_eofs, npn_protocols, ciphers, server_hostname, _context)\u001b[0m\n\u001b[0;32m    759\u001b[0m                         \u001b[1;32mraise\u001b[0m \u001b[0mValueError\u001b[0m\u001b[1;33m(\u001b[0m\u001b[1;34m\"do_handshake_on_connect should not be specified for non-blocking sockets\"\u001b[0m\u001b[1;33m)\u001b[0m\u001b[1;33m\u001b[0m\u001b[0m\n\u001b[1;32m--> 760\u001b[1;33m                     \u001b[0mself\u001b[0m\u001b[1;33m.\u001b[0m\u001b[0mdo_handshake\u001b[0m\u001b[1;33m(\u001b[0m\u001b[1;33m)\u001b[0m\u001b[1;33m\u001b[0m\u001b[0m\n\u001b[0m\u001b[0;32m    761\u001b[0m \u001b[1;33m\u001b[0m\u001b[0m\n",
      "\u001b[1;32mD:\\AppData\\Anaconda\\envs\\dog-project-master\\lib\\ssl.py\u001b[0m in \u001b[0;36mdo_handshake\u001b[1;34m(self, block)\u001b[0m\n\u001b[0;32m    995\u001b[0m                 \u001b[0mself\u001b[0m\u001b[1;33m.\u001b[0m\u001b[0msettimeout\u001b[0m\u001b[1;33m(\u001b[0m\u001b[1;32mNone\u001b[0m\u001b[1;33m)\u001b[0m\u001b[1;33m\u001b[0m\u001b[0m\n\u001b[1;32m--> 996\u001b[1;33m             \u001b[0mself\u001b[0m\u001b[1;33m.\u001b[0m\u001b[0m_sslobj\u001b[0m\u001b[1;33m.\u001b[0m\u001b[0mdo_handshake\u001b[0m\u001b[1;33m(\u001b[0m\u001b[1;33m)\u001b[0m\u001b[1;33m\u001b[0m\u001b[0m\n\u001b[0m\u001b[0;32m    997\u001b[0m         \u001b[1;32mfinally\u001b[0m\u001b[1;33m:\u001b[0m\u001b[1;33m\u001b[0m\u001b[0m\n",
      "\u001b[1;32mD:\\AppData\\Anaconda\\envs\\dog-project-master\\lib\\ssl.py\u001b[0m in \u001b[0;36mdo_handshake\u001b[1;34m(self)\u001b[0m\n\u001b[0;32m    640\u001b[0m         \u001b[1;34m\"\"\"Start the SSL/TLS handshake.\"\"\"\u001b[0m\u001b[1;33m\u001b[0m\u001b[0m\n\u001b[1;32m--> 641\u001b[1;33m         \u001b[0mself\u001b[0m\u001b[1;33m.\u001b[0m\u001b[0m_sslobj\u001b[0m\u001b[1;33m.\u001b[0m\u001b[0mdo_handshake\u001b[0m\u001b[1;33m(\u001b[0m\u001b[1;33m)\u001b[0m\u001b[1;33m\u001b[0m\u001b[0m\n\u001b[0m\u001b[0;32m    642\u001b[0m         \u001b[1;32mif\u001b[0m \u001b[0mself\u001b[0m\u001b[1;33m.\u001b[0m\u001b[0mcontext\u001b[0m\u001b[1;33m.\u001b[0m\u001b[0mcheck_hostname\u001b[0m\u001b[1;33m:\u001b[0m\u001b[1;33m\u001b[0m\u001b[0m\n",
      "\u001b[1;31mConnectionResetError\u001b[0m: [WinError 10054] An existing connection was forcibly closed by the remote host",
      "\nDuring handling of the above exception, another exception occurred:\n",
      "\u001b[1;31mURLError\u001b[0m                                  Traceback (most recent call last)",
      "\u001b[1;32mD:\\AppData\\Anaconda\\envs\\dog-project-master\\lib\\site-packages\\keras\\utils\\data_utils.py\u001b[0m in \u001b[0;36mget_file\u001b[1;34m(fname, origin, untar, md5_hash, cache_subdir)\u001b[0m\n\u001b[0;32m    112\u001b[0m                 urlretrieve(origin, fpath,\n\u001b[1;32m--> 113\u001b[1;33m                             functools.partial(dl_progress, progbar=progbar))\n\u001b[0m\u001b[0;32m    114\u001b[0m             \u001b[1;32mexcept\u001b[0m \u001b[0mURLError\u001b[0m \u001b[1;32mas\u001b[0m \u001b[0me\u001b[0m\u001b[1;33m:\u001b[0m\u001b[1;33m\u001b[0m\u001b[0m\n",
      "\u001b[1;32mD:\\AppData\\Anaconda\\envs\\dog-project-master\\lib\\urllib\\request.py\u001b[0m in \u001b[0;36murlretrieve\u001b[1;34m(url, filename, reporthook, data)\u001b[0m\n\u001b[0;32m    187\u001b[0m \u001b[1;33m\u001b[0m\u001b[0m\n\u001b[1;32m--> 188\u001b[1;33m     \u001b[1;32mwith\u001b[0m \u001b[0mcontextlib\u001b[0m\u001b[1;33m.\u001b[0m\u001b[0mclosing\u001b[0m\u001b[1;33m(\u001b[0m\u001b[0murlopen\u001b[0m\u001b[1;33m(\u001b[0m\u001b[0murl\u001b[0m\u001b[1;33m,\u001b[0m \u001b[0mdata\u001b[0m\u001b[1;33m)\u001b[0m\u001b[1;33m)\u001b[0m \u001b[1;32mas\u001b[0m \u001b[0mfp\u001b[0m\u001b[1;33m:\u001b[0m\u001b[1;33m\u001b[0m\u001b[0m\n\u001b[0m\u001b[0;32m    189\u001b[0m         \u001b[0mheaders\u001b[0m \u001b[1;33m=\u001b[0m \u001b[0mfp\u001b[0m\u001b[1;33m.\u001b[0m\u001b[0minfo\u001b[0m\u001b[1;33m(\u001b[0m\u001b[1;33m)\u001b[0m\u001b[1;33m\u001b[0m\u001b[0m\n",
      "\u001b[1;32mD:\\AppData\\Anaconda\\envs\\dog-project-master\\lib\\urllib\\request.py\u001b[0m in \u001b[0;36murlopen\u001b[1;34m(url, data, timeout, cafile, capath, cadefault, context)\u001b[0m\n\u001b[0;32m    162\u001b[0m         \u001b[0mopener\u001b[0m \u001b[1;33m=\u001b[0m \u001b[0m_opener\u001b[0m\u001b[1;33m\u001b[0m\u001b[0m\n\u001b[1;32m--> 163\u001b[1;33m     \u001b[1;32mreturn\u001b[0m \u001b[0mopener\u001b[0m\u001b[1;33m.\u001b[0m\u001b[0mopen\u001b[0m\u001b[1;33m(\u001b[0m\u001b[0murl\u001b[0m\u001b[1;33m,\u001b[0m \u001b[0mdata\u001b[0m\u001b[1;33m,\u001b[0m \u001b[0mtimeout\u001b[0m\u001b[1;33m)\u001b[0m\u001b[1;33m\u001b[0m\u001b[0m\n\u001b[0m\u001b[0;32m    164\u001b[0m \u001b[1;33m\u001b[0m\u001b[0m\n",
      "\u001b[1;32mD:\\AppData\\Anaconda\\envs\\dog-project-master\\lib\\urllib\\request.py\u001b[0m in \u001b[0;36mopen\u001b[1;34m(self, fullurl, data, timeout)\u001b[0m\n\u001b[0;32m    465\u001b[0m \u001b[1;33m\u001b[0m\u001b[0m\n\u001b[1;32m--> 466\u001b[1;33m         \u001b[0mresponse\u001b[0m \u001b[1;33m=\u001b[0m \u001b[0mself\u001b[0m\u001b[1;33m.\u001b[0m\u001b[0m_open\u001b[0m\u001b[1;33m(\u001b[0m\u001b[0mreq\u001b[0m\u001b[1;33m,\u001b[0m \u001b[0mdata\u001b[0m\u001b[1;33m)\u001b[0m\u001b[1;33m\u001b[0m\u001b[0m\n\u001b[0m\u001b[0;32m    467\u001b[0m \u001b[1;33m\u001b[0m\u001b[0m\n",
      "\u001b[1;32mD:\\AppData\\Anaconda\\envs\\dog-project-master\\lib\\urllib\\request.py\u001b[0m in \u001b[0;36m_open\u001b[1;34m(self, req, data)\u001b[0m\n\u001b[0;32m    483\u001b[0m         result = self._call_chain(self.handle_open, protocol, protocol +\n\u001b[1;32m--> 484\u001b[1;33m                                   '_open', req)\n\u001b[0m\u001b[0;32m    485\u001b[0m         \u001b[1;32mif\u001b[0m \u001b[0mresult\u001b[0m\u001b[1;33m:\u001b[0m\u001b[1;33m\u001b[0m\u001b[0m\n",
      "\u001b[1;32mD:\\AppData\\Anaconda\\envs\\dog-project-master\\lib\\urllib\\request.py\u001b[0m in \u001b[0;36m_call_chain\u001b[1;34m(self, chain, kind, meth_name, *args)\u001b[0m\n\u001b[0;32m    443\u001b[0m             \u001b[0mfunc\u001b[0m \u001b[1;33m=\u001b[0m \u001b[0mgetattr\u001b[0m\u001b[1;33m(\u001b[0m\u001b[0mhandler\u001b[0m\u001b[1;33m,\u001b[0m \u001b[0mmeth_name\u001b[0m\u001b[1;33m)\u001b[0m\u001b[1;33m\u001b[0m\u001b[0m\n\u001b[1;32m--> 444\u001b[1;33m             \u001b[0mresult\u001b[0m \u001b[1;33m=\u001b[0m \u001b[0mfunc\u001b[0m\u001b[1;33m(\u001b[0m\u001b[1;33m*\u001b[0m\u001b[0margs\u001b[0m\u001b[1;33m)\u001b[0m\u001b[1;33m\u001b[0m\u001b[0m\n\u001b[0m\u001b[0;32m    445\u001b[0m             \u001b[1;32mif\u001b[0m \u001b[0mresult\u001b[0m \u001b[1;32mis\u001b[0m \u001b[1;32mnot\u001b[0m \u001b[1;32mNone\u001b[0m\u001b[1;33m:\u001b[0m\u001b[1;33m\u001b[0m\u001b[0m\n",
      "\u001b[1;32mD:\\AppData\\Anaconda\\envs\\dog-project-master\\lib\\urllib\\request.py\u001b[0m in \u001b[0;36mhttps_open\u001b[1;34m(self, req)\u001b[0m\n\u001b[0;32m   1296\u001b[0m             return self.do_open(http.client.HTTPSConnection, req,\n\u001b[1;32m-> 1297\u001b[1;33m                 context=self._context, check_hostname=self._check_hostname)\n\u001b[0m\u001b[0;32m   1298\u001b[0m \u001b[1;33m\u001b[0m\u001b[0m\n",
      "\u001b[1;32mD:\\AppData\\Anaconda\\envs\\dog-project-master\\lib\\urllib\\request.py\u001b[0m in \u001b[0;36mdo_open\u001b[1;34m(self, http_class, req, **http_conn_args)\u001b[0m\n\u001b[0;32m   1255\u001b[0m             \u001b[1;32mexcept\u001b[0m \u001b[0mOSError\u001b[0m \u001b[1;32mas\u001b[0m \u001b[0merr\u001b[0m\u001b[1;33m:\u001b[0m \u001b[1;31m# timeout error\u001b[0m\u001b[1;33m\u001b[0m\u001b[0m\n\u001b[1;32m-> 1256\u001b[1;33m                 \u001b[1;32mraise\u001b[0m \u001b[0mURLError\u001b[0m\u001b[1;33m(\u001b[0m\u001b[0merr\u001b[0m\u001b[1;33m)\u001b[0m\u001b[1;33m\u001b[0m\u001b[0m\n\u001b[0m\u001b[0;32m   1257\u001b[0m             \u001b[0mr\u001b[0m \u001b[1;33m=\u001b[0m \u001b[0mh\u001b[0m\u001b[1;33m.\u001b[0m\u001b[0mgetresponse\u001b[0m\u001b[1;33m(\u001b[0m\u001b[1;33m)\u001b[0m\u001b[1;33m\u001b[0m\u001b[0m\n",
      "\u001b[1;31mURLError\u001b[0m: <urlopen error [WinError 10054] An existing connection was forcibly closed by the remote host>",
      "\nDuring handling of the above exception, another exception occurred:\n",
      "\u001b[1;31mException\u001b[0m                                 Traceback (most recent call last)",
      "\u001b[1;32m<ipython-input-42-02bd1dc6c2c6>\u001b[0m in \u001b[0;36m<module>\u001b[1;34m()\u001b[0m\n\u001b[0;32m      4\u001b[0m \u001b[0mimg_path\u001b[0m \u001b[1;33m=\u001b[0m \u001b[0mtest_files\u001b[0m\u001b[1;33m[\u001b[0m\u001b[1;36m0\u001b[0m\u001b[1;33m]\u001b[0m\u001b[1;33m\u001b[0m\u001b[0m\n\u001b[0;32m      5\u001b[0m \u001b[1;32mif\u001b[0m \u001b[0mdog_detector\u001b[0m\u001b[1;33m(\u001b[0m\u001b[0mimg_path\u001b[0m\u001b[1;33m)\u001b[0m\u001b[1;33m:\u001b[0m\u001b[1;33m\u001b[0m\u001b[0m\n\u001b[1;32m----> 6\u001b[1;33m     \u001b[0mprint\u001b[0m\u001b[1;33m(\u001b[0m\u001b[1;34m\"Dog is Detected and its breed is\"\u001b[0m\u001b[1;33m+\u001b[0m\u001b[0mstr\u001b[0m\u001b[1;33m(\u001b[0m\u001b[0mVGG19_predict_breed\u001b[0m\u001b[1;33m(\u001b[0m\u001b[0mimg_path\u001b[0m\u001b[1;33m)\u001b[0m\u001b[1;33m)\u001b[0m\u001b[1;33m)\u001b[0m\u001b[1;33m\u001b[0m\u001b[0m\n\u001b[0m\u001b[0;32m      7\u001b[0m \u001b[1;32mif\u001b[0m \u001b[0mface_detector\u001b[0m\u001b[1;33m(\u001b[0m\u001b[0mimg_path\u001b[0m\u001b[1;33m)\u001b[0m\u001b[1;33m:\u001b[0m\u001b[1;33m\u001b[0m\u001b[0m\n\u001b[0;32m      8\u001b[0m     \u001b[0mprint\u001b[0m\u001b[1;33m(\u001b[0m\u001b[1;34m\"Human is detected/n\"\u001b[0m\u001b[1;33m)\u001b[0m\u001b[1;33m\u001b[0m\u001b[0m\n",
      "\u001b[1;32m<ipython-input-41-1c7595978eb1>\u001b[0m in \u001b[0;36mVGG19_predict_breed\u001b[1;34m(img_path)\u001b[0m\n\u001b[0;32m      4\u001b[0m \u001b[1;32mdef\u001b[0m \u001b[0mVGG19_predict_breed\u001b[0m\u001b[1;33m(\u001b[0m\u001b[0mimg_path\u001b[0m\u001b[1;33m)\u001b[0m\u001b[1;33m:\u001b[0m\u001b[1;33m\u001b[0m\u001b[0m\n\u001b[0;32m      5\u001b[0m     \u001b[1;31m# extract bottleneck features\u001b[0m\u001b[1;33m\u001b[0m\u001b[1;33m\u001b[0m\u001b[0m\n\u001b[1;32m----> 6\u001b[1;33m     \u001b[0mbottleneck_feature\u001b[0m \u001b[1;33m=\u001b[0m \u001b[0mextract_VGG19\u001b[0m\u001b[1;33m(\u001b[0m\u001b[0mpath_to_tensor\u001b[0m\u001b[1;33m(\u001b[0m\u001b[0mimg_path\u001b[0m\u001b[1;33m)\u001b[0m\u001b[1;33m)\u001b[0m\u001b[1;33m\u001b[0m\u001b[0m\n\u001b[0m\u001b[0;32m      7\u001b[0m     \u001b[1;31m# obtain predicted vector\u001b[0m\u001b[1;33m\u001b[0m\u001b[1;33m\u001b[0m\u001b[0m\n\u001b[0;32m      8\u001b[0m     \u001b[0mpredicted_vector\u001b[0m \u001b[1;33m=\u001b[0m \u001b[0mVGG19_model\u001b[0m\u001b[1;33m.\u001b[0m\u001b[0mpredict\u001b[0m\u001b[1;33m(\u001b[0m\u001b[0mbottleneck_feature\u001b[0m\u001b[1;33m)\u001b[0m\u001b[1;33m\u001b[0m\u001b[0m\n",
      "\u001b[1;32mD:\\Developement\\Udacity_Project\\dog-project-master\\extract_bottleneck_features.py\u001b[0m in \u001b[0;36mextract_VGG19\u001b[1;34m(tensor)\u001b[0m\n\u001b[0;32m      5\u001b[0m \u001b[1;32mdef\u001b[0m \u001b[0mextract_VGG19\u001b[0m\u001b[1;33m(\u001b[0m\u001b[0mtensor\u001b[0m\u001b[1;33m)\u001b[0m\u001b[1;33m:\u001b[0m\u001b[1;33m\u001b[0m\u001b[0m\n\u001b[0;32m      6\u001b[0m         \u001b[1;32mfrom\u001b[0m \u001b[0mkeras\u001b[0m\u001b[1;33m.\u001b[0m\u001b[0mapplications\u001b[0m\u001b[1;33m.\u001b[0m\u001b[0mvgg19\u001b[0m \u001b[1;32mimport\u001b[0m \u001b[0mVGG19\u001b[0m\u001b[1;33m,\u001b[0m \u001b[0mpreprocess_input\u001b[0m\u001b[1;33m\u001b[0m\u001b[0m\n\u001b[1;32m----> 7\u001b[1;33m         \u001b[1;32mreturn\u001b[0m \u001b[0mVGG19\u001b[0m\u001b[1;33m(\u001b[0m\u001b[0mweights\u001b[0m\u001b[1;33m=\u001b[0m\u001b[1;34m'imagenet'\u001b[0m\u001b[1;33m,\u001b[0m \u001b[0minclude_top\u001b[0m\u001b[1;33m=\u001b[0m\u001b[1;32mFalse\u001b[0m\u001b[1;33m)\u001b[0m\u001b[1;33m.\u001b[0m\u001b[0mpredict\u001b[0m\u001b[1;33m(\u001b[0m\u001b[0mpreprocess_input\u001b[0m\u001b[1;33m(\u001b[0m\u001b[0mtensor\u001b[0m\u001b[1;33m)\u001b[0m\u001b[1;33m)\u001b[0m\u001b[1;33m\u001b[0m\u001b[0m\n\u001b[0m\u001b[0;32m      8\u001b[0m \u001b[1;33m\u001b[0m\u001b[0m\n\u001b[0;32m      9\u001b[0m \u001b[1;32mdef\u001b[0m \u001b[0mextract_Resnet50\u001b[0m\u001b[1;33m(\u001b[0m\u001b[0mtensor\u001b[0m\u001b[1;33m)\u001b[0m\u001b[1;33m:\u001b[0m\u001b[1;33m\u001b[0m\u001b[0m\n",
      "\u001b[1;32mD:\\AppData\\Anaconda\\envs\\dog-project-master\\lib\\site-packages\\keras\\applications\\vgg19.py\u001b[0m in \u001b[0;36mVGG19\u001b[1;34m(include_top, weights, input_tensor, input_shape, pooling, classes)\u001b[0m\n\u001b[0;32m    169\u001b[0m             weights_path = get_file('vgg19_weights_tf_dim_ordering_tf_kernels_notop.h5',\n\u001b[0;32m    170\u001b[0m                                     \u001b[0mWEIGHTS_PATH_NO_TOP\u001b[0m\u001b[1;33m,\u001b[0m\u001b[1;33m\u001b[0m\u001b[0m\n\u001b[1;32m--> 171\u001b[1;33m                                     cache_subdir='models')\n\u001b[0m\u001b[0;32m    172\u001b[0m         \u001b[0mmodel\u001b[0m\u001b[1;33m.\u001b[0m\u001b[0mload_weights\u001b[0m\u001b[1;33m(\u001b[0m\u001b[0mweights_path\u001b[0m\u001b[1;33m)\u001b[0m\u001b[1;33m\u001b[0m\u001b[0m\n\u001b[0;32m    173\u001b[0m         \u001b[1;32mif\u001b[0m \u001b[0mK\u001b[0m\u001b[1;33m.\u001b[0m\u001b[0mbackend\u001b[0m\u001b[1;33m(\u001b[0m\u001b[1;33m)\u001b[0m \u001b[1;33m==\u001b[0m \u001b[1;34m'theano'\u001b[0m\u001b[1;33m:\u001b[0m\u001b[1;33m\u001b[0m\u001b[0m\n",
      "\u001b[1;32mD:\\AppData\\Anaconda\\envs\\dog-project-master\\lib\\site-packages\\keras\\utils\\data_utils.py\u001b[0m in \u001b[0;36mget_file\u001b[1;34m(fname, origin, untar, md5_hash, cache_subdir)\u001b[0m\n\u001b[0;32m    113\u001b[0m                             functools.partial(dl_progress, progbar=progbar))\n\u001b[0;32m    114\u001b[0m             \u001b[1;32mexcept\u001b[0m \u001b[0mURLError\u001b[0m \u001b[1;32mas\u001b[0m \u001b[0me\u001b[0m\u001b[1;33m:\u001b[0m\u001b[1;33m\u001b[0m\u001b[0m\n\u001b[1;32m--> 115\u001b[1;33m                 \u001b[1;32mraise\u001b[0m \u001b[0mException\u001b[0m\u001b[1;33m(\u001b[0m\u001b[0merror_msg\u001b[0m\u001b[1;33m.\u001b[0m\u001b[0mformat\u001b[0m\u001b[1;33m(\u001b[0m\u001b[0morigin\u001b[0m\u001b[1;33m,\u001b[0m \u001b[0me\u001b[0m\u001b[1;33m.\u001b[0m\u001b[0merrno\u001b[0m\u001b[1;33m,\u001b[0m \u001b[0me\u001b[0m\u001b[1;33m.\u001b[0m\u001b[0mreason\u001b[0m\u001b[1;33m)\u001b[0m\u001b[1;33m)\u001b[0m\u001b[1;33m\u001b[0m\u001b[0m\n\u001b[0m\u001b[0;32m    116\u001b[0m             \u001b[1;32mexcept\u001b[0m \u001b[0mHTTPError\u001b[0m \u001b[1;32mas\u001b[0m \u001b[0me\u001b[0m\u001b[1;33m:\u001b[0m\u001b[1;33m\u001b[0m\u001b[0m\n\u001b[0;32m    117\u001b[0m                 \u001b[1;32mraise\u001b[0m \u001b[0mException\u001b[0m\u001b[1;33m(\u001b[0m\u001b[0merror_msg\u001b[0m\u001b[1;33m.\u001b[0m\u001b[0mformat\u001b[0m\u001b[1;33m(\u001b[0m\u001b[0morigin\u001b[0m\u001b[1;33m,\u001b[0m \u001b[0me\u001b[0m\u001b[1;33m.\u001b[0m\u001b[0mcode\u001b[0m\u001b[1;33m,\u001b[0m \u001b[0me\u001b[0m\u001b[1;33m.\u001b[0m\u001b[0mmsg\u001b[0m\u001b[1;33m)\u001b[0m\u001b[1;33m)\u001b[0m\u001b[1;33m\u001b[0m\u001b[0m\n",
      "\u001b[1;31mException\u001b[0m: URL fetch failure on https://github.com/fchollet/deep-learning-models/releases/download/v0.1/vgg19_weights_tf_dim_ordering_tf_kernels_notop.h5: None -- [WinError 10054] An existing connection was forcibly closed by the remote host"
     ]
    }
   ],
   "source": [
    "### TODO: Write your algorithm.\n",
    "### Feel free to use as many code cells as needed.\n",
    "print(test_files[0])\n",
    "img_path = test_files[0]\n",
    "if dog_detector(img_path):\n",
    "    print(\"Dog is Detected and its breed is\"+str(VGG19_predict_breed(img_path)))\n",
    "if face_detector(img_path):\n",
    "    print(\"Human is detected/n\")\n",
    "    print(\"Image Looks like-\"+str(VGG19_predict_breed(img_path)))\n",
    "    \n",
    "    #priVGG19_predict_breed(img_path)\n",
    "    \n",
    "\n"
   ]
  },
  {
   "cell_type": "code",
   "execution_count": 26,
   "metadata": {},
   "outputs": [
    {
     "name": "stderr",
     "output_type": "stream",
     "text": [
      "Cloning into 'Dog-Breed-Classifier'...\n",
      "fatal: unable to access 'https://github.com/saurabh-1991/Dog-Breed-Classifier/': OpenSSL SSL_connect: SSL_ERROR_SYSCALL in connection to github.com:443 \n"
     ]
    }
   ],
   "source": []
  },
  {
   "cell_type": "markdown",
   "metadata": {},
   "source": [
    "---\n",
    "<a id='step7'></a>\n",
    "## Step 7: Test Your Algorithm\n",
    "\n",
    "In this section, you will take your new algorithm for a spin!  What kind of dog does the algorithm think that __you__ look like?  If you have a dog, does it predict your dog's breed accurately?  If you have a cat, does it mistakenly think that your cat is a dog?\n",
    "\n",
    "### (IMPLEMENTATION) Test Your Algorithm on Sample Images!\n",
    "\n",
    "Test your algorithm at least six images on your computer.  Feel free to use any images you like.  Use at least two human and two dog images.  \n",
    "\n",
    "__Question 6:__ Is the output better than you expected :) ?  Or worse :( ?  Provide at least three possible points of improvement for your algorithm.\n",
    "\n",
    "__Answer:__ "
   ]
  },
  {
   "cell_type": "code",
   "execution_count": null,
   "metadata": {
    "collapsed": true
   },
   "outputs": [],
   "source": [
    "## TODO: Execute your algorithm from Step 6 on\n",
    "## at least 6 images on your computer.\n",
    "## Feel free to use as many code cells as needed."
   ]
  }
 ],
 "metadata": {
  "anaconda-cloud": {},
  "kernelspec": {
   "display_name": "Python 3",
   "language": "python",
   "name": "python3"
  },
  "language_info": {
   "codemirror_mode": {
    "name": "ipython",
    "version": 3
   },
   "file_extension": ".py",
   "mimetype": "text/x-python",
   "name": "python",
   "nbconvert_exporter": "python",
   "pygments_lexer": "ipython3",
   "version": "3.5.6"
  }
 },
 "nbformat": 4,
 "nbformat_minor": 1
}
